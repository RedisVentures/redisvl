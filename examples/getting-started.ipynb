{
 "cells": [
  {
   "cell_type": "markdown",
   "metadata": {},
   "source": [
    "## Redis Vector Loader (RedisVL)\n",
    "\n",
    "RedisVL is a command line interface (CLI) and Python library to help load and create vector search indicies within Redis. While Redis offers the ``redis-cli`` which can perform similar actions, ``redisvl`` aims to be more specific to setting up VSS use cases.\n",
    "\n",
    "This notebook will walk through\n",
    "1. Preparing a dataset with vectors.\n",
    "2. Writing data schema for ``redis``\n",
    "3. Loading the data and creating a vector search index\n",
    "4. Combining vector search with tag, text, and numeric search\n",
    "5. Performing queries\n",
    "\n",
    "Before running this notebook, be sure to\n",
    "1. Gave installed ``redisvl`` and have that environment active for this notebook.\n",
    "2. Have a running Redis instance with RediSearch > 2.4 running."
   ]
  },
  {
   "cell_type": "markdown",
   "metadata": {},
   "source": [
    "### 1.1 Creating Vector Embeddings\n",
    "\n",
    "For this example, we will use the following overly simplified dataset\n"
   ]
  },
  {
   "cell_type": "code",
   "execution_count": 2,
   "metadata": {},
   "outputs": [],
   "source": [
    "import pandas as pd\n",
    "import numpy as np\n",
    "\n",
    "data = pd.DataFrame(\n",
    "    {\n",
    "        \"users\": [\"john\", \"mary\", \"joe\"],\n",
    "        \"age\": [1, 2, 3],\n",
    "        \"job\": [\"engineer\", \"doctor\", \"dentist\"],\n",
    "        \"credit_score\": [\"high\", \"low\", \"medium\"]\n",
    "    }\n",
    ")"
   ]
  },
  {
   "cell_type": "markdown",
   "metadata": {},
   "source": [
    "This will make up 3 entries in Redis (hashes) each with 4 sub-keys (users, age, job, credit_score).\n",
    "\n",
    "Now, we want to add vectors to represent each user. These are just dummy vectors to illustrate the point, but more complex vectors can be created and used as well. For more information on creating embeddings, see this [article](https://mlops.community/vector-similarity-search-from-basics-to-production/).\n",
    "\n",
    "Let's add a ``vector`` column to the above dataframe"
   ]
  },
  {
   "cell_type": "code",
   "execution_count": 3,
   "metadata": {},
   "outputs": [
    {
     "data": {
      "text/html": [
       "<div>\n",
       "<style scoped>\n",
       "    .dataframe tbody tr th:only-of-type {\n",
       "        vertical-align: middle;\n",
       "    }\n",
       "\n",
       "    .dataframe tbody tr th {\n",
       "        vertical-align: top;\n",
       "    }\n",
       "\n",
       "    .dataframe thead th {\n",
       "        text-align: right;\n",
       "    }\n",
       "</style>\n",
       "<table border=\"1\" class=\"dataframe\">\n",
       "  <thead>\n",
       "    <tr style=\"text-align: right;\">\n",
       "      <th></th>\n",
       "      <th>users</th>\n",
       "      <th>age</th>\n",
       "      <th>job</th>\n",
       "      <th>credit_score</th>\n",
       "      <th>user_embedding</th>\n",
       "    </tr>\n",
       "  </thead>\n",
       "  <tbody>\n",
       "    <tr>\n",
       "      <th>0</th>\n",
       "      <td>john</td>\n",
       "      <td>1</td>\n",
       "      <td>engineer</td>\n",
       "      <td>high</td>\n",
       "      <td>b'\\xcd\\xcc\\xcc=\\xcd\\xcc\\xcc=\\x00\\x00\\x00?'</td>\n",
       "    </tr>\n",
       "    <tr>\n",
       "      <th>1</th>\n",
       "      <td>mary</td>\n",
       "      <td>2</td>\n",
       "      <td>doctor</td>\n",
       "      <td>low</td>\n",
       "      <td>b'\\xcd\\xcc\\xcc=\\xcd\\xcc\\xcc=\\x00\\x00\\x00?'</td>\n",
       "    </tr>\n",
       "    <tr>\n",
       "      <th>2</th>\n",
       "      <td>joe</td>\n",
       "      <td>3</td>\n",
       "      <td>dentist</td>\n",
       "      <td>medium</td>\n",
       "      <td>b'fff?fff?\\xcd\\xcc\\xcc='</td>\n",
       "    </tr>\n",
       "  </tbody>\n",
       "</table>\n",
       "</div>"
      ],
      "text/plain": [
       "  users  age       job credit_score  \\\n",
       "0  john    1  engineer         high   \n",
       "1  mary    2    doctor          low   \n",
       "2   joe    3   dentist       medium   \n",
       "\n",
       "                               user_embedding  \n",
       "0  b'\\xcd\\xcc\\xcc=\\xcd\\xcc\\xcc=\\x00\\x00\\x00?'  \n",
       "1  b'\\xcd\\xcc\\xcc=\\xcd\\xcc\\xcc=\\x00\\x00\\x00?'  \n",
       "2                    b'fff?fff?\\xcd\\xcc\\xcc='  "
      ]
     },
     "execution_count": 3,
     "metadata": {},
     "output_type": "execute_result"
    }
   ],
   "source": [
    "data[\"user_embedding\"] = [\n",
    "    np.array([0.1, 0.1, 0.5], dtype=np.float32).tobytes(),\n",
    "    np.array([0.1, 0.1, 0.5], dtype=np.float32).tobytes(),\n",
    "    np.array([0.9, 0.9, 0.1], dtype=np.float32).tobytes(),\n",
    "]\n",
    "data"
   ]
  },
  {
   "cell_type": "markdown",
   "metadata": {},
   "source": [
    "As seen above, the vectors themselves need to be turned into bytes before they can be loaded into Redis. Using ``NumPy``, this is fairly trivial. \n",
    "\n",
    "Our dataset is now ready to be used with ``redisvl``"
   ]
  },
  {
   "cell_type": "markdown",
   "metadata": {},
   "source": [
    "### 1.2 Writing data schema for ``redisvl``\n",
    "\n",
    "In order for ``redisvl`` to be flexible for many types of data, it uses a schema specified in either a python dictionary or a yaml file. There are a couple main components\n",
    "\n",
    "1. index specification\n",
    "2. field specification\n",
    "\n",
    "The index specification determines how data will be stored in Redis. This includes\n",
    "- ``name``: the name of the index\n",
    "- ``prefix``: key prefix for each loaded entry\n",
    "- ``key_field``: field within the dataset to use as unique keys\n",
    "\n",
    "The field specification determines what fields within the dataset will be available for queries. Each field corresponds to the name of a **column** within the dataset. The values within each specified column are arguments for the creation of that index that correspond directly to ``redis-py`` arguments.\n",
    "\n",
    "So for example, given the above dataset, the following schema can be used."
   ]
  },
  {
   "cell_type": "code",
   "execution_count": 4,
   "metadata": {},
   "outputs": [],
   "source": [
    "schema = {\n",
    "    \"index\": {\n",
    "        \"name\": \"user_index\",\n",
    "        \"prefix\": \"user:\",\n",
    "        \"key_field\": \"users\",\n",
    "        \"storage_type\": \"hash\",\n",
    "    },\n",
    "    \"fields\": {\n",
    "        # key is the field type\n",
    "        # value is the name of the column in the dataset(frame)\n",
    "        \"tag\": {\"credit_score\": {}},\n",
    "        \"text\": {\"job\": {}},\n",
    "        \"numeric\": {\"age\": {}},\n",
    "        \"vector\": {\n",
    "            \"user_embedding\": {\n",
    "                \"dims\": 3,\n",
    "                \"distance_metric\": \"cosine\",\n",
    "                \"algorithm\": \"flat\",\n",
    "                \"datatype\": \"float32\",\n",
    "            }\n",
    "        },\n",
    "    },\n",
    "}"
   ]
  },
  {
   "cell_type": "markdown",
   "metadata": {},
   "source": [
    "### 1.3 Creating a search index\n",
    "\n",
    "With the data and the index schema defined, we can now use ``redisvl`` as a library to create a search index as follows.\n",
    "\n",
    "Note that at this point, the index will have no entries. With Redis, this is fine as new entries from this index (or that follow the schema) will automatically be indexed in the background in Redis."
   ]
  },
  {
   "cell_type": "code",
   "execution_count": 5,
   "metadata": {},
   "outputs": [],
   "source": [
    "from redisvl.index import SearchIndex\n",
    "\n",
    "# construct a search index from the schema\n",
    "index = SearchIndex.from_dict(schema)\n",
    "\n",
    "# connect to local redis instance\n",
    "index.connect(\"localhost\", 6379)\n",
    "\n",
    "# create the index (no data yet)\n",
    "index.create()"
   ]
  },
  {
   "cell_type": "markdown",
   "metadata": {},
   "source": [
    "### 1.4 Loading Data with PandasReader\n",
    "\n",
    "In this section, we will take our dataframe we defined above and load it into our search index so that we can query it."
   ]
  },
  {
   "cell_type": "code",
   "execution_count": 6,
   "metadata": {},
   "outputs": [],
   "source": [
    "from redisvl.readers import PandasReader\n",
    "\n",
    "# Initialize a reader for a pandas dataframe.\n",
    "reader = PandasReader(data)\n",
    "\n",
    "# load the data into Redis\n",
    "index.load(reader)"
   ]
  },
  {
   "cell_type": "markdown",
   "metadata": {},
   "source": [
    "### 1.5 Running a Vector Search\n",
    "\n",
    "Next we will run a vector query on our newly populated index. This example will use a simple vector to demonstrate how vector similarity works. Vectors in production will be much larger than 3 floats and often require Machine Learning models (i.e. Huggingface sentence transformers) or an embeddings API (Cohere, OpenAI) to create."
   ]
  },
  {
   "cell_type": "code",
   "execution_count": 8,
   "metadata": {},
   "outputs": [],
   "source": [
    "from redisvl.query import create_vector_query\n",
    "\n",
    "# create a vector query returning a number of results\n",
    "# with specific fields to return.\n",
    "query = create_vector_query(\n",
    "    return_fields=[\"users\", \"age\", \"job\", \"credit_score\", \"vector_score\"],\n",
    "    number_of_results=3,\n",
    "    vector_param_name=\"vec_param\",\n",
    "    vector_field_name=\"user_embedding\",\n",
    "    sort=True\n",
    ")\n",
    "\n",
    "# establish a query vector to search against the data in Redis\n",
    "query_vector = np.array([0.1, 0.1, 0.5], dtype=np.float32).tobytes()\n",
    "\n",
    "# use the SearchIndex instance (or Redis client) to execute the query\n",
    "results = index.search(query, query_params={\"vec_param\": query_vector})"
   ]
  },
  {
   "cell_type": "code",
   "execution_count": 9,
   "metadata": {},
   "outputs": [
    {
     "name": "stdout",
     "output_type": "stream",
     "text": [
      "Score: 0\n",
      "Document {'id': 'user:john', 'payload': None, 'vector_score': '0', 'users': 'john', 'age': '1', 'job': 'engineer', 'credit_score': 'high'}\n",
      "Score: 0\n",
      "Document {'id': 'user:mary', 'payload': None, 'vector_score': '0', 'users': 'mary', 'age': '2', 'job': 'doctor', 'credit_score': 'low'}\n",
      "Score: 0.653301358223\n",
      "Document {'id': 'user:joe', 'payload': None, 'vector_score': '0.653301358223', 'users': 'joe', 'age': '3', 'job': 'dentist', 'credit_score': 'medium'}\n"
     ]
    }
   ],
   "source": [
    "for doc in results.docs:\n",
    "    print(\"Score:\", doc.vector_score)\n",
    "    print(doc)\n"
   ]
  },
  {
   "cell_type": "code",
   "execution_count": null,
   "metadata": {},
   "outputs": [],
   "source": []
  }
 ],
 "metadata": {
  "kernelspec": {
   "display_name": "Python 3.8.13 ('redisvl2')",
   "language": "python",
   "name": "python3"
  },
  "language_info": {
   "codemirror_mode": {
    "name": "ipython",
    "version": 3
   },
   "file_extension": ".py",
   "mimetype": "text/x-python",
   "name": "python",
   "nbconvert_exporter": "python",
   "pygments_lexer": "ipython3",
   "version": "3.8.13"
  },
  "orig_nbformat": 4,
  "vscode": {
   "interpreter": {
    "hash": "9b1e6e9c2967143209c2f955cb869d1d3234f92dc4787f49f155f3abbdfb1316"
   }
  }
 },
 "nbformat": 4,
 "nbformat_minor": 2
}
