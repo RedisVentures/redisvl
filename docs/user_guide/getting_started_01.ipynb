{
 "cells": [
  {
   "attachments": {},
   "cell_type": "markdown",
   "metadata": {},
   "source": [
    "# Getting Started with RedisVL\n",
    "\n",
    "RedisVL is a Python library with a dedicated CLI to help load and create vector search indices within Redis. While \n",
    "\n",
    "This notebook will walk through\n",
    "1. Preparing a dataset with vectors.\n",
    "2. Writing data schema for ``redis``\n",
    "3. Loading the data and creating a vector search index\n",
    "4. Performing queries\n",
    "\n",
    "Before running this notebook, be sure to\n",
    "1. Have installed ``redisvl`` and have that environment active for this notebook.\n",
    "2. Have a running Redis instance with RediSearch > 2.4 running."
   ]
  },
  {
   "attachments": {},
   "cell_type": "markdown",
   "metadata": {},
   "source": [
    "## Data Preparation\n",
    "\n",
    "For this example, we will use the following overly simplified dataset\n"
   ]
  },
  {
   "cell_type": "code",
   "execution_count": 1,
   "metadata": {},
   "outputs": [],
   "source": [
    "import numpy as np\n",
    "from pprint import pprint\n",
    "\n",
    "data = [\n",
    "    {'user': 'john', 'age': 1, 'job': 'engineer', 'credit_score': 'high'},\n",
    "    {'user': 'mary', 'age': 2, 'job': 'doctor', 'credit_score': 'low'},\n",
    "    {'user': 'joe', 'age': 3, 'job': 'dentist', 'credit_score': 'medium'}\n",
    "]"
   ]
  },
  {
   "attachments": {},
   "cell_type": "markdown",
   "metadata": {},
   "source": [
    "This will make up 3 entries in Redis (hashes) each with 4 sub-keys (users, age, job, credit_score).\n",
    "\n",
    "Now, we want to add vectors to represent each user. These are just dummy vectors to illustrate the point, but more complex vectors can be created and used as well. For more information on creating embeddings, see this [article](https://mlops.community/vector-similarity-search-from-basics-to-production/).\n"
   ]
  },
  {
   "cell_type": "code",
   "execution_count": 2,
   "metadata": {},
   "outputs": [
    {
     "name": "stdout",
     "output_type": "stream",
     "text": [
      "[{'age': 1,\n",
      "  'credit_score': 'high',\n",
      "  'job': 'engineer',\n",
      "  'user': 'john',\n",
      "  'user_embedding': b'\\xcd\\xcc\\xcc=\\xcd\\xcc\\xcc=\\x00\\x00\\x00?'},\n",
      " {'age': 2,\n",
      "  'credit_score': 'low',\n",
      "  'job': 'doctor',\n",
      "  'user': 'mary',\n",
      "  'user_embedding': b'\\xcd\\xcc\\xcc=\\xcd\\xcc\\xcc=\\x00\\x00\\x00?'},\n",
      " {'age': 3,\n",
      "  'credit_score': 'medium',\n",
      "  'job': 'dentist',\n",
      "  'user': 'joe',\n",
      "  'user_embedding': b'fff?fff?\\xcd\\xcc\\xcc='}]\n"
     ]
    }
   ],
   "source": [
    "# converted to bytes for redis\n",
    "vectors = [\n",
    "    np.array([0.1, 0.1, 0.5], dtype=np.float32).tobytes(),\n",
    "    np.array([0.1, 0.1, 0.5], dtype=np.float32).tobytes(),\n",
    "    np.array([0.9, 0.9, 0.1], dtype=np.float32).tobytes(),\n",
    "]\n",
    "\n",
    "for record, vector in zip(data, vectors):\n",
    "    record[\"user_embedding\"] = vector\n",
    "\n",
    "pprint(data)"
   ]
  },
  {
   "attachments": {},
   "cell_type": "markdown",
   "metadata": {},
   "source": [
    "As seen above, the vectors themselves need to be turned into bytes before they can be loaded into Redis. Using ``NumPy``, this is fairly trivial. \n",
    "\n",
    "Our dataset is now ready to be used with ``redisvl``"
   ]
  },
  {
   "attachments": {},
   "cell_type": "markdown",
   "metadata": {},
   "source": [
    "## Define Index Schema\n",
    "\n",
    "In order for ``redisvl`` to be flexible for many types of data, it uses a schema specified in either a python dictionary or a yaml file. There are a couple main components\n",
    "\n",
    "1. index specification\n",
    "2. field specification\n",
    "\n",
    "The index specification determines how data will be stored in Redis. This includes\n",
    "- ``name``: the name of the index\n",
    "- (Optional) ``prefix``: key prefix for each loaded entry\n",
    "- (Optional) ``key_field``: field within the dataset to use as unique keys. If not specified, a unique key will be generated for each entry.\n",
    "\n",
    "The field specification determines what fields within the dataset will be available for queries. Each field corresponds to the name of a **column** within the dataset. The values within each specified column are arguments for the creation of that index that correspond directly to ``redis-py`` arguments.\n",
    "\n",
    "So for example, given the above dataset, the following schema can be used.\n",
    "\n",
    "\n",
    "```yaml\n",
    "\n",
    "index:\n",
    "  name: user_index\n",
    "  prefix: v1\n",
    "  key_field: user\n",
    "  storage_type: hash\n",
    "\n",
    "fields:\n",
    "    # define tag fields\n",
    "    tag:\n",
    "        - name: user\n",
    "        - name: job\n",
    "        - name: credit_store\n",
    "    # define numeric fields\n",
    "    numeric:\n",
    "        - name: age\n",
    "    # define vector fields\n",
    "    vector:\n",
    "        - name: user_embedding\n",
    "        algorithm: hnsw\n",
    "        distance_metric: cosine\n",
    "\n",
    "\n",
    "```\n",
    "\n",
    "In Python, this looks like:"
   ]
  },
  {
   "cell_type": "code",
   "execution_count": 3,
   "metadata": {},
   "outputs": [],
   "source": [
    "schema = {\n",
    "    \"index\": {\n",
    "        \"name\": \"user_index\",\n",
    "        \"prefix\": \"v1\",\n",
    "        \"key_field\": \"user\",\n",
    "        \"storage_type\": \"hash\",\n",
    "    },\n",
    "    \"fields\": {\n",
    "        \"tag\": [{\"name\": \"credit_score\"}],\n",
    "        \"text\": [{\"name\": \"job\"}],\n",
    "        \"numeric\": [{\"name\": \"age\"}],\n",
    "        \"vector\": [{\n",
    "                \"name\": \"user_embedding\",\n",
    "                \"dims\": 3,\n",
    "                \"distance_metric\": \"cosine\",\n",
    "                \"algorithm\": \"flat\",\n",
    "                \"datatype\": \"float32\"}\n",
    "        ]\n",
    "    },\n",
    "}\n"
   ]
  },
  {
   "attachments": {},
   "cell_type": "markdown",
   "metadata": {},
   "source": [
    "## Create a ``SearchIndex``\n",
    "\n",
    "With the data and the index schema defined, we can now use ``redisvl`` as a library to create a search index as follows.\n",
    "\n",
    "Note that at this point, the index will have no entries. With Redis, this is fine as new entries from this index (or that follow the schema) will automatically be indexed in the background in Redis."
   ]
  },
  {
   "cell_type": "code",
   "execution_count": 4,
   "metadata": {},
   "outputs": [],
   "source": [
    "from redisvl.index import SearchIndex\n",
    "\n",
    "# construct a search index from the schema\n",
    "index = SearchIndex.from_dict(schema) # or SearchIndex.from_yaml(\"schema.yaml\") for yaml files\n",
    "\n",
    "# connect to local redis instance\n",
    "index.connect(\"redis://localhost:6379\")\n",
    "\n",
    "# create the index (no data yet)\n",
    "index.create(overwrite=True)"
   ]
  },
  {
   "cell_type": "code",
   "execution_count": 6,
   "metadata": {},
   "outputs": [
    {
     "name": "stdout",
     "output_type": "stream",
     "text": [
      "\u001b[32m16:42:28\u001b[0m \u001b[35msam.partee-NW9MQX5Y74\u001b[0m \u001b[34mredisvl.cli.index[4009]\u001b[0m \u001b[1;30mINFO\u001b[0m Indices:\n",
      "\u001b[32m16:42:28\u001b[0m \u001b[35msam.partee-NW9MQX5Y74\u001b[0m \u001b[34mredisvl.cli.index[4009]\u001b[0m \u001b[1;30mINFO\u001b[0m 1. user_index\n"
     ]
    }
   ],
   "source": [
    "# use the CLI to see the created index\n",
    "!rvl index listall"
   ]
  },
  {
   "cell_type": "markdown",
   "metadata": {},
   "source": [
    "## Load Data into the Index\n",
    "\n",
    "Now that an index exists, data can be loaded into redis through the ``SearchIndex.load()`` function"
   ]
  },
  {
   "cell_type": "code",
   "execution_count": 7,
   "metadata": {},
   "outputs": [],
   "source": [
    "# load expects an iterable of dictionaries\n",
    "index.load(data)"
   ]
  },
  {
   "attachments": {},
   "cell_type": "markdown",
   "metadata": {},
   "source": [
    "## Executing Queries\n",
    "\n",
    "Next we will run a vector query on our newly populated index. This example will use a simple vector to demonstrate how vector similarity works. Vectors in production will be much larger than 3 floats and often require Machine Learning models (i.e. Huggingface sentence transformers) or an embeddings API (Cohere, OpenAI) to create."
   ]
  },
  {
   "cell_type": "code",
   "execution_count": 8,
   "metadata": {},
   "outputs": [],
   "source": [
    "from redisvl.query import VectorQuery\n",
    "\n",
    "# create a vector query returning a number of results\n",
    "# with specific fields to return.\n",
    "query = VectorQuery(\n",
    "    vector=[0.1, 0.1, 0.5],\n",
    "    vector_field_name=\"user_embedding\",\n",
    "    return_fields=[\"user\", \"age\", \"job\", \"credit_score\", \"vector_distance\"],\n",
    "    num_results=3\n",
    ")\n",
    "\n",
    "# use the SearchIndex instance (or Redis client) to execute the query\n",
    "results = index.query(query)"
   ]
  },
  {
   "cell_type": "code",
   "execution_count": 10,
   "metadata": {},
   "outputs": [
    {
     "name": "stdout",
     "output_type": "stream",
     "text": [
      "Score: 0\n",
      "Document {'id': 'v1:john', 'payload': None, 'vector_distance': '0', 'user': 'john', 'age': '1', 'job': 'engineer', 'credit_score': 'high'}\n",
      "Score: 0\n",
      "Document {'id': 'v1:mary', 'payload': None, 'vector_distance': '0', 'user': 'mary', 'age': '2', 'job': 'doctor', 'credit_score': 'low'}\n",
      "Score: 0.653301358223\n",
      "Document {'id': 'v1:joe', 'payload': None, 'vector_distance': '0.653301358223', 'user': 'joe', 'age': '3', 'job': 'dentist', 'credit_score': 'medium'}\n"
     ]
    }
   ],
   "source": [
    "for doc in results.docs:\n",
    "    print(\"Score:\", doc.vector_distance)\n",
    "    print(doc)\n"
   ]
  },
  {
   "cell_type": "markdown",
   "metadata": {},
   "source": [
    "## Connecting to an Existing Index\n",
    "\n",
    "If you have an existing index, you can connect to it using the ``SearchIndex.from_existing()`` function. This will return a ``SearchIndex`` object that can be used to execute queries.\n"
   ]
  },
  {
   "cell_type": "code",
   "execution_count": 11,
   "metadata": {},
   "outputs": [
    {
     "ename": "ResponseError",
     "evalue": "Unknown Index name",
     "output_type": "error",
     "traceback": [
      "\u001b[0;31m---------------------------------------------------------------------------\u001b[0m",
      "\u001b[0;31mResponseError\u001b[0m                             Traceback (most recent call last)",
      "Cell \u001b[0;32mIn[11], line 7\u001b[0m\n\u001b[1;32m      4\u001b[0m redis_client \u001b[39m=\u001b[39m Redis(\u001b[39m\"\u001b[39m\u001b[39mlocalhost\u001b[39m\u001b[39m\"\u001b[39m, \u001b[39m6379\u001b[39m)\n\u001b[1;32m      6\u001b[0m \u001b[39m# create a new SearchIndex instance from an existing index\u001b[39;00m\n\u001b[0;32m----> 7\u001b[0m existing_index \u001b[39m=\u001b[39m SearchIndex\u001b[39m.\u001b[39;49mfrom_existing(redis_client, \u001b[39m\"\u001b[39;49m\u001b[39muser_index\u001b[39;49m\u001b[39m\"\u001b[39;49m)\n\u001b[1;32m      9\u001b[0m \u001b[39m# run the same query\u001b[39;00m\n\u001b[1;32m     10\u001b[0m existing_index\u001b[39m.\u001b[39mquery(query)\n",
      "File \u001b[0;32m~/Dropbox/Redis/data-loader/redisvl/index.py:107\u001b[0m, in \u001b[0;36mfrom_existing\u001b[0;34m(cls, client, index_name)\u001b[0m\n\u001b[1;32m    103\u001b[0m @classmethod\n\u001b[1;32m    104\u001b[0m def from_existing(cls, client: redis.Redis, index_name: str):\n\u001b[1;32m    105\u001b[0m     \"\"\"Create a SearchIndex from an existing index in Redis\"\"\"\n\u001b[1;32m    106\u001b[0m     # TODO assert client connected\n\u001b[0;32m--> 107\u001b[0m     # TODO try/except\n\u001b[1;32m    108\u001b[0m     info = convert_bytes(client.ft(index_name).info())  # TODO catch response error\n\u001b[1;32m    109\u001b[0m     index_definition = make_dict(info[\"index_definition\"])\n",
      "File \u001b[0;32m~/.virtualenvs/rvl/lib/python3.8/site-packages/redis/commands/search/commands.py:370\u001b[0m, in \u001b[0;36mSearchCommands.info\u001b[0;34m(self)\u001b[0m\n\u001b[1;32m    362\u001b[0m \u001b[39mdef\u001b[39;00m \u001b[39minfo\u001b[39m(\u001b[39mself\u001b[39m):\n\u001b[1;32m    363\u001b[0m \u001b[39m    \u001b[39m\u001b[39m\"\"\"\u001b[39;00m\n\u001b[1;32m    364\u001b[0m \u001b[39m    Get info an stats about the the current index, including the number of\u001b[39;00m\n\u001b[1;32m    365\u001b[0m \u001b[39m    documents, memory consumption, etc\u001b[39;00m\n\u001b[1;32m    366\u001b[0m \n\u001b[1;32m    367\u001b[0m \u001b[39m    For more information see `FT.INFO <https://redis.io/commands/ft.info>`_.\u001b[39;00m\n\u001b[1;32m    368\u001b[0m \u001b[39m    \"\"\"\u001b[39;00m\n\u001b[0;32m--> 370\u001b[0m     res \u001b[39m=\u001b[39m \u001b[39mself\u001b[39;49m\u001b[39m.\u001b[39;49mexecute_command(INFO_CMD, \u001b[39mself\u001b[39;49m\u001b[39m.\u001b[39;49mindex_name)\n\u001b[1;32m    371\u001b[0m     it \u001b[39m=\u001b[39m \u001b[39mmap\u001b[39m(to_string, res)\n\u001b[1;32m    372\u001b[0m     \u001b[39mreturn\u001b[39;00m \u001b[39mdict\u001b[39m(\u001b[39mzip\u001b[39m(it, it))\n",
      "File \u001b[0;32m~/.virtualenvs/rvl/lib/python3.8/site-packages/redis/client.py:1269\u001b[0m, in \u001b[0;36mRedis.execute_command\u001b[0;34m(self, *args, **options)\u001b[0m\n\u001b[1;32m   1266\u001b[0m conn \u001b[39m=\u001b[39m \u001b[39mself\u001b[39m\u001b[39m.\u001b[39mconnection \u001b[39mor\u001b[39;00m pool\u001b[39m.\u001b[39mget_connection(command_name, \u001b[39m*\u001b[39m\u001b[39m*\u001b[39moptions)\n\u001b[1;32m   1268\u001b[0m \u001b[39mtry\u001b[39;00m:\n\u001b[0;32m-> 1269\u001b[0m     \u001b[39mreturn\u001b[39;00m conn\u001b[39m.\u001b[39;49mretry\u001b[39m.\u001b[39;49mcall_with_retry(\n\u001b[1;32m   1270\u001b[0m         \u001b[39mlambda\u001b[39;49;00m: \u001b[39mself\u001b[39;49m\u001b[39m.\u001b[39;49m_send_command_parse_response(\n\u001b[1;32m   1271\u001b[0m             conn, command_name, \u001b[39m*\u001b[39;49margs, \u001b[39m*\u001b[39;49m\u001b[39m*\u001b[39;49moptions\n\u001b[1;32m   1272\u001b[0m         ),\n\u001b[1;32m   1273\u001b[0m         \u001b[39mlambda\u001b[39;49;00m error: \u001b[39mself\u001b[39;49m\u001b[39m.\u001b[39;49m_disconnect_raise(conn, error),\n\u001b[1;32m   1274\u001b[0m     )\n\u001b[1;32m   1275\u001b[0m \u001b[39mfinally\u001b[39;00m:\n\u001b[1;32m   1276\u001b[0m     \u001b[39mif\u001b[39;00m \u001b[39mnot\u001b[39;00m \u001b[39mself\u001b[39m\u001b[39m.\u001b[39mconnection:\n",
      "File \u001b[0;32m~/.virtualenvs/rvl/lib/python3.8/site-packages/redis/retry.py:46\u001b[0m, in \u001b[0;36mRetry.call_with_retry\u001b[0;34m(self, do, fail)\u001b[0m\n\u001b[1;32m     44\u001b[0m \u001b[39mwhile\u001b[39;00m \u001b[39mTrue\u001b[39;00m:\n\u001b[1;32m     45\u001b[0m     \u001b[39mtry\u001b[39;00m:\n\u001b[0;32m---> 46\u001b[0m         \u001b[39mreturn\u001b[39;00m do()\n\u001b[1;32m     47\u001b[0m     \u001b[39mexcept\u001b[39;00m \u001b[39mself\u001b[39m\u001b[39m.\u001b[39m_supported_errors \u001b[39mas\u001b[39;00m error:\n\u001b[1;32m     48\u001b[0m         failures \u001b[39m+\u001b[39m\u001b[39m=\u001b[39m \u001b[39m1\u001b[39m\n",
      "File \u001b[0;32m~/.virtualenvs/rvl/lib/python3.8/site-packages/redis/client.py:1270\u001b[0m, in \u001b[0;36mRedis.execute_command.<locals>.<lambda>\u001b[0;34m()\u001b[0m\n\u001b[1;32m   1266\u001b[0m conn \u001b[39m=\u001b[39m \u001b[39mself\u001b[39m\u001b[39m.\u001b[39mconnection \u001b[39mor\u001b[39;00m pool\u001b[39m.\u001b[39mget_connection(command_name, \u001b[39m*\u001b[39m\u001b[39m*\u001b[39moptions)\n\u001b[1;32m   1268\u001b[0m \u001b[39mtry\u001b[39;00m:\n\u001b[1;32m   1269\u001b[0m     \u001b[39mreturn\u001b[39;00m conn\u001b[39m.\u001b[39mretry\u001b[39m.\u001b[39mcall_with_retry(\n\u001b[0;32m-> 1270\u001b[0m         \u001b[39mlambda\u001b[39;00m: \u001b[39mself\u001b[39;49m\u001b[39m.\u001b[39;49m_send_command_parse_response(\n\u001b[1;32m   1271\u001b[0m             conn, command_name, \u001b[39m*\u001b[39;49margs, \u001b[39m*\u001b[39;49m\u001b[39m*\u001b[39;49moptions\n\u001b[1;32m   1272\u001b[0m         ),\n\u001b[1;32m   1273\u001b[0m         \u001b[39mlambda\u001b[39;00m error: \u001b[39mself\u001b[39m\u001b[39m.\u001b[39m_disconnect_raise(conn, error),\n\u001b[1;32m   1274\u001b[0m     )\n\u001b[1;32m   1275\u001b[0m \u001b[39mfinally\u001b[39;00m:\n\u001b[1;32m   1276\u001b[0m     \u001b[39mif\u001b[39;00m \u001b[39mnot\u001b[39;00m \u001b[39mself\u001b[39m\u001b[39m.\u001b[39mconnection:\n",
      "File \u001b[0;32m~/.virtualenvs/rvl/lib/python3.8/site-packages/redis/client.py:1246\u001b[0m, in \u001b[0;36mRedis._send_command_parse_response\u001b[0;34m(self, conn, command_name, *args, **options)\u001b[0m\n\u001b[1;32m   1242\u001b[0m \u001b[39m\u001b[39m\u001b[39m\"\"\"\u001b[39;00m\n\u001b[1;32m   1243\u001b[0m \u001b[39mSend a command and parse the response\u001b[39;00m\n\u001b[1;32m   1244\u001b[0m \u001b[39m\"\"\"\u001b[39;00m\n\u001b[1;32m   1245\u001b[0m conn\u001b[39m.\u001b[39msend_command(\u001b[39m*\u001b[39margs)\n\u001b[0;32m-> 1246\u001b[0m \u001b[39mreturn\u001b[39;00m \u001b[39mself\u001b[39;49m\u001b[39m.\u001b[39;49mparse_response(conn, command_name, \u001b[39m*\u001b[39;49m\u001b[39m*\u001b[39;49moptions)\n",
      "File \u001b[0;32m~/.virtualenvs/rvl/lib/python3.8/site-packages/redis/client.py:1286\u001b[0m, in \u001b[0;36mRedis.parse_response\u001b[0;34m(self, connection, command_name, **options)\u001b[0m\n\u001b[1;32m   1284\u001b[0m         options\u001b[39m.\u001b[39mpop(NEVER_DECODE)\n\u001b[1;32m   1285\u001b[0m     \u001b[39melse\u001b[39;00m:\n\u001b[0;32m-> 1286\u001b[0m         response \u001b[39m=\u001b[39m connection\u001b[39m.\u001b[39;49mread_response()\n\u001b[1;32m   1287\u001b[0m \u001b[39mexcept\u001b[39;00m ResponseError:\n\u001b[1;32m   1288\u001b[0m     \u001b[39mif\u001b[39;00m EMPTY_RESPONSE \u001b[39min\u001b[39;00m options:\n",
      "File \u001b[0;32m~/.virtualenvs/rvl/lib/python3.8/site-packages/redis/connection.py:905\u001b[0m, in \u001b[0;36mAbstractConnection.read_response\u001b[0;34m(self, disable_decoding, disconnect_on_error)\u001b[0m\n\u001b[1;32m    902\u001b[0m     \u001b[39mself\u001b[39m\u001b[39m.\u001b[39mnext_health_check \u001b[39m=\u001b[39m time() \u001b[39m+\u001b[39m \u001b[39mself\u001b[39m\u001b[39m.\u001b[39mhealth_check_interval\n\u001b[1;32m    904\u001b[0m \u001b[39mif\u001b[39;00m \u001b[39misinstance\u001b[39m(response, ResponseError):\n\u001b[0;32m--> 905\u001b[0m     \u001b[39mraise\u001b[39;00m response\n\u001b[1;32m    906\u001b[0m \u001b[39mreturn\u001b[39;00m response\n",
      "\u001b[0;31mResponseError\u001b[0m: Unknown Index name"
     ]
    }
   ],
   "source": [
    "from redis import Redis\n",
    "\n",
    "# initialize a redis client to connect to existing index\n",
    "redis_client = Redis(\"localhost\", 6379)\n",
    "\n",
    "# create a new SearchIndex instance from an existing index\n",
    "existing_index = SearchIndex.from_existing(redis_client, \"user_index\")\n",
    "\n",
    "# run the same query\n",
    "existing_index.query(query)\n",
    "\n",
    "for doc in results.docs:\n",
    "    print(\"Score:\", doc.vector_distance)\n",
    "    print(doc)"
   ]
  },
  {
   "cell_type": "markdown",
   "metadata": {},
   "source": [
    "## Asynchronous Search\n",
    "\n",
    "The AsyncSearchIndex class allows for queries, index creation, and data loading to be done asynchronously. This is useful for large datasets that may take a long time to load into Redis, for queries that may take a long time to execute, or for asynchronous applications that need to execute queries in the background like a FastAPI application."
   ]
  },
  {
   "cell_type": "code",
   "execution_count": 12,
   "metadata": {},
   "outputs": [
    {
     "name": "stdout",
     "output_type": "stream",
     "text": [
      "Score: 0\n",
      "Document {'id': 'v1:john', 'payload': None, 'vector_distance': '0', 'user': 'john', 'age': '1', 'job': 'engineer', 'credit_score': 'high'}\n",
      "Score: 0\n",
      "Document {'id': 'v1:mary', 'payload': None, 'vector_distance': '0', 'user': 'mary', 'age': '2', 'job': 'doctor', 'credit_score': 'low'}\n",
      "Score: 0.653301358223\n",
      "Document {'id': 'v1:joe', 'payload': None, 'vector_distance': '0.653301358223', 'user': 'joe', 'age': '3', 'job': 'dentist', 'credit_score': 'medium'}\n"
     ]
    }
   ],
   "source": [
    "## Asynchronous Search\n",
    "\n",
    "from redisvl.index import AsyncSearchIndex\n",
    "\n",
    "# construct a search index from the schema\n",
    "index = AsyncSearchIndex.from_dict(schema)\n",
    "\n",
    "# connect to local redis instance\n",
    "index.connect(\"redis://localhost:6379\")\n",
    "\n",
    "# create the index (no data yet)\n",
    "await index.create(overwrite=True)\n",
    "\n",
    "# load the data again but asynchronously\n",
    "await index.load(data)\n",
    "\n",
    "# run the same vector query but asynchronously\n",
    "results = await index.query(query)\n",
    "\n",
    "for doc in results.docs:\n",
    "    print(\"Score:\", doc.vector_distance)\n",
    "    print(doc)"
   ]
  },
  {
   "cell_type": "code",
   "execution_count": null,
   "metadata": {},
   "outputs": [],
   "source": []
  }
 ],
 "metadata": {
  "kernelspec": {
   "display_name": "Python 3.8.13 ('redisvl2')",
   "language": "python",
   "name": "python3"
  },
  "language_info": {
   "codemirror_mode": {
    "name": "ipython",
    "version": 3
   },
   "file_extension": ".py",
   "mimetype": "text/x-python",
   "name": "python",
   "nbconvert_exporter": "python",
   "pygments_lexer": "ipython3",
   "version": "3.8.13"
  },
  "orig_nbformat": 4,
  "vscode": {
   "interpreter": {
    "hash": "9b1e6e9c2967143209c2f955cb869d1d3234f92dc4787f49f155f3abbdfb1316"
   }
  }
 },
 "nbformat": 4,
 "nbformat_minor": 2
}
