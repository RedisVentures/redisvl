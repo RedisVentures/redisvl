{
 "cells": [
  {
   "attachments": {},
   "cell_type": "markdown",
   "metadata": {},
   "source": [
    "# Getting Started with RedisVL\n",
    "\n",
    "RedisVL is a Python library with a dedicated CLI to help load and create vector search indices within Redis. While \n",
    "\n",
    "This notebook will walk through\n",
    "1. Preparing a dataset with vectors.\n",
    "2. Writing data schema for ``redis``\n",
    "3. Loading the data and creating a vector search index\n",
    "4. Performing queries\n",
    "\n",
    "Before running this notebook, be sure to\n",
    "1. Gave installed ``rvl`` and have that environment active for this notebook.\n",
    "2. Have a running Redis instance with RediSearch > 2.4 running."
   ]
  },
  {
   "attachments": {},
   "cell_type": "markdown",
   "metadata": {},
   "source": [
    "## Data Preparation\n",
    "\n",
    "For this example, we will use the following overly simplified dataset\n"
   ]
  },
  {
   "cell_type": "code",
   "execution_count": 9,
   "metadata": {},
   "outputs": [],
   "source": [
    "import numpy as np\n",
    "from pprint import pprint\n",
    "\n",
    "data = [\n",
    "    {'user': 'john', 'age': 1, 'job': 'engineer', 'credit_score': 'high'},\n",
    "    {'user': 'mary', 'age': 2, 'job': 'doctor', 'credit_score': 'low'},\n",
    "    {'user': 'joe', 'age': 3, 'job': 'dentist', 'credit_score': 'medium'}\n",
    "]"
   ]
  },
  {
   "attachments": {},
   "cell_type": "markdown",
   "metadata": {},
   "source": [
    "This will make up 3 entries in Redis (hashes) each with 4 sub-keys (users, age, job, credit_score).\n",
    "\n",
    "Now, we want to add vectors to represent each user. These are just dummy vectors to illustrate the point, but more complex vectors can be created and used as well. For more information on creating embeddings, see this [article](https://mlops.community/vector-similarity-search-from-basics-to-production/).\n"
   ]
  },
  {
   "cell_type": "code",
   "execution_count": 10,
   "metadata": {},
   "outputs": [
    {
     "name": "stdout",
     "output_type": "stream",
     "text": [
      "[{'age': 1,\n",
      "  'credit_score': 'high',\n",
      "  'job': 'engineer',\n",
      "  'user': 'john',\n",
      "  'user_embedding': b'\\xcd\\xcc\\xcc=\\xcd\\xcc\\xcc=\\x00\\x00\\x00?'},\n",
      " {'age': 2,\n",
      "  'credit_score': 'low',\n",
      "  'job': 'doctor',\n",
      "  'user': 'mary',\n",
      "  'user_embedding': b'\\xcd\\xcc\\xcc=\\xcd\\xcc\\xcc=\\x00\\x00\\x00?'},\n",
      " {'age': 3,\n",
      "  'credit_score': 'medium',\n",
      "  'job': 'dentist',\n",
      "  'user': 'joe',\n",
      "  'user_embedding': b'fff?fff?\\xcd\\xcc\\xcc='}]\n"
     ]
    }
   ],
   "source": [
    "# converted to bytes for redis\n",
    "vectors = [\n",
    "    np.array([0.1, 0.1, 0.5], dtype=np.float32).tobytes(),\n",
    "    np.array([0.1, 0.1, 0.5], dtype=np.float32).tobytes(),\n",
    "    np.array([0.9, 0.9, 0.1], dtype=np.float32).tobytes(),\n",
    "]\n",
    "\n",
    "for record, vector in zip(data, vectors):\n",
    "    record[\"user_embedding\"] = vector\n",
    "\n",
    "pprint(data)"
   ]
  },
  {
   "attachments": {},
   "cell_type": "markdown",
   "metadata": {},
   "source": [
    "As seen above, the vectors themselves need to be turned into bytes before they can be loaded into Redis. Using ``NumPy``, this is fairly trivial. \n",
    "\n",
    "Our dataset is now ready to be used with ``redisvl``"
   ]
  },
  {
   "attachments": {},
   "cell_type": "markdown",
   "metadata": {},
   "source": [
    "## Define Index Schema\n",
    "\n",
    "In order for ``redisvl`` to be flexible for many types of data, it uses a schema specified in either a python dictionary or a yaml file. There are a couple main components\n",
    "\n",
    "1. index specification\n",
    "2. field specification\n",
    "\n",
    "The index specification determines how data will be stored in Redis. This includes\n",
    "- ``name``: the name of the index\n",
    "- ``prefix``: key prefix for each loaded entry\n",
    "- ``key_field``: field within the dataset to use as unique keys\n",
    "\n",
    "The field specification determines what fields within the dataset will be available for queries. Each field corresponds to the name of a **column** within the dataset. The values within each specified column are arguments for the creation of that index that correspond directly to ``redis-py`` arguments.\n",
    "\n",
    "So for example, given the above dataset, the following schema can be used."
   ]
  },
  {
   "cell_type": "code",
   "execution_count": 11,
   "metadata": {},
   "outputs": [],
   "source": [
    "schema = {\n",
    "    \"index\": {\n",
    "        \"name\": \"user_index\",\n",
    "        \"prefix\": \"v1\",\n",
    "        \"key_field\": \"user\",\n",
    "        \"storage_type\": \"hash\",\n",
    "    },\n",
    "    \"fields\": {\n",
    "        \"tag\": [{\"name\": \"credit_score\"}],\n",
    "        \"text\": [{\"name\": \"job\"}],\n",
    "        \"numeric\": [{\"name\": \"age\"}],\n",
    "        \"vector\": [{\n",
    "                \"name\": \"user_embedding\",\n",
    "                \"dims\": 3,\n",
    "                \"distance_metric\": \"cosine\",\n",
    "                \"algorithm\": \"flat\",\n",
    "                \"datatype\": \"float32\"}\n",
    "        ]\n",
    "    },\n",
    "}\n"
   ]
  },
  {
   "attachments": {},
   "cell_type": "markdown",
   "metadata": {},
   "source": [
    "## Create a ``SearchIndex``\n",
    "\n",
    "With the data and the index schema defined, we can now use ``redisvl`` as a library to create a search index as follows.\n",
    "\n",
    "Note that at this point, the index will have no entries. With Redis, this is fine as new entries from this index (or that follow the schema) will automatically be indexed in the background in Redis."
   ]
  },
  {
   "cell_type": "code",
   "execution_count": 12,
   "metadata": {},
   "outputs": [],
   "source": [
    "from redisvl.index import SearchIndex\n",
    "\n",
    "# construct a search index from the schema\n",
    "index = SearchIndex.from_dict(schema)\n",
    "\n",
    "# connect to local redis instance\n",
    "index.connect(\"redis://localhost:6379\")\n",
    "\n",
    "# create the index (no data yet)\n",
    "index.create(overwrite=True)"
   ]
  },
  {
   "cell_type": "code",
   "execution_count": 13,
   "metadata": {},
   "outputs": [
    {
     "name": "stdout",
     "output_type": "stream",
     "text": [
      "\u001b[32m14:26:12\u001b[0m \u001b[35msam.partee-NW9MQX5Y74\u001b[0m \u001b[34mredisvl.cli.index[17001]\u001b[0m \u001b[1;30mINFO\u001b[0m Indices:\n",
      "\u001b[32m14:26:12\u001b[0m \u001b[35msam.partee-NW9MQX5Y74\u001b[0m \u001b[34mredisvl.cli.index[17001]\u001b[0m \u001b[1;30mINFO\u001b[0m 1. user_index\n"
     ]
    }
   ],
   "source": [
    "# use the CLI to see the created index\n",
    "!rvl index listall"
   ]
  },
  {
   "cell_type": "markdown",
   "metadata": {},
   "source": [
    "## Load Data into the Index\n",
    "\n",
    "Now that an index exists, data can be loaded into redis through the ``SearchIndex.load()`` function"
   ]
  },
  {
   "cell_type": "code",
   "execution_count": 14,
   "metadata": {},
   "outputs": [],
   "source": [
    "# load expects an iterable of dictionaries\n",
    "index.load(data)"
   ]
  },
  {
   "attachments": {},
   "cell_type": "markdown",
   "metadata": {},
   "source": [
    "## Executing Queries\n",
    "\n",
    "Next we will run a vector query on our newly populated index. This example will use a simple vector to demonstrate how vector similarity works. Vectors in production will be much larger than 3 floats and often require Machine Learning models (i.e. Huggingface sentence transformers) or an embeddings API (Cohere, OpenAI) to create."
   ]
  },
  {
   "cell_type": "code",
   "execution_count": 15,
   "metadata": {},
   "outputs": [],
   "source": [
    "from redisvl.query import create_vector_query\n",
    "\n",
    "# create a vector query returning a number of results\n",
    "# with specific fields to return.\n",
    "query = create_vector_query(\n",
    "    return_fields=[\"users\", \"age\", \"job\", \"credit_score\", \"vector_score\"],\n",
    "    number_of_results=3,\n",
    "    vector_field_name=\"user_embedding\"\n",
    ")\n",
    "\n",
    "# establish a query vector to search against the data in Redis\n",
    "query_vector = np.array([0.1, 0.1, 0.5], dtype=np.float32).tobytes()\n",
    "\n",
    "# use the SearchIndex instance (or Redis client) to execute the query\n",
    "results = index.search(query, query_params={\"vector\": query_vector})"
   ]
  },
  {
   "cell_type": "code",
   "execution_count": 16,
   "metadata": {},
   "outputs": [
    {
     "name": "stdout",
     "output_type": "stream",
     "text": [
      "Score: 0\n",
      "Document {'id': 'v1:john', 'payload': None, 'vector_score': '0', 'age': '1', 'job': 'engineer', 'credit_score': 'high'}\n",
      "Score: 0\n",
      "Document {'id': 'v1:mary', 'payload': None, 'vector_score': '0', 'age': '2', 'job': 'doctor', 'credit_score': 'low'}\n",
      "Score: 0.653301358223\n",
      "Document {'id': 'v1:joe', 'payload': None, 'vector_score': '0.653301358223', 'age': '3', 'job': 'dentist', 'credit_score': 'medium'}\n"
     ]
    }
   ],
   "source": [
    "for doc in results.docs:\n",
    "    print(\"Score:\", doc.vector_score)\n",
    "    print(doc)\n"
   ]
  },
  {
   "cell_type": "code",
   "execution_count": null,
   "metadata": {},
   "outputs": [],
   "source": []
  }
 ],
 "metadata": {
  "kernelspec": {
   "display_name": "Python 3.8.13 ('redisvl2')",
   "language": "python",
   "name": "python3"
  },
  "language_info": {
   "codemirror_mode": {
    "name": "ipython",
    "version": 3
   },
   "file_extension": ".py",
   "mimetype": "text/x-python",
   "name": "python",
   "nbconvert_exporter": "python",
   "pygments_lexer": "ipython3",
   "version": "3.8.13"
  },
  "orig_nbformat": 4,
  "vscode": {
   "interpreter": {
    "hash": "9b1e6e9c2967143209c2f955cb869d1d3234f92dc4787f49f155f3abbdfb1316"
   }
  }
 },
 "nbformat": 4,
 "nbformat_minor": 2
}
