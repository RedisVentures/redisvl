{
 "cells": [
  {
   "attachments": {},
   "cell_type": "markdown",
   "metadata": {},
   "source": [
    "# Getting Started with RedisVL\n",
    "\n",
    "RedisVL is a Python library with a dedicated CLI to build powerful AI applications on top of [Redis](https://redis.com).\n",
    "\n",
    "**This notebook will demonstrate**:\n",
    "1. Defining an `IndexSchema`\n",
    "2. Preparing a sample dataset for\n",
    "3. Creating a `SearchIndex` and loading with sample data\n",
    "4. Building `VectorQuery` objects and performing search\n",
    "5. Updating a `SearchIndex`\n",
    "\n",
    "**Before running this notebook**:\n",
    "1. Have [installed](https://www.redisvl.com/overview/installation.html) `redisvl` in the Python environment active for this notebook.\n",
    "2. Have a running [Redis Stack](https://redis.io/docs/install/install-stack/) or [Redis Cloud](https://redis.com/try-free) instance.\n",
    "\n",
    "_____"
   ]
  },
  {
   "attachments": {},
   "cell_type": "markdown",
   "metadata": {},
   "source": [
    "## Define an `IndexSchema`\n",
    "\n",
    "An `IndexSchema` maintains crucial index specifications and field definitions to\n",
    "enable search with Redis. The schema can be defined as a python dictionary, yaml\n",
    "file, or `IndexSchema` object.\n",
    "\n",
    "[Go here to learn more] about working with `IndexSchema` in `redisvl`.\n",
    "\n",
    "### IndexSchema example\n",
    "\n",
    "Say we have a dataset of users, information about their jobs, age, credit score,\n",
    "and potentially other relevant pieces:\n",
    "- Assuming we want to name the search index as `user_index` and use `user:` as\n",
    "the key prefix in Redis...\n",
    "- Assuming we want to index each field in the dataset...\n",
    "- Assuming we also have a `user_embedding` field that contains some 3\n",
    "dimensional float32 vector...\n",
    "\n",
    "We can define an index schema via YAML as follows:\n",
    "\n",
    "```yaml\n",
    "index:\n",
    "  name: user_index\n",
    "  prefix: user\n",
    "\n",
    "fields:\n",
    "    # define tag fields\n",
    "    tag:\n",
    "        - name: user\n",
    "        - name: credit_store\n",
    "    # define text fields\n",
    "    text:\n",
    "        - name: job\n",
    "    # define numeric fields\n",
    "    numeric:\n",
    "        - name: age\n",
    "    # define vector fields\n",
    "    vector:\n",
    "        - name: user_embedding\n",
    "          algorithm: flat\n",
    "          dims: 3\n",
    "          distance_metric: cosine\n",
    "          datatype: float32\n",
    "```\n",
    "> Would need to be stored in a file locally (e.g. `schema.yaml`) to be consumed by RedisVL."
   ]
  },
  {
   "cell_type": "markdown",
   "metadata": {},
   "source": [
    "**Alternatively**, in Python code, this can also be represented as a simple\n",
    "dictionary:"
   ]
  },
  {
   "cell_type": "code",
   "execution_count": 1,
   "metadata": {},
   "outputs": [],
   "source": [
    "schema = {\n",
    "    \"index\": {\n",
    "        \"name\": \"user_index\",\n",
    "        \"prefix\": \"user\",\n",
    "        \"storage_type\": \"hash\",\n",
    "    },\n",
    "    \"fields\": {\n",
    "        \"tag\": [{\"name\": \"credit_score\"}],\n",
    "        \"text\": [{\"name\": \"job\"}],\n",
    "        \"numeric\": [{\"name\": \"age\"}],\n",
    "        \"vector\": [{\n",
    "            \"name\": \"user_embedding\",\n",
    "            \"dims\": 3,\n",
    "            \"distance_metric\": \"cosine\",\n",
    "            \"algorithm\": \"flat\",\n",
    "            \"datatype\": \"float32\"\n",
    "        }]\n",
    "    },\n",
    "}"
   ]
  },
  {
   "attachments": {},
   "cell_type": "markdown",
   "metadata": {},
   "source": [
    "## Data Preparation\n",
    "\n",
    "Below we will build our \"dummy\" user dataset with fields for `user` (name),\n",
    "`job`, `age`, `credit_score`, and `user_embedding`.\n",
    "\n",
    "The `user_embedding` vectors here are purely synthetic in order to illustrate\n",
    "the concepts.\n",
    "\n",
    "For more information on creating real-world embeddings, check out this introductory\n",
    "[article](https://mlops.community/vector-similarity-search-from-basics-to-production/).\n"
   ]
  },
  {
   "cell_type": "code",
   "execution_count": 2,
   "metadata": {},
   "outputs": [
    {
     "data": {
      "text/html": [
       "<table><tr><th>user</th><th>age</th><th>job</th><th>credit_score</th><th>user_embedding</th></tr><tr><td>john</td><td>1</td><td>engineer</td><td>high</td><td>b'\\xcd\\xcc\\xcc=\\xcd\\xcc\\xcc=\\x00\\x00\\x00?'</td></tr><tr><td>mary</td><td>2</td><td>doctor</td><td>low</td><td>b'\\xcd\\xcc\\xcc=\\xcd\\xcc\\xcc=\\x00\\x00\\x00?'</td></tr><tr><td>joe</td><td>3</td><td>dentist</td><td>medium</td><td>b'fff?fff?\\xcd\\xcc\\xcc='</td></tr></table>"
      ],
      "text/plain": [
       "<IPython.core.display.HTML object>"
      ]
     },
     "metadata": {},
     "output_type": "display_data"
    }
   ],
   "source": [
    "import numpy as np\n",
    "\n",
    "from redisvl.utils.utils import table_print\n",
    "\n",
    "\n",
    "data = [\n",
    "    {\n",
    "        'user': 'john',\n",
    "        'age': 1,\n",
    "        'job': 'engineer',\n",
    "        'credit_score': 'high',\n",
    "        'user_embedding': np.array([0.1, 0.1, 0.5], dtype=np.float32).tobytes()\n",
    "    },\n",
    "    {\n",
    "        'user': 'mary',\n",
    "        'age': 2,\n",
    "        'job': 'doctor',\n",
    "        'credit_score': 'low',\n",
    "        'user_embedding': np.array([0.1, 0.1, 0.5], dtype=np.float32).tobytes()\n",
    "    },\n",
    "    {\n",
    "        'user': 'joe',\n",
    "        'age': 3,\n",
    "        'job': 'dentist',\n",
    "        'credit_score': 'medium',\n",
    "        'user_embedding': np.array([0.9, 0.9, 0.1], dtype=np.float32).tobytes()\n",
    "    }\n",
    "]\n",
    "\n",
    "table_print(data)"
   ]
  },
  {
   "attachments": {},
   "cell_type": "markdown",
   "metadata": {},
   "source": [
    ">As seen above, the sample `user_embedding` vectors are converted into bytes. Using the `NumPy`, this is fairly trivial."
   ]
  },
  {
   "attachments": {},
   "cell_type": "markdown",
   "metadata": {},
   "source": [
    "## Create a ``SearchIndex``\n",
    "\n",
    "With the sample dataset and the `IndexSchema` defined, we can create a `SearchIndex` with a few lines of code:"
   ]
  },
  {
   "cell_type": "code",
   "execution_count": 3,
   "metadata": {},
   "outputs": [
    {
     "name": "stdout",
     "output_type": "stream",
     "text": [
      "Index already exists, overwriting.\n"
     ]
    }
   ],
   "source": [
    "from redisvl.index import SearchIndex\n",
    "\n",
    "# construct a search index from the schema\n",
    "index = SearchIndex.from_dict(schema) # or SearchIndex.from_yaml(\"schema.yaml\") for yaml files\n",
    "\n",
    "# connect to local redis instance\n",
    "index.connect(\"redis://localhost:6379\")\n",
    "\n",
    "# create the index (no data yet, overwrite any other index that might exist)\n",
    "index.create(overwrite=True)"
   ]
  },
  {
   "cell_type": "markdown",
   "metadata": {},
   "source": [
    ">Note that at this point, the index will likely have no entries. We will load our sample dataset below."
   ]
  },
  {
   "cell_type": "markdown",
   "metadata": {},
   "source": [
    "### Inspect `SearchIndex` properties with the `rvl` CLI"
   ]
  },
  {
   "cell_type": "code",
   "execution_count": 4,
   "metadata": {},
   "outputs": [
    {
     "name": "stdout",
     "output_type": "stream",
     "text": [
      "\u001b[32m17:09:24\u001b[0m \u001b[34m[RedisVL]\u001b[0m \u001b[1;30mINFO\u001b[0m   Indices:\n",
      "\u001b[32m17:09:24\u001b[0m \u001b[34m[RedisVL]\u001b[0m \u001b[1;30mINFO\u001b[0m   1. user_index\n"
     ]
    }
   ],
   "source": [
    "# use the CLI to see the created index\n",
    "!rvl index listall"
   ]
  },
  {
   "cell_type": "code",
   "execution_count": 5,
   "metadata": {},
   "outputs": [
    {
     "name": "stdout",
     "output_type": "stream",
     "text": [
      "\n",
      "\n",
      "Index Information:\n",
      "╭──────────────┬────────────────┬────────────┬─────────────────┬────────────╮\n",
      "│ Index Name   │ Storage Type   │ Prefixes   │ Index Options   │   Indexing │\n",
      "├──────────────┼────────────────┼────────────┼─────────────────┼────────────┤\n",
      "│ user_index   │ HASH           │ ['user']   │ []              │          0 │\n",
      "╰──────────────┴────────────────┴────────────┴─────────────────┴────────────╯\n",
      "Index Fields:\n",
      "╭────────────────┬────────────────┬─────────┬────────────────┬────────────────╮\n",
      "│ Name           │ Attribute      │ Type    │ Field Option   │ Option Value   │\n",
      "├────────────────┼────────────────┼─────────┼────────────────┼────────────────┤\n",
      "│ credit_score   │ credit_score   │ TAG     │ SEPARATOR      │ ,              │\n",
      "│ job            │ job            │ TEXT    │ WEIGHT         │ 1              │\n",
      "│ age            │ age            │ NUMERIC │                │                │\n",
      "│ user_embedding │ user_embedding │ VECTOR  │                │                │\n",
      "╰────────────────┴────────────────┴─────────┴────────────────┴────────────────╯\n"
     ]
    }
   ],
   "source": [
    "# use the CLI to print fields in the index\n",
    "!rvl index info -i user_index"
   ]
  },
  {
   "cell_type": "markdown",
   "metadata": {},
   "source": [
    "### Load Data to `SearchIndex`\n",
    "\n",
    "Now that an index exists, data can be loaded into redis through the `load` method. By default, the load method will create a unique \"key\" as a combination of the specific index key `prefix` and a UUID."
   ]
  },
  {
   "cell_type": "code",
   "execution_count": 6,
   "metadata": {},
   "outputs": [],
   "source": [
    "index.load(data)"
   ]
  },
  {
   "cell_type": "code",
   "execution_count": 7,
   "metadata": {},
   "outputs": [
    {
     "name": "stdout",
     "output_type": "stream",
     "text": [
      "[b'user:58fd2181b6004a1a80c735feab8251e0', b'user:9fd209a2627c4597b979f49d18d8d655', b'user:5866b77ddb9e4433bc72dba025192207']\n"
     ]
    }
   ],
   "source": [
    "# This command is not recommended for production databases\n",
    "index_keys = [key for key in index.client.scan_iter(\"user:*\")]\n",
    "print(index_keys)"
   ]
  },
  {
   "cell_type": "markdown",
   "metadata": {},
   "source": [
    "### Upsert data to the index\n",
    "With Redis and `redisvl`, it's simple to upsert data to the index created above. Just call the `load` method again on data you wish to add or update."
   ]
  },
  {
   "cell_type": "code",
   "execution_count": 8,
   "metadata": {},
   "outputs": [],
   "source": [
    "# Add more data\n",
    "new_data = [{\n",
    "    'user': 'tyler',\n",
    "    'age': 9,\n",
    "    'job': 'engineer',\n",
    "    'credit_score': 'high',\n",
    "    'user_embedding': np.array([0.1, 0.3, 0.5], dtype=np.float32).tobytes()\n",
    "}]\n",
    "index.load(new_data)"
   ]
  },
  {
   "attachments": {},
   "cell_type": "markdown",
   "metadata": {},
   "source": [
    "## Creating `VectorQuery` objects\n",
    "\n",
    "Next we will create a vector query object for our newly populated index. This example will use a simple vector to demonstrate how vector similarity works. Vectors in production will likely be much larger than 3 floats and often require Machine Learning models (i.e. Huggingface sentence transformers) or an embeddings API (Cohere, OpenAI) to create."
   ]
  },
  {
   "cell_type": "code",
   "execution_count": 9,
   "metadata": {},
   "outputs": [],
   "source": [
    "from redisvl.query import VectorQuery\n",
    "from redisvl.utils.utils import result_print\n",
    "\n",
    "# create a vector query returning a number of results\n",
    "# with specific fields to return.\n",
    "query = VectorQuery(\n",
    "    vector=[0.1, 0.1, 0.5],\n",
    "    vector_field_name=\"user_embedding\",\n",
    "    return_fields=[\"user\", \"age\", \"job\", \"credit_score\", \"vector_distance\"],\n",
    "    num_results=3\n",
    ")"
   ]
  },
  {
   "cell_type": "markdown",
   "metadata": {},
   "source": [
    "### Executing queries\n",
    "With our `VectorQuery` object defined above, we can execute the query over the `SearchIndex` using the `query` method."
   ]
  },
  {
   "cell_type": "code",
   "execution_count": 10,
   "metadata": {},
   "outputs": [
    {
     "data": {
      "text/html": [
       "<table><tr><th>vector_distance</th><th>user</th><th>age</th><th>job</th><th>credit_score</th></tr><tr><td>0</td><td>john</td><td>1</td><td>engineer</td><td>high</td></tr><tr><td>0</td><td>mary</td><td>2</td><td>doctor</td><td>low</td></tr><tr><td>0.0566299557686</td><td>tyler</td><td>9</td><td>engineer</td><td>high</td></tr></table>"
      ],
      "text/plain": [
       "<IPython.core.display.HTML object>"
      ]
     },
     "metadata": {},
     "output_type": "display_data"
    }
   ],
   "source": [
    "# execute the query\n",
    "results = index.query(query)\n",
    "\n",
    "result_print(results)"
   ]
  },
  {
   "cell_type": "markdown",
   "metadata": {},
   "source": [
    "## Asynchronous `SearchIndex`\n",
    "\n",
    "The SearchIndex class allows for queries, index creation, and data loading to be done asynchronously. This is the\n",
    "recommended route for working with `redisvl` in production-like settings.\n",
    "\n",
    "In order to enable it, you must either pass the `use_async` flag to the index\n",
    "initializer, or provide an existing async redis client connection."
   ]
  },
  {
   "cell_type": "code",
   "execution_count": 11,
   "metadata": {},
   "outputs": [
    {
     "name": "stdout",
     "output_type": "stream",
     "text": [
      "Index already exists, not overwriting.\n"
     ]
    },
    {
     "data": {
      "text/html": [
       "<table><tr><th>vector_distance</th><th>user</th><th>age</th><th>job</th><th>credit_score</th></tr><tr><td>0</td><td>john</td><td>1</td><td>engineer</td><td>high</td></tr><tr><td>0</td><td>mary</td><td>2</td><td>doctor</td><td>low</td></tr><tr><td>0.0566299557686</td><td>tyler</td><td>9</td><td>engineer</td><td>high</td></tr></table>"
      ],
      "text/plain": [
       "<IPython.core.display.HTML object>"
      ]
     },
     "metadata": {},
     "output_type": "display_data"
    }
   ],
   "source": [
    "# construct an async search index from the schema\n",
    "index = SearchIndex.from_dict(\n",
    "    schema,\n",
    "    redis_url=\"redis://localhost:6379\",\n",
    "    use_async=True\n",
    ")\n",
    "\n",
    "# create the index -- but don't overwrite\n",
    "await index.acreate(overwrite=False)\n",
    "\n",
    "# run the same vector query but asynchronously\n",
    "results = await index.aquery(query)\n",
    "\n",
    "result_print(results)"
   ]
  },
  {
   "cell_type": "markdown",
   "metadata": {},
   "source": [
    "## Update a `SearchIndex`\n",
    "In some scenarios, it makes sense to update the index schema. With Redis and `redisvl`, this is easy because Redis can keep the underlying data in place while you change or make updates to the index configuration."
   ]
  },
  {
   "cell_type": "code",
   "execution_count": 12,
   "metadata": {},
   "outputs": [
    {
     "name": "stdout",
     "output_type": "stream",
     "text": [
      "\n",
      "\n",
      "Index Information:\n",
      "╭──────────────┬────────────────┬────────────┬─────────────────┬────────────╮\n",
      "│ Index Name   │ Storage Type   │ Prefixes   │ Index Options   │   Indexing │\n",
      "├──────────────┼────────────────┼────────────┼─────────────────┼────────────┤\n",
      "│ user_index   │ HASH           │ ['user']   │ []              │          0 │\n",
      "╰──────────────┴────────────────┴────────────┴─────────────────┴────────────╯\n",
      "Index Fields:\n",
      "╭────────────────┬────────────────┬─────────┬────────────────┬────────────────╮\n",
      "│ Name           │ Attribute      │ Type    │ Field Option   │ Option Value   │\n",
      "├────────────────┼────────────────┼─────────┼────────────────┼────────────────┤\n",
      "│ credit_score   │ credit_score   │ TAG     │ SEPARATOR      │ ,              │\n",
      "│ job            │ job            │ TEXT    │ WEIGHT         │ 1              │\n",
      "│ age            │ age            │ NUMERIC │                │                │\n",
      "│ user_embedding │ user_embedding │ VECTOR  │                │                │\n",
      "╰────────────────┴────────────────┴─────────┴────────────────┴────────────────╯\n"
     ]
    }
   ],
   "source": [
    "# First we will inspect the index we already have...\n",
    "!rvl index info -i user_index"
   ]
  },
  {
   "cell_type": "markdown",
   "metadata": {},
   "source": [
    "So for our scenario, let's imagine we want to reindex this data in 2 ways:\n",
    "- by using a `Tag` type for job field instead of `Text`\n",
    "- by using an `hnsw` index for the `Vector` field instead of `flat`"
   ]
  },
  {
   "cell_type": "code",
   "execution_count": 13,
   "metadata": {},
   "outputs": [
    {
     "data": {
      "text/plain": [
       "{'index': {'name': 'user_index', 'prefix': 'user', 'storage_type': 'hash'},\n",
       " 'fields': {'tag': [{'name': 'credit_score'}],\n",
       "  'text': [{'name': 'job'}],\n",
       "  'numeric': [{'name': 'age'}],\n",
       "  'vector': [{'name': 'user_embedding',\n",
       "    'dims': 3,\n",
       "    'distance_metric': 'cosine',\n",
       "    'algorithm': 'flat',\n",
       "    'datatype': 'float32'}]}}"
      ]
     },
     "execution_count": 13,
     "metadata": {},
     "output_type": "execute_result"
    }
   ],
   "source": [
    "# Inspect the previous schema\n",
    "schema"
   ]
  },
  {
   "cell_type": "code",
   "execution_count": 14,
   "metadata": {},
   "outputs": [
    {
     "data": {
      "text/plain": [
       "{'index': {'name': 'user_index', 'prefix': 'user', 'storage_type': 'hash'},\n",
       " 'fields': {'tag': [{'name': 'credit_score'}, {'name': 'job'}],\n",
       "  'text': [],\n",
       "  'numeric': [{'name': 'age'}],\n",
       "  'vector': [{'name': 'user_embedding',\n",
       "    'dims': 3,\n",
       "    'distance_metric': 'cosine',\n",
       "    'algorithm': 'hnsw',\n",
       "    'datatype': 'float32'}]}}"
      ]
     },
     "execution_count": 14,
     "metadata": {},
     "output_type": "execute_result"
    }
   ],
   "source": [
    "# We need to modify this schema dict to have what we want\n",
    "schema['fields'].update({\n",
    "    'text': [],\n",
    "    'tag': [{'name': 'credit_score'}, {'name': 'job'}],\n",
    "    'vector': [{\n",
    "        'name': 'user_embedding',\n",
    "        'dims': 3,\n",
    "        'distance_metric': 'cosine',\n",
    "        'algorithm': 'hnsw',\n",
    "        'datatype': 'float32'\n",
    "    }]\n",
    "})\n",
    "\n",
    "schema"
   ]
  },
  {
   "cell_type": "code",
   "execution_count": 16,
   "metadata": {},
   "outputs": [],
   "source": [
    "# Delete existing index without clearing out the underlying data\n",
    "await index.adelete(drop=False)\n",
    "\n",
    "# Build the new index interface\n",
    "index = (\n",
    "    SearchIndex\n",
    "    .from_dict(schema)\n",
    "    .connect(\"redis://localhost:6379\", use_async=True)\n",
    ")\n",
    "\n",
    "# Run the index update\n",
    "await index.acreate()"
   ]
  },
  {
   "cell_type": "code",
   "execution_count": 17,
   "metadata": {},
   "outputs": [
    {
     "data": {
      "text/html": [
       "<table><tr><th>vector_distance</th><th>user</th><th>age</th><th>job</th><th>credit_score</th></tr><tr><td>0</td><td>mary</td><td>2</td><td>doctor</td><td>low</td></tr><tr><td>0</td><td>john</td><td>1</td><td>engineer</td><td>high</td></tr><tr><td>0.0566299557686</td><td>tyler</td><td>9</td><td>engineer</td><td>high</td></tr></table>"
      ],
      "text/plain": [
       "<IPython.core.display.HTML object>"
      ]
     },
     "metadata": {},
     "output_type": "display_data"
    }
   ],
   "source": [
    "# Test query again\n",
    "result_print(await index.aquery(query))"
   ]
  },
  {
   "cell_type": "markdown",
   "metadata": {},
   "source": [
    "## Check Index Stats"
   ]
  },
  {
   "cell_type": "code",
   "execution_count": 18,
   "metadata": {},
   "outputs": [
    {
     "name": "stdout",
     "output_type": "stream",
     "text": [
      "\n",
      "Statistics:\n",
      "╭─────────────────────────────┬─────────────╮\n",
      "│ Stat Key                    │ Value       │\n",
      "├─────────────────────────────┼─────────────┤\n",
      "│ num_docs                    │ 4           │\n",
      "│ num_terms                   │ 0           │\n",
      "│ max_doc_id                  │ 4           │\n",
      "│ num_records                 │ 16          │\n",
      "│ percent_indexed             │ 1           │\n",
      "│ hash_indexing_failures      │ 0           │\n",
      "│ number_of_uses              │ 2           │\n",
      "│ bytes_per_record_avg        │ 1           │\n",
      "│ doc_table_size_mb           │ 0.000400543 │\n",
      "│ inverted_sz_mb              │ 1.52588e-05 │\n",
      "│ key_table_size_mb           │ 0.000165939 │\n",
      "│ offset_bits_per_record_avg  │ nan         │\n",
      "│ offset_vectors_sz_mb        │ 0           │\n",
      "│ offsets_per_term_avg        │ 0           │\n",
      "│ records_per_doc_avg         │ 4           │\n",
      "│ sortable_values_size_mb     │ 0           │\n",
      "│ total_indexing_time         │ 3.486       │\n",
      "│ total_inverted_index_blocks │ 7           │\n",
      "│ vector_index_sz_mb          │ 0.235603    │\n",
      "╰─────────────────────────────┴─────────────╯\n"
     ]
    }
   ],
   "source": [
    "# We can also use the CLI to check the stats for the index we just used\n",
    "!rvl stats -i user_index"
   ]
  },
  {
   "cell_type": "markdown",
   "metadata": {},
   "source": [
    "## Cleanup"
   ]
  },
  {
   "cell_type": "code",
   "execution_count": null,
   "metadata": {},
   "outputs": [],
   "source": [
    "# clean up the index\n",
    "await index.adelete()"
   ]
  }
 ],
 "metadata": {
  "kernelspec": {
   "display_name": "Python 3.8.13 ('redisvl2')",
   "language": "python",
   "name": "python3"
  },
  "language_info": {
   "codemirror_mode": {
    "name": "ipython",
    "version": 3
   },
   "file_extension": ".py",
   "mimetype": "text/x-python",
   "name": "python",
   "nbconvert_exporter": "python",
   "pygments_lexer": "ipython3",
   "version": "3.9.12"
  },
  "orig_nbformat": 4,
  "vscode": {
   "interpreter": {
    "hash": "9b1e6e9c2967143209c2f955cb869d1d3234f92dc4787f49f155f3abbdfb1316"
   }
  }
 },
 "nbformat": 4,
 "nbformat_minor": 2
}
