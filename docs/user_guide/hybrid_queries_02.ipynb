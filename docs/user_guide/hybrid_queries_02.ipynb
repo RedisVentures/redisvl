{
 "cells": [
  {
   "attachments": {},
   "cell_type": "markdown",
   "metadata": {},
   "source": [
    "# Complex Queries\n",
    "\n",
    "In this notebook, we will explore more complex queries that can be performed with ``redisvl``\n",
    "\n",
    "Before running this notebook, be sure to\n",
    "1. Have installed ``redisvl`` and have that environment active for this notebook.\n",
    "2. Have a running Redis instance with RediSearch > 2.4 running."
   ]
  },
  {
   "cell_type": "code",
   "execution_count": 1,
   "metadata": {},
   "outputs": [],
   "source": [
    "import numpy as np\n",
    "from pprint import pprint\n",
    "\n",
    "data = [\n",
    "    {'user': 'john', 'age': 18, 'job': 'engineer', 'credit_score': 'high'},\n",
    "    {'user': 'derrick', 'age': 14, 'job': 'doctor', 'credit_score': 'low'},\n",
    "    {'user': 'nancy', 'age': 94, 'job': 'doctor', 'credit_score': 'high'},\n",
    "    {'user': 'tyler', 'age': 100, 'job': 'engineer', 'credit_score': 'high'},\n",
    "    {'user': 'tim', 'age': 12, 'job': 'dermatologist', 'credit_score': 'high'},\n",
    "    {'user': 'taimur', 'age': 15, 'job': 'CEO', 'credit_score': 'low'},\n",
    "    {'user': 'joe', 'age': 35, 'job': 'dentist', 'credit_score': 'medium'}\n",
    "]"
   ]
  },
  {
   "cell_type": "code",
   "execution_count": 2,
   "metadata": {},
   "outputs": [
    {
     "name": "stdout",
     "output_type": "stream",
     "text": [
      "[{'age': 18,\n",
      "  'credit_score': 'high',\n",
      "  'job': 'engineer',\n",
      "  'user': 'john',\n",
      "  'user_embedding': b'\\xcd\\xcc\\xcc=\\xcd\\xcc\\xcc=\\x00\\x00\\x00?'},\n",
      " {'age': 14,\n",
      "  'credit_score': 'low',\n",
      "  'job': 'doctor',\n",
      "  'user': 'derrick',\n",
      "  'user_embedding': b'\\xcd\\xcc\\xcc=\\xcd\\xcc\\xcc=\\x00\\x00\\x00?'},\n",
      " {'age': 94,\n",
      "  'credit_score': 'high',\n",
      "  'job': 'doctor',\n",
      "  'user': 'nancy',\n",
      "  'user_embedding': b'333?\\xcd\\xcc\\xcc=\\x00\\x00\\x00?'},\n",
      " {'age': 100,\n",
      "  'credit_score': 'high',\n",
      "  'job': 'engineer',\n",
      "  'user': 'tyler',\n",
      "  'user_embedding': b'\\xcd\\xcc\\xcc=\\xcd\\xcc\\xcc>\\x00\\x00\\x00?'},\n",
      " {'age': 12,\n",
      "  'credit_score': 'high',\n",
      "  'job': 'dermatologist',\n",
      "  'user': 'tim',\n",
      "  'user_embedding': b'\\xcd\\xcc\\xcc>\\xcd\\xcc\\xcc>\\x00\\x00\\x00?'},\n",
      " {'age': 15,\n",
      "  'credit_score': 'low',\n",
      "  'job': 'CEO',\n",
      "  'user': 'taimur',\n",
      "  'user_embedding': b'\\x9a\\x99\\x19?\\xcd\\xcc\\xcc=\\x00\\x00\\x00?'},\n",
      " {'age': 35,\n",
      "  'credit_score': 'medium',\n",
      "  'job': 'dentist',\n",
      "  'user': 'joe',\n",
      "  'user_embedding': b'fff?fff?\\xcd\\xcc\\xcc='}]\n"
     ]
    }
   ],
   "source": [
    "# converted to bytes for redis\n",
    "vectors = [\n",
    "    np.array([0.1, 0.1, 0.5], dtype=np.float32).tobytes(),\n",
    "    np.array([0.1, 0.1, 0.5], dtype=np.float32).tobytes(),\n",
    "    np.array([0.7, 0.1, 0.5], dtype=np.float32).tobytes(),\n",
    "    np.array([0.1, 0.4, 0.5], dtype=np.float32).tobytes(),\n",
    "    np.array([0.4, 0.4, 0.5], dtype=np.float32).tobytes(),\n",
    "    np.array([0.6, 0.1, 0.5], dtype=np.float32).tobytes(),\n",
    "    np.array([0.9, 0.9, 0.1], dtype=np.float32).tobytes(),\n",
    "]\n",
    "\n",
    "for record, vector in zip(data, vectors):\n",
    "    record[\"user_embedding\"] = vector\n",
    "\n",
    "pprint(data)"
   ]
  },
  {
   "cell_type": "code",
   "execution_count": 3,
   "metadata": {},
   "outputs": [],
   "source": [
    "schema = {\n",
    "    \"index\": {\n",
    "        \"name\": \"user_index\",\n",
    "        \"prefix\": \"v1\",\n",
    "        \"key_field\": \"user\",\n",
    "        \"storage_type\": \"hash\",\n",
    "    },\n",
    "    \"fields\": {\n",
    "        \"tag\": [{\"name\": \"credit_score\"}],\n",
    "        \"text\": [{\"name\": \"job\"}],\n",
    "        \"numeric\": [{\"name\": \"age\"}],\n",
    "        \"vector\": [{\n",
    "                \"name\": \"user_embedding\",\n",
    "                \"dims\": 3,\n",
    "                \"distance_metric\": \"cosine\",\n",
    "                \"algorithm\": \"flat\",\n",
    "                \"datatype\": \"float32\"}\n",
    "        ]\n",
    "    },\n",
    "}\n"
   ]
  },
  {
   "cell_type": "code",
   "execution_count": 4,
   "metadata": {},
   "outputs": [],
   "source": [
    "from redisvl.index import SearchIndex\n",
    "\n",
    "# construct a search index from the schema\n",
    "index = SearchIndex.from_dict(schema)\n",
    "\n",
    "# connect to local redis instance\n",
    "index.connect(\"redis://localhost:6379\")\n",
    "\n",
    "# create the index (no data yet)\n",
    "index.create(overwrite=True)"
   ]
  },
  {
   "cell_type": "code",
   "execution_count": 5,
   "metadata": {},
   "outputs": [
    {
     "name": "stdout",
     "output_type": "stream",
     "text": [
      "\u001b[32m16:36:51\u001b[0m \u001b[35msam.partee-NW9MQX5Y74\u001b[0m \u001b[34mredisvl.cli.index[74676]\u001b[0m \u001b[1;30mINFO\u001b[0m Indices:\n",
      "\u001b[32m16:36:51\u001b[0m \u001b[35msam.partee-NW9MQX5Y74\u001b[0m \u001b[34mredisvl.cli.index[74676]\u001b[0m \u001b[1;30mINFO\u001b[0m 1. user_index\n",
      "\u001b[32m16:36:51\u001b[0m \u001b[35msam.partee-NW9MQX5Y74\u001b[0m \u001b[34mredisvl.cli.index[74676]\u001b[0m \u001b[1;30mINFO\u001b[0m 2. my_index\n"
     ]
    }
   ],
   "source": [
    "# use the CLI to see the created index\n",
    "!rvl index listall"
   ]
  },
  {
   "cell_type": "code",
   "execution_count": 6,
   "metadata": {},
   "outputs": [],
   "source": [
    "# load expects an iterable of dictionaries\n",
    "index.load(data)"
   ]
  },
  {
   "attachments": {},
   "cell_type": "markdown",
   "metadata": {},
   "source": [
    "## Executing Hybrid Queries\n",
    "\n",
    "Hybrid queries are queries that combine multiple types of filters. For example, you may want to search for a user that is a certain age, has a certain job, and is within a certain distance of a location. This is a hybrid query that combines numeric, tag, and geographic filters."
   ]
  },
  {
   "cell_type": "markdown",
   "metadata": {},
   "source": [
    "### Tag Filters\n",
    "\n",
    "Tag filters are filters that are applied to tag fields. These are fields that are not tokenized and are used to store a single categorical value."
   ]
  },
  {
   "cell_type": "code",
   "execution_count": 7,
   "metadata": {},
   "outputs": [
    {
     "name": "stdout",
     "output_type": "stream",
     "text": [
      "Document {'id': 'v1:john', 'payload': None, 'vector_distance': '0', 'user': 'john', 'credit_score': 'high', 'age': '18', 'job': 'engineer'}\n",
      "Document {'id': 'v1:tyler', 'payload': None, 'vector_distance': '0.109129190445', 'user': 'tyler', 'credit_score': 'high', 'age': '100', 'job': 'engineer'}\n",
      "Document {'id': 'v1:tim', 'payload': None, 'vector_distance': '0.158809006214', 'user': 'tim', 'credit_score': 'high', 'age': '12', 'job': 'dermatologist'}\n",
      "Document {'id': 'v1:nancy', 'payload': None, 'vector_distance': '0.266666650772', 'user': 'nancy', 'credit_score': 'high', 'age': '94', 'job': 'doctor'}\n"
     ]
    }
   ],
   "source": [
    "from redisvl.query import VectorQuery, TagFilter, NumericFilter\n",
    "\n",
    "t = TagFilter(\"credit_score\", \"high\")\n",
    "\n",
    "v = VectorQuery([0.1, 0.1, 0.5],\n",
    "                \"user_embedding\",\n",
    "                return_fields=[\"user\", \"credit_score\", \"age\", \"job\"],\n",
    "                hybrid_filter=t)\n",
    "\n",
    "\n",
    "results = index.search(v.query, query_params=v.params)\n",
    "for doc in results.docs:\n",
    "    print(doc)"
   ]
  },
  {
   "cell_type": "markdown",
   "metadata": {},
   "source": [
    "### Numeric Filters\n",
    "\n",
    "Numeric filters are filters that are applied to numeric fields and can be used to isolate a range of values for a given field."
   ]
  },
  {
   "cell_type": "code",
   "execution_count": 8,
   "metadata": {},
   "outputs": [
    {
     "name": "stdout",
     "output_type": "stream",
     "text": [
      "Document {'id': 'v1:john', 'payload': None, 'vector_distance': '0', 'user': 'john', 'credit_score': 'high', 'age': '18', 'job': 'engineer'}\n",
      "Document {'id': 'v1:tyler', 'payload': None, 'vector_distance': '0.109129190445', 'user': 'tyler', 'credit_score': 'high', 'age': '100', 'job': 'engineer'}\n",
      "Document {'id': 'v1:nancy', 'payload': None, 'vector_distance': '0.266666650772', 'user': 'nancy', 'credit_score': 'high', 'age': '94', 'job': 'doctor'}\n",
      "Document {'id': 'v1:joe', 'payload': None, 'vector_distance': '0.653301358223', 'user': 'joe', 'credit_score': 'medium', 'age': '35', 'job': 'dentist'}\n"
     ]
    }
   ],
   "source": [
    "n = NumericFilter(\"age\", 18, 100)\n",
    "\n",
    "v.set_filter(n)\n",
    "\n",
    "results = index.search(v.query, query_params=v.params)\n",
    "for doc in results.docs:\n",
    "    print(doc)"
   ]
  },
  {
   "cell_type": "markdown",
   "metadata": {},
   "source": [
    "### Text Filters\n",
    "\n",
    "Text filters are filters that are applied to text fields. These filters are applied to the entire text field. For example, if you have a text field that contains the text \"The quick brown fox jumps over the lazy dog\", a text filter of \"quick\" will match this text field."
   ]
  },
  {
   "cell_type": "code",
   "execution_count": 9,
   "metadata": {},
   "outputs": [
    {
     "name": "stdout",
     "output_type": "stream",
     "text": [
      "Document {'id': 'v1:derrick', 'payload': None, 'vector_distance': '0', 'user': 'derrick', 'credit_score': 'low', 'age': '14', 'job': 'doctor'}\n",
      "Document {'id': 'v1:nancy', 'payload': None, 'vector_distance': '0.266666650772', 'user': 'nancy', 'credit_score': 'high', 'age': '94', 'job': 'doctor'}\n"
     ]
    }
   ],
   "source": [
    "from redisvl.query import TextFilter\n",
    "\n",
    "text_filter = TextFilter(\"job\", \"doctor\")\n",
    "v.set_filter(text_filter)\n",
    "\n",
    "results = index.search(v.query, query_params=v.params)\n",
    "for doc in results.docs:\n",
    "    print(doc)"
   ]
  },
  {
   "cell_type": "markdown",
   "metadata": {},
   "source": [
    "## Combining Filters\n",
    "\n",
    "In this example, we will combine a numeric filter with a tag filter. We will search for users that are between the ages of 20 and 30 and have a job of \"engineer\"."
   ]
  },
  {
   "cell_type": "code",
   "execution_count": 10,
   "metadata": {},
   "outputs": [
    {
     "name": "stdout",
     "output_type": "stream",
     "text": [
      "Document {'id': 'v1:john', 'payload': None, 'vector_distance': '0', 'user': 'john', 'credit_score': 'high', 'age': '18', 'job': 'engineer'}\n",
      "Document {'id': 'v1:tyler', 'payload': None, 'vector_distance': '0.109129190445', 'user': 'tyler', 'credit_score': 'high', 'age': '100', 'job': 'engineer'}\n",
      "Document {'id': 'v1:nancy', 'payload': None, 'vector_distance': '0.266666650772', 'user': 'nancy', 'credit_score': 'high', 'age': '94', 'job': 'doctor'}\n"
     ]
    }
   ],
   "source": [
    "t = TagFilter(\"credit_score\", \"high\")\n",
    "n = NumericFilter(\"age\", 18, 100)\n",
    "t += n\n",
    "\n",
    "v = VectorQuery([0.1, 0.1, 0.5],\n",
    "                \"user_embedding\",\n",
    "                return_fields=[\"user\", \"credit_score\", \"age\", \"job\", \"vector_distance\"],\n",
    "                hybrid_filter=t)\n",
    "\n",
    "\n",
    "results = index.search(v.query, query_params=v.params)\n",
    "for doc in results.docs:\n",
    "    print(doc)"
   ]
  },
  {
   "cell_type": "markdown",
   "metadata": {},
   "source": [
    "### Negation\n",
    "\n",
    "The next example will combine the tag field with a negation. We will search for users that are in a numeric range."
   ]
  },
  {
   "cell_type": "code",
   "execution_count": 11,
   "metadata": {},
   "outputs": [
    {
     "name": "stdout",
     "output_type": "stream",
     "text": [
      "Document {'id': 'v1:tim', 'payload': None, 'vector_distance': '0.158809006214', 'user': 'tim', 'credit_score': 'high', 'age': '12', 'job': 'dermatologist'}\n"
     ]
    }
   ],
   "source": [
    "t = TagFilter(\"credit_score\", \"high\")\n",
    "n = NumericFilter(\"age\", 18, 100)\n",
    "t -= n\n",
    "\n",
    "v.set_filter(t)\n",
    "\n",
    "results = index.search(v.query, query_params=v.params)\n",
    "for doc in results.docs:\n",
    "    print(doc)"
   ]
  },
  {
   "cell_type": "markdown",
   "metadata": {},
   "source": [
    "### Union of Filters\n",
    "\n",
    "This example will show how to combine multiple filters with a union. We will search for users that are either between the ages of 18 to 100 and have a high credit score."
   ]
  },
  {
   "cell_type": "code",
   "execution_count": 12,
   "metadata": {},
   "outputs": [
    {
     "name": "stdout",
     "output_type": "stream",
     "text": [
      "Document {'id': 'v1:john', 'payload': None, 'vector_distance': '0', 'user': 'john', 'credit_score': 'high', 'age': '18', 'job': 'engineer'}\n",
      "Document {'id': 'v1:tyler', 'payload': None, 'vector_distance': '0.109129190445', 'user': 'tyler', 'credit_score': 'high', 'age': '100', 'job': 'engineer'}\n",
      "Document {'id': 'v1:tim', 'payload': None, 'vector_distance': '0.158809006214', 'user': 'tim', 'credit_score': 'high', 'age': '12', 'job': 'dermatologist'}\n",
      "Document {'id': 'v1:nancy', 'payload': None, 'vector_distance': '0.266666650772', 'user': 'nancy', 'credit_score': 'high', 'age': '94', 'job': 'doctor'}\n",
      "Document {'id': 'v1:joe', 'payload': None, 'vector_distance': '0.653301358223', 'user': 'joe', 'credit_score': 'medium', 'age': '35', 'job': 'dentist'}\n"
     ]
    }
   ],
   "source": [
    "t = TagFilter(\"credit_score\", \"high\")\n",
    "n = NumericFilter(\"age\", 18, 100)\n",
    "t &= n\n",
    "\n",
    "v.set_filter(t)\n",
    "\n",
    "results = index.search(v.query, query_params=v.params)\n",
    "for doc in results.docs:\n",
    "    print(doc)"
   ]
  },
  {
   "cell_type": "code",
   "execution_count": null,
   "metadata": {},
   "outputs": [],
   "source": []
  }
 ],
 "metadata": {
  "kernelspec": {
   "display_name": "Python 3.8.13 ('redisvl2')",
   "language": "python",
   "name": "python3"
  },
  "language_info": {
   "codemirror_mode": {
    "name": "ipython",
    "version": 3
   },
   "file_extension": ".py",
   "mimetype": "text/x-python",
   "name": "python",
   "nbconvert_exporter": "python",
   "pygments_lexer": "ipython3",
   "version": "3.8.13"
  },
  "orig_nbformat": 4,
  "vscode": {
   "interpreter": {
    "hash": "9b1e6e9c2967143209c2f955cb869d1d3234f92dc4787f49f155f3abbdfb1316"
   }
  }
 },
 "nbformat": 4,
 "nbformat_minor": 2
}
