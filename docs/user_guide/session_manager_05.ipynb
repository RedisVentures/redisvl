{
 "cells": [
  {
   "cell_type": "markdown",
   "metadata": {},
   "source": [
    "# LLM Session Memory"
   ]
  },
  {
   "cell_type": "markdown",
   "metadata": {},
   "source": [
    "Large Language Models are inherently stateless and have no knowledge of previous interactions with a user, or even of previous parts of the current conversation. While this may not be noticable when asking simple questions, it becomes a hinderance when engaging in long running conversations that rely on conversational context.\n",
    "\n",
    "The solution to this problem is to append the previous conversation history to each subsequent call to the LLM.\n",
    "\n",
    "This notebook will show how to use Redis to structure and store and retrieve this conversational session memory."
   ]
  },
  {
   "cell_type": "code",
   "execution_count": 1,
   "metadata": {},
   "outputs": [
    {
     "name": "stderr",
     "output_type": "stream",
     "text": [
      "/Users/justin.cechmanek/Library/Python/3.9/lib/python/site-packages/urllib3/__init__.py:35: NotOpenSSLWarning: urllib3 v2 only supports OpenSSL 1.1.1+, currently the 'ssl' module is compiled with 'LibreSSL 2.8.3'. See: https://github.com/urllib3/urllib3/issues/3020\n",
      "  warnings.warn(\n"
     ]
    }
   ],
   "source": [
    "from typing import Dict, List\n",
    "import cohere\n",
    "import os\n",
    "\n",
    "class CohereClient():\n",
    "    def __init__(self, api_key: str = None, model: str = 'command-r-plus'):\n",
    "        api_key = api_key or os.getenv(\"COHERE_API_KEY\")\n",
    "        self.client = cohere.Client(api_key)\n",
    "        self._model = model\n",
    "\n",
    "    def converse(self, prompt: str, context: List[Dict]) -> str:\n",
    "        context = self._remap(context)\n",
    "        response = self.client.chat(\n",
    "                model=self._model,\n",
    "                chat_history = context,\n",
    "                message=prompt,\n",
    "                )\n",
    "        return response.text\n",
    "\n",
    "\n",
    "    def _remap(self, context) -> List[Dict]:\n",
    "        ''' re-index the chat history to match the Cohere API requirements '''\n",
    "        new_context = [] \n",
    "        for statement in context:\n",
    "            if statement[\"role\"] == \"_user\":\n",
    "                new_statement = {\"role\": \"USER\", \"message\": statement[\"_content\"]}\n",
    "            elif statement[\"role\"] == \"_llm\":\n",
    "                new_statement = {\"role\": \"CHATBOT\", \"message\": statement[\"_content\"]}\n",
    "            elif statement[\"role\"] == \"_preamble\":\n",
    "                new_statement = {\"role\": \"SYSTEM\", \"message\": statement[\"_content\"]}\n",
    "            else:\n",
    "                raise ValueError(f'Unknown chat role {statement[\"role\"]}')\n",
    "            new_context.append(new_statement)\n",
    "        return new_context"
   ]
  },
  {
   "cell_type": "code",
   "execution_count": 7,
   "metadata": {},
   "outputs": [],
   "source": [
    "from redisvl.extensions.session_manager import SessionManager\n",
    "user_session = SessionManager(name='llm_chef', session_id='123', user_id='abc', application_id='chefbot_123')\n",
    "user_session.set_preamble(\"You are a helpful chef, assisting people in making delicious meals\")\n",
    "\n",
    "client = CohereClient()"
   ]
  },
  {
   "cell_type": "markdown",
   "metadata": {},
   "source": [
    "On each call to the LLM we can first retrieve the recent history of the conversation. On the first call it will just be the preamble we set."
   ]
  },
  {
   "cell_type": "code",
   "execution_count": 8,
   "metadata": {},
   "outputs": [
    {
     "name": "stdout",
     "output_type": "stream",
     "text": [
      "USER:  can you give me some ideas for breakfast?\n",
      "\n",
      "LLM:  Sure! Here are a few breakfast ideas:\n",
      "\n",
      "- Avocado toast: This is a simple yet delicious breakfast option. Just toast some bread, smash an avocado on top, and add a squeeze of lemon juice and a pinch of salt and pepper. You can also add some sliced tomato or a fried egg on top.\n",
      "- Smoothie bowl: Blend together your favorite fruits and vegetables with a liquid base such as milk, yogurt, or juice to make a smoothie. Pour it into a bowl and top it with granola, nuts, seeds, and fresh fruit.\n",
      "- Oatmeal: Cook some rolled oats in milk or water and top it with your favorite toppings such as fruit, nuts, seeds, cinnamon, or honey.\n",
      "- Eggs: There are so many ways to enjoy eggs for breakfast! You can scramble them, fry them, poach them, or make an omelet with your favorite fillings. Serve them with some toast and fruit for a balanced meal.\n",
      "- Pancakes or waffles: Make a batch of your favorite pancake or waffle batter and cook them up for a special breakfast treat. Top them with butter, syrup, fruit, or whipped cream.\n",
      "- Yogurt parfait: Layer yogurt, granola, and fruit in a bowl or glass for a quick and easy breakfast parfait. You can also add some nuts, seeds, or honey for extra flavor and texture.\n",
      "\n",
      "Feel free to experiment and get creative with your breakfast options!\n"
     ]
    }
   ],
   "source": [
    "prompt = \"can you give me some ideas for breakfast?\"\n",
    "context = user_session.conversation_history()\n",
    "response = client.converse(prompt=prompt, context=context)\n",
    "user_session.store((prompt, response))\n",
    "print('USER: ', prompt)\n",
    "print('\\nLLM: ', response)"
   ]
  },
  {
   "cell_type": "markdown",
   "metadata": {},
   "source": [
    "Let's continue this conversation and inspect the context we're passing to the LLM as we go."
   ]
  },
  {
   "cell_type": "code",
   "execution_count": 9,
   "metadata": {},
   "outputs": [
    {
     "name": "stdout",
     "output_type": "stream",
     "text": [
      "USER:  can you give me the recipe for those pancakes?\n",
      "\n",
      "LLM:  Sure, here's a basic recipe for pancakes that you can adjust and customize to your liking:\n",
      "\n",
      "Ingredients:\n",
      "\n",
      "1 1/2 cups all-purpose flour\n",
      "3 1/2 teaspoons baking powder\n",
      "1 teaspoon salt\n",
      "1 tablespoon sugar\n",
      "1 1/4 cups milk\n",
      "1 egg\n",
      "3 tablespoons melted butter, plus more for the pan\n",
      "\n",
      "Instructions:\n",
      "\n",
      "Whisk together the flour, baking powder, salt, and sugar in a large bowl.\n",
      "In a separate bowl, whisk together the milk, egg, and melted butter.\n",
      "Pour the wet ingredients into the dry ingredients and stir until just combined. Be careful not to overmix the batter.\n",
      "Heat a nonstick pan or griddle over medium heat and grease it with a little butter.\n",
      "Pour about 1/4 cup of batter onto the pan for each pancake. Cook until the edges look dry and there are bubbles on the surface, then flip and cook for another minute or two on the other side.\n",
      "Serve the pancakes warm with your favorite toppings such as butter, syrup, fruit, or whipped cream.\n",
      "\n",
      "Feel free to add your own twist to the recipe by adding chocolate chips, blueberries, bananas, or other mix-ins to the batter. You can also substitute some of the all-purpose flour with whole wheat flour or add a dash of cinnamon or vanilla extract for extra flavor. Enjoy!\n"
     ]
    }
   ],
   "source": [
    "prompt = \"can you give me the recipe for those pancakes?\"\n",
    "context = user_session.conversation_history()\n",
    "response = client.converse(prompt=prompt, context=context)\n",
    "user_session.store((prompt, response))\n",
    "print('USER: ', prompt)\n",
    "print('\\nLLM: ', response)"
   ]
  },
  {
   "cell_type": "code",
   "execution_count": 10,
   "metadata": {},
   "outputs": [
    {
     "name": "stdout",
     "output_type": "stream",
     "text": [
      "{'role': '_preamble', '_content': 'You are a helpful chef, assisting people in making delicious meals'}\n",
      "{'role': '_user', '_content': 'can you give me some ideas for breakfast?'}\n",
      "{'role': '_llm', '_content': 'Sure! Here are a few breakfast ideas:\\n\\n- Avocado toast: This is a simple yet delicious breakfast option. Just toast some bread, smash an avocado on top, and add a squeeze of lemon juice and a pinch of salt and pepper. You can also add some sliced tomato or a fried egg on top.\\n- Smoothie bowl: Blend together your favorite fruits and vegetables with a liquid base such as milk, yogurt, or juice to make a smoothie. Pour it into a bowl and top it with granola, nuts, seeds, and fresh fruit.\\n- Oatmeal: Cook some rolled oats in milk or water and top it with your favorite toppings such as fruit, nuts, seeds, cinnamon, or honey.\\n- Eggs: There are so many ways to enjoy eggs for breakfast! You can scramble them, fry them, poach them, or make an omelet with your favorite fillings. Serve them with some toast and fruit for a balanced meal.\\n- Pancakes or waffles: Make a batch of your favorite pancake or waffle batter and cook them up for a special breakfast treat. Top them with butter, syrup, fruit, or whipped cream.\\n- Yogurt parfait: Layer yogurt, granola, and fruit in a bowl or glass for a quick and easy breakfast parfait. You can also add some nuts, seeds, or honey for extra flavor and texture.\\n\\nFeel free to experiment and get creative with your breakfast options!'}\n"
     ]
    }
   ],
   "source": [
    "for ctx in context:\n",
    "    print(ctx)"
   ]
  },
  {
   "cell_type": "code",
   "execution_count": 11,
   "metadata": {},
   "outputs": [
    {
     "name": "stdout",
     "output_type": "stream",
     "text": [
      "USER:  I am vegetarian. Can you remove the eggs?\n",
      "\n",
      "LLM:  Absolutely! Here's an egg-free version of the pancake recipe:\n",
      "\n",
      "Ingredients:\n",
      "\n",
      "1 1/2 cups all-purpose flour\n",
      "3 1/2 teaspoons baking powder\n",
      "1 teaspoon salt\n",
      "1 tablespoon sugar\n",
      "1 1/4 cups milk (dairy or non-dairy alternative)\n",
      "3 tablespoons melted butter, plus more for the pan\n",
      "\n",
      "Instructions:\n",
      "\n",
      "Whisk together the flour, baking powder, salt, and sugar in a large bowl.\n",
      "In a separate bowl, whisk together the milk and melted butter.\n",
      "Pour the wet ingredients into the dry ingredients and stir until just combined. Be careful not to overmix the batter.\n",
      "Heat a nonstick pan or griddle over medium heat and grease it with a little butter.\n",
      "Pour about 1/4 cup of batter onto the pan for each pancake. Cook until the edges look dry and there are bubbles on the surface, then flip and cook for another minute or two on the other side.\n",
      "Serve the pancakes warm with your favorite toppings such as butter, syrup, fruit, or whipped cream.\n",
      "\n",
      "This version of the recipe uses a higher ratio of milk to flour, which helps to compensate for the absence of eggs and still creates a delicious, fluffy pancake. Feel free to experiment with different types of milk and add your favorite vegetarian-friendly mix-ins or toppings!\n"
     ]
    }
   ],
   "source": [
    "prompt = \"I am vegetarian. Can you remove the eggs?\"\n",
    "context = user_session.conversation_history()\n",
    "response = client.converse(prompt=prompt, context=context)\n",
    "user_session.store((prompt, response))\n",
    "print('USER: ', prompt)\n",
    "print('\\nLLM: ', response)"
   ]
  },
  {
   "cell_type": "code",
   "execution_count": 12,
   "metadata": {},
   "outputs": [
    {
     "name": "stdout",
     "output_type": "stream",
     "text": [
      "{'role': '_preamble', '_content': 'You are a helpful chef, assisting people in making delicious meals'}\n",
      "{'role': '_user', '_content': 'can you give me some ideas for breakfast?'}\n",
      "{'role': '_llm', '_content': 'Sure! Here are a few breakfast ideas:\\n\\n- Avocado toast: This is a simple yet delicious breakfast option. Just toast some bread, smash an avocado on top, and add a squeeze of lemon juice and a pinch of salt and pepper. You can also add some sliced tomato or a fried egg on top.\\n- Smoothie bowl: Blend together your favorite fruits and vegetables with a liquid base such as milk, yogurt, or juice to make a smoothie. Pour it into a bowl and top it with granola, nuts, seeds, and fresh fruit.\\n- Oatmeal: Cook some rolled oats in milk or water and top it with your favorite toppings such as fruit, nuts, seeds, cinnamon, or honey.\\n- Eggs: There are so many ways to enjoy eggs for breakfast! You can scramble them, fry them, poach them, or make an omelet with your favorite fillings. Serve them with some toast and fruit for a balanced meal.\\n- Pancakes or waffles: Make a batch of your favorite pancake or waffle batter and cook them up for a special breakfast treat. Top them with butter, syrup, fruit, or whipped cream.\\n- Yogurt parfait: Layer yogurt, granola, and fruit in a bowl or glass for a quick and easy breakfast parfait. You can also add some nuts, seeds, or honey for extra flavor and texture.\\n\\nFeel free to experiment and get creative with your breakfast options!'}\n",
      "{'role': '_user', '_content': 'can you give me the recipe for those pancakes?'}\n",
      "{'role': '_llm', '_content': \"Sure, here's a basic recipe for pancakes that you can adjust and customize to your liking:\\n\\nIngredients:\\n\\n1 1/2 cups all-purpose flour\\n3 1/2 teaspoons baking powder\\n1 teaspoon salt\\n1 tablespoon sugar\\n1 1/4 cups milk\\n1 egg\\n3 tablespoons melted butter, plus more for the pan\\n\\nInstructions:\\n\\nWhisk together the flour, baking powder, salt, and sugar in a large bowl.\\nIn a separate bowl, whisk together the milk, egg, and melted butter.\\nPour the wet ingredients into the dry ingredients and stir until just combined. Be careful not to overmix the batter.\\nHeat a nonstick pan or griddle over medium heat and grease it with a little butter.\\nPour about 1/4 cup of batter onto the pan for each pancake. Cook until the edges look dry and there are bubbles on the surface, then flip and cook for another minute or two on the other side.\\nServe the pancakes warm with your favorite toppings such as butter, syrup, fruit, or whipped cream.\\n\\nFeel free to add your own twist to the recipe by adding chocolate chips, blueberries, bananas, or other mix-ins to the batter. You can also substitute some of the all-purpose flour with whole wheat flour or add a dash of cinnamon or vanilla extract for extra flavor. Enjoy!\"}\n"
     ]
    }
   ],
   "source": [
    "for ctx in context:\n",
    "    print(ctx)"
   ]
  },
  {
   "cell_type": "code",
   "execution_count": 14,
   "metadata": {},
   "outputs": [
    {
     "name": "stdout",
     "output_type": "stream",
     "text": [
      "USER:  I am also vegan. Can you replace the butter too?\n",
      "\n",
      "LLM:  Sure, to make the pancake recipe vegan, you can replace the butter with a vegan alternative. Here's the updated recipe:\n",
      "\n",
      "Ingredients:\n",
      "\n",
      "1 1/2 cups all-purpose flour\n",
      "3 1/2 teaspoons baking powder\n",
      "1 teaspoon salt\n",
      "1 tablespoon sugar\n",
      "1 1/4 cups plant-based milk (such as soy, almond, or oat milk)\n",
      "3 tablespoons neutral-flavored oil (such as canola or vegetable oil), plus more for the pan\n",
      "\n",
      "Instructions:\n",
      "\n",
      "Whisk together the flour, baking powder, salt, and sugar in a large bowl.\n",
      "In a separate bowl, whisk together the plant-based milk and oil.\n",
      "Pour the wet ingredients into the dry ingredients and stir until just combined. Be careful not to overmix the batter.\n",
      "Heat a nonstick pan or griddle over medium heat and grease it with a little oil.\n",
      "Pour about 1/4 cup of batter onto the pan for each pancake. Cook until the edges look dry and there are bubbles on the surface, then flip and cook for another minute or two on the other side.\n",
      "Serve the pancakes warm with your favorite vegan toppings such as maple syrup, fresh fruit, or a dairy-free butter alternative.\n",
      "\n",
      "By substituting plant-based milk and oil for dairy milk and butter, you can enjoy these fluffy pancakes while adhering to a vegan diet. Feel free to add your favorite vegan mix-ins, such as chocolate chips or chopped nuts, to make them even more delicious!\n"
     ]
    }
   ],
   "source": [
    "prompt = \"I am also vegan. Can you replace the butter too?\"\n",
    "context = user_session.conversation_history()\n",
    "response = client.converse(prompt=prompt, context=context)\n",
    "user_session.store((prompt, response))\n",
    "print('USER: ', prompt)\n",
    "print('\\nLLM: ', response)"
   ]
  },
  {
   "cell_type": "code",
   "execution_count": 15,
   "metadata": {},
   "outputs": [
    {
     "name": "stdout",
     "output_type": "stream",
     "text": [
      "{'role': '_preamble', '_content': 'You are a helpful chef, assisting people in making delicious meals'}\n",
      "{'role': '_user', '_content': 'can you give me some ideas for breakfast?'}\n",
      "{'role': '_llm', '_content': 'Sure! Here are a few breakfast ideas:\\n\\n- Avocado toast: This is a simple yet delicious breakfast option. Just toast some bread, smash an avocado on top, and add a squeeze of lemon juice and a pinch of salt and pepper. You can also add some sliced tomato or a fried egg on top.\\n- Smoothie bowl: Blend together your favorite fruits and vegetables with a liquid base such as milk, yogurt, or juice to make a smoothie. Pour it into a bowl and top it with granola, nuts, seeds, and fresh fruit.\\n- Oatmeal: Cook some rolled oats in milk or water and top it with your favorite toppings such as fruit, nuts, seeds, cinnamon, or honey.\\n- Eggs: There are so many ways to enjoy eggs for breakfast! You can scramble them, fry them, poach them, or make an omelet with your favorite fillings. Serve them with some toast and fruit for a balanced meal.\\n- Pancakes or waffles: Make a batch of your favorite pancake or waffle batter and cook them up for a special breakfast treat. Top them with butter, syrup, fruit, or whipped cream.\\n- Yogurt parfait: Layer yogurt, granola, and fruit in a bowl or glass for a quick and easy breakfast parfait. You can also add some nuts, seeds, or honey for extra flavor and texture.\\n\\nFeel free to experiment and get creative with your breakfast options!'}\n",
      "{'role': '_user', '_content': 'can you give me the recipe for those pancakes?'}\n",
      "{'role': '_llm', '_content': \"Sure, here's a basic recipe for pancakes that you can adjust and customize to your liking:\\n\\nIngredients:\\n\\n1 1/2 cups all-purpose flour\\n3 1/2 teaspoons baking powder\\n1 teaspoon salt\\n1 tablespoon sugar\\n1 1/4 cups milk\\n1 egg\\n3 tablespoons melted butter, plus more for the pan\\n\\nInstructions:\\n\\nWhisk together the flour, baking powder, salt, and sugar in a large bowl.\\nIn a separate bowl, whisk together the milk, egg, and melted butter.\\nPour the wet ingredients into the dry ingredients and stir until just combined. Be careful not to overmix the batter.\\nHeat a nonstick pan or griddle over medium heat and grease it with a little butter.\\nPour about 1/4 cup of batter onto the pan for each pancake. Cook until the edges look dry and there are bubbles on the surface, then flip and cook for another minute or two on the other side.\\nServe the pancakes warm with your favorite toppings such as butter, syrup, fruit, or whipped cream.\\n\\nFeel free to add your own twist to the recipe by adding chocolate chips, blueberries, bananas, or other mix-ins to the batter. You can also substitute some of the all-purpose flour with whole wheat flour or add a dash of cinnamon or vanilla extract for extra flavor. Enjoy!\"}\n",
      "{'role': '_user', '_content': 'I am vegetarian. Can you remove the eggs?'}\n",
      "{'role': '_llm', '_content': \"Absolutely! Here's an egg-free version of the pancake recipe:\\n\\nIngredients:\\n\\n1 1/2 cups all-purpose flour\\n3 1/2 teaspoons baking powder\\n1 teaspoon salt\\n1 tablespoon sugar\\n1 1/4 cups milk (dairy or non-dairy alternative)\\n3 tablespoons melted butter, plus more for the pan\\n\\nInstructions:\\n\\nWhisk together the flour, baking powder, salt, and sugar in a large bowl.\\nIn a separate bowl, whisk together the milk and melted butter.\\nPour the wet ingredients into the dry ingredients and stir until just combined. Be careful not to overmix the batter.\\nHeat a nonstick pan or griddle over medium heat and grease it with a little butter.\\nPour about 1/4 cup of batter onto the pan for each pancake. Cook until the edges look dry and there are bubbles on the surface, then flip and cook for another minute or two on the other side.\\nServe the pancakes warm with your favorite toppings such as butter, syrup, fruit, or whipped cream.\\n\\nThis version of the recipe uses a higher ratio of milk to flour, which helps to compensate for the absence of eggs and still creates a delicious, fluffy pancake. Feel free to experiment with different types of milk and add your favorite vegetarian-friendly mix-ins or toppings!\"}\n"
     ]
    }
   ],
   "source": [
    "for ctx in context:\n",
    "    print(ctx)"
   ]
  },
  {
   "cell_type": "markdown",
   "metadata": {},
   "source": [
    "This works, but our context keeps growing, increasing our LLM token count, which increases latency and cost.\n",
    "Conversation histories can be truncated, but that that break quickly."
   ]
  },
  {
   "cell_type": "code",
   "execution_count": 17,
   "metadata": {},
   "outputs": [
    {
     "name": "stdout",
     "output_type": "stream",
     "text": [
      "USER:  I changed my mind. Can you give me the first recipe from your list?\n",
      "\n",
      "LLM:  Sure, here's the first recipe for pancakes that I provided: \n",
      "\n",
      "Ingredients:\n",
      "\n",
      "1 1/2 cups all-purpose flour\n",
      "3 1/2 teaspoons baking powder\n",
      "1 teaspoon salt\n",
      "1 tablespoon sugar\n",
      "1 1/4 cups milk\n",
      "1 egg\n",
      "3 tablespoons melted butter, plus more for the pan\n",
      "\n",
      "Instructions:\n",
      "\n",
      "Whisk together the flour, baking powder, salt, and sugar in a large bowl.\n",
      "In a separate bowl, whisk together the milk, egg, and melted butter.\n",
      "Pour the wet ingredients into the dry ingredients and stir until just combined. Be careful not to overmix the batter; a few lumps are okay.\n",
      "Heat a nonstick pan or griddle over medium heat and grease it with a little butter.\n",
      "Pour about 1/4 cup of batter onto the pan for each pancake. Cook until the edges look dry and small bubbles start to appear on the surface, about 2-3 minutes.\n",
      "Flip the pancakes carefully and cook for an additional 1-2 minutes on the other side until golden brown.\n",
      "Serve the pancakes warm with your choice of toppings such as butter, maple syrup, fresh fruit, or whipped cream.\n",
      "\n",
      "This recipe yields a stack of fluffy, delicious pancakes that are perfect for breakfast or brunch. You can easily double or triple the recipe to feed a crowd or make a bigger batch for yourself. Enjoy!\n"
     ]
    }
   ],
   "source": [
    "prompt = \"I changed my mind. Can you give me the first recipe from your list?\"\n",
    "context = user_session.conversation_history(top_k=3)\n",
    "response = client.converse(prompt=prompt, context=context)\n",
    "user_session.store((prompt, response))\n",
    "print('USER: ', prompt)\n",
    "print('\\nLLM: ', response)"
   ]
  },
  {
   "cell_type": "code",
   "execution_count": 18,
   "metadata": {},
   "outputs": [
    {
     "name": "stdout",
     "output_type": "stream",
     "text": [
      "{'role': '_preamble', '_content': 'You are a helpful chef, assisting people in making delicious meals'}\n",
      "{'role': '_user', '_content': 'can you give me the recipe for those pancakes?'}\n",
      "{'role': '_llm', '_content': \"Sure, here's a basic recipe for pancakes that you can adjust and customize to your liking:\\n\\nIngredients:\\n\\n1 1/2 cups all-purpose flour\\n3 1/2 teaspoons baking powder\\n1 teaspoon salt\\n1 tablespoon sugar\\n1 1/4 cups milk\\n1 egg\\n3 tablespoons melted butter, plus more for the pan\\n\\nInstructions:\\n\\nWhisk together the flour, baking powder, salt, and sugar in a large bowl.\\nIn a separate bowl, whisk together the milk, egg, and melted butter.\\nPour the wet ingredients into the dry ingredients and stir until just combined. Be careful not to overmix the batter.\\nHeat a nonstick pan or griddle over medium heat and grease it with a little butter.\\nPour about 1/4 cup of batter onto the pan for each pancake. Cook until the edges look dry and there are bubbles on the surface, then flip and cook for another minute or two on the other side.\\nServe the pancakes warm with your favorite toppings such as butter, syrup, fruit, or whipped cream.\\n\\nFeel free to add your own twist to the recipe by adding chocolate chips, blueberries, bananas, or other mix-ins to the batter. You can also substitute some of the all-purpose flour with whole wheat flour or add a dash of cinnamon or vanilla extract for extra flavor. Enjoy!\"}\n",
      "{'role': '_user', '_content': 'I am vegetarian. Can you remove the eggs?'}\n",
      "{'role': '_llm', '_content': \"Absolutely! Here's an egg-free version of the pancake recipe:\\n\\nIngredients:\\n\\n1 1/2 cups all-purpose flour\\n3 1/2 teaspoons baking powder\\n1 teaspoon salt\\n1 tablespoon sugar\\n1 1/4 cups milk (dairy or non-dairy alternative)\\n3 tablespoons melted butter, plus more for the pan\\n\\nInstructions:\\n\\nWhisk together the flour, baking powder, salt, and sugar in a large bowl.\\nIn a separate bowl, whisk together the milk and melted butter.\\nPour the wet ingredients into the dry ingredients and stir until just combined. Be careful not to overmix the batter.\\nHeat a nonstick pan or griddle over medium heat and grease it with a little butter.\\nPour about 1/4 cup of batter onto the pan for each pancake. Cook until the edges look dry and there are bubbles on the surface, then flip and cook for another minute or two on the other side.\\nServe the pancakes warm with your favorite toppings such as butter, syrup, fruit, or whipped cream.\\n\\nThis version of the recipe uses a higher ratio of milk to flour, which helps to compensate for the absence of eggs and still creates a delicious, fluffy pancake. Feel free to experiment with different types of milk and add your favorite vegetarian-friendly mix-ins or toppings!\"}\n",
      "{'role': '_user', '_content': 'I am also vegan. Can you replace the butter too?'}\n",
      "{'role': '_llm', '_content': \"Sure, to make the pancake recipe vegan, you can replace the butter with a vegan alternative. Here's the updated recipe:\\n\\nIngredients:\\n\\n1 1/2 cups all-purpose flour\\n3 1/2 teaspoons baking powder\\n1 teaspoon salt\\n1 tablespoon sugar\\n1 1/4 cups plant-based milk (such as soy, almond, or oat milk)\\n3 tablespoons neutral-flavored oil (such as canola or vegetable oil), plus more for the pan\\n\\nInstructions:\\n\\nWhisk together the flour, baking powder, salt, and sugar in a large bowl.\\nIn a separate bowl, whisk together the plant-based milk and oil.\\nPour the wet ingredients into the dry ingredients and stir until just combined. Be careful not to overmix the batter.\\nHeat a nonstick pan or griddle over medium heat and grease it with a little oil.\\nPour about 1/4 cup of batter onto the pan for each pancake. Cook until the edges look dry and there are bubbles on the surface, then flip and cook for another minute or two on the other side.\\nServe the pancakes warm with your favorite vegan toppings such as maple syrup, fresh fruit, or a dairy-free butter alternative.\\n\\nBy substituting plant-based milk and oil for dairy milk and butter, you can enjoy these fluffy pancakes while adhering to a vegan diet. Feel free to add your favorite vegan mix-ins, such as chocolate chips or chopped nuts, to make them even more delicious!\"}\n"
     ]
    }
   ],
   "source": [
    "for ctx in context:\n",
    "    print(ctx)"
   ]
  },
  {
   "cell_type": "markdown",
   "metadata": {},
   "source": [
    "The LLM has forgotten about the avocado toast it mentioned because that was too far back in it's conversation history!"
   ]
  },
  {
   "cell_type": "markdown",
   "metadata": {},
   "source": [
    "## Semantic session memory"
   ]
  },
  {
   "cell_type": "markdown",
   "metadata": {},
   "source": [
    "Rather than naively give pass the most recent conversation we can use RedisVL to find only the semantically relevant sections of our conversation based on our new prompt. We can do this with the `fetch_context()` method."
   ]
  },
  {
   "cell_type": "code",
   "execution_count": 52,
   "metadata": {},
   "outputs": [
    {
     "name": "stdout",
     "output_type": "stream",
     "text": [
      "USER:  Can you give me the avocado one?\n",
      "\n",
      "LLM:  Sure, here's a simple recipe for avocado toast:\n",
      "\n",
      "Ingredients:\n",
      "- 1 ripe avocado\n",
      "- 1 slice of your favorite bread\n",
      "- Lemon juice, to taste\n",
      "- Salt and pepper, to taste\n",
      "- Optional: sliced tomato, a fried egg, or any other desired toppings\n",
      "\n",
      "Directions:\n",
      "1. Toast your bread to your desired level.\n",
      "2. While the bread is toasting, smash the avocado in a bowl with a fork until it reaches your desired consistency. You can leave it chunkier or make it smoother, depending on your preference.\n",
      "3. Add a squeeze of lemon juice to the avocado and season with salt and pepper to taste. Mix it all together.\n",
      "4. Once the bread is toasted, spread the avocado mixture on top.\n",
      "5. If desired, add any additional toppings such as sliced tomato or a fried egg.\n",
      "6. Enjoy your delicious and nutritious avocado toast!\n",
      "\n",
      "Feel free to experiment with different types of bread and additional toppings to create your own unique version of avocado toast!\n"
     ]
    }
   ],
   "source": [
    "prompt = \"Can you give me the avocado one?\"\n",
    "user_session.set_distance_threshold(0.75)\n",
    "context = user_session.fetch_context(prompt=prompt)\n",
    "response = client.converse(prompt=prompt, context=context)\n",
    "user_session.store((prompt, response))\n",
    "print('USER: ', prompt)\n",
    "print('\\nLLM: ', response)"
   ]
  },
  {
   "cell_type": "code",
   "execution_count": 53,
   "metadata": {},
   "outputs": [
    {
     "name": "stdout",
     "output_type": "stream",
     "text": [
      "{'role': '_preamble', '_content': 'You are a helpful chef, assisting people in making delicious meals'}\n",
      "{'role': '_user', '_content': 'can you give me some ideas for breakfast?'}\n",
      "{'role': '_llm', '_content': 'Sure! Here are a few breakfast ideas:\\n\\n- Avocado toast: This is a simple yet delicious breakfast option. Just toast some bread, smash an avocado on top, and add a squeeze of lemon juice and a pinch of salt and pepper. You can also add some sliced tomato or a fried egg on top.\\n- Smoothie bowl: Blend together your favorite fruits and vegetables with a liquid base such as milk, yogurt, or juice to make a smoothie. Pour it into a bowl and top it with granola, nuts, seeds, and fresh fruit.\\n- Oatmeal: Cook some rolled oats in milk or water and top it with your favorite toppings such as fruit, nuts, seeds, cinnamon, or honey.\\n- Eggs: There are so many ways to enjoy eggs for breakfast! You can scramble them, fry them, poach them, or make an omelet with your favorite fillings. Serve them with some toast and fruit for a balanced meal.\\n- Pancakes or waffles: Make a batch of your favorite pancake or waffle batter and cook them up for a special breakfast treat. Top them with butter, syrup, fruit, or whipped cream.\\n- Yogurt parfait: Layer yogurt, granola, and fruit in a bowl or glass for a quick and easy breakfast parfait. You can also add some nuts, seeds, or honey for extra flavor and texture.\\n\\nFeel free to experiment and get creative with your breakfast options!'}\n"
     ]
    }
   ],
   "source": [
    "for ctx in context:\n",
    "    print(ctx)"
   ]
  },
  {
   "cell_type": "markdown",
   "metadata": {},
   "source": [
    "Looking at the context we see that only the conversation section that had to do with avocados was retrieved. We don't need to know about pancakes to make avocado toast."
   ]
  },
  {
   "cell_type": "markdown",
   "metadata": {},
   "source": [
    "###############################\n",
    "Repeat with OpenAI\n",
    "###############################"
   ]
  },
  {
   "cell_type": "markdown",
   "metadata": {},
   "source": [
    "Start by creating a simple wrapper around your LLM provider of choice. Here we'll use [OpenAI](https://platform.openai.com)."
   ]
  },
  {
   "cell_type": "code",
   "execution_count": 18,
   "metadata": {},
   "outputs": [],
   "source": [
    "from typing import Dict, List\n",
    "import os\n",
    "from openai import OpenAI\n",
    "\n",
    "class OpenAIClient():\n",
    "    def __init__(self, api_key: str = None, model:str ='gpt-3.5-turbo'):\n",
    "        api_key = api_key or os.getenv(\"OPENAI_API_KEY\")\n",
    "        self.client = OpenAI(api_key=api_key)\n",
    "        self._model = model\n",
    "\n",
    "    def converse(self, prompt: str, context: List[Dict], max_tokens: int = 250) -> str:\n",
    "        context = self._remap(context)\n",
    "        messages = context + [{\"role\": \"user\", \"content\": prompt}]\n",
    "        response = self.client.chat.completions.create(\n",
    "            model = self._model,\n",
    "            messages = messages,\n",
    "            max_tokens = max_tokens\n",
    "        )\n",
    "        return response.choices[0].message.content\n",
    "\n",
    "    def _remap(self, context: List[Dict]) -> List[Dict]:\n",
    "        ''' re-index the chat history to match the OpenAI API requirements '''\n",
    "        new_context = []\n",
    "        for statement in context:\n",
    "            if statement[\"role\"] == \"_user\":\n",
    "                new_statement = {\"role\": \"user\", \"content\": statement[\"_content\"]}\n",
    "            elif statement[\"role\"] == \"_llm\":\n",
    "                new_statement = {\"role\": \"assistant\", \"content\": statement[\"_content\"]}\n",
    "            elif statement[\"role\"] == \"_preamble\":\n",
    "                new_statement = {\"role\": \"system\", \"content\": statement[\"_content\"]}\n",
    "            else:\n",
    "                raise ValueError(f'Unknown chat role {statement[\"role\"]}')\n",
    "            new_context.append(new_statement)\n",
    "        return new_context"
   ]
  },
  {
   "cell_type": "markdown",
   "metadata": {},
   "source": [
    "To store and retrieve our conversational history we'll use a `SessionManager` from RedisVL.\n",
    "As an example, we'll have OpenAI help with our meal planning. We'll set the preamble - a permanent prompt that will be included at the start of every LLM call to tell the model how to behave."
   ]
  },
  {
   "cell_type": "code",
   "execution_count": 17,
   "metadata": {},
   "outputs": [],
   "source": [
    "from redisvl.extensions.session_manager import SessionManager"
   ]
  },
  {
   "cell_type": "code",
   "execution_count": 19,
   "metadata": {},
   "outputs": [
    {
     "name": "stdout",
     "output_type": "stream",
     "text": [
      "10:34:35 redisvl.index.index INFO   Index already exists, not overwriting.\n"
     ]
    }
   ],
   "source": [
    "user_session = SessionManager(name='example', session_id='123', user_id='abc', application_id='sample_app')\n",
    "user_session.set_preamble(\"You are a helpful chef, assisting people in making delicious meals\")\n",
    "\n",
    "client = OpenAIClient()"
   ]
  },
  {
   "cell_type": "code",
   "execution_count": 20,
   "metadata": {},
   "outputs": [
    {
     "name": "stdout",
     "output_type": "stream",
     "text": [
      "USER:  can you give me some ideas for breakfast?\n",
      "\n",
      "LLM:  Of course! Here are some breakfast ideas for you:\n",
      "\n",
      "1. Classic French toast with a dusting of powdered sugar and a drizzle of maple syrup.\n",
      "2. Homemade pancakes topped with fresh berries, a dollop of Greek yogurt, and a drizzle of honey.\n",
      "3. Breakfast parfait with layers of Greek yogurt, homemade granola, and mixed berries.\n",
      "4. Veggie frittata made with eggs, spinach, cherry tomatoes, and feta cheese.\n",
      "5. Chia seed pudding topped with sliced bananas, almonds, and a sprinkle of cinnamon.\n",
      "6. Breakfast quesadilla filled with scrambled eggs, black beans, cheese, and salsa.\n",
      "7. Overnight oats with almond milk, chia seeds, sliced almonds, and diced mango.\n",
      "\n",
      "I hope you find these breakfast ideas inspiring and delicious! Enjoy your morning meal.\n"
     ]
    }
   ],
   "source": [
    "prompt = \"can you give me some ideas for breakfast?\"\n",
    "context = user_session.fetch_context(prompt)\n",
    "response = client.converse(prompt=prompt, context=context)\n",
    "user_session.store((prompt, response))\n",
    "print('USER: ', prompt)\n",
    "print('\\nLLM: ', response)"
   ]
  },
  {
   "cell_type": "code",
   "execution_count": 21,
   "metadata": {},
   "outputs": [
    {
     "name": "stdout",
     "output_type": "stream",
     "text": [
      "USER:  can you give me the recipe for those pancakes?\n",
      "\n",
      "LLM:  Absolutely! Here's a simple and delicious pancake recipe for you to enjoy:\n",
      "\n",
      "Ingredients:\n",
      "- 1 cup all-purpose flour\n",
      "- 2 tablespoons granulated sugar\n",
      "- 1 teaspoon baking powder\n",
      "- 1/2 teaspoon baking soda\n",
      "- 1/4 teaspoon salt\n",
      "- 1 cup buttermilk\n",
      "- 1 large egg\n",
      "- 2 tablespoons melted butter\n",
      "- 1 teaspoon vanilla extract\n",
      "- Butter or oil for greasing the pan\n",
      "\n",
      "Instructions:\n",
      "1. In a large mixing bowl, whisk together the flour, sugar, baking powder, baking soda, and salt.\n",
      "2. In a separate bowl, whisk together the buttermilk, egg, melted butter, and vanilla extract.\n",
      "3. Pour the wet ingredients into the dry ingredients and gently stir until just combined. Be careful not to overmix; a few lumps in the batter are okay.\n",
      "4. Let the batter rest for about 5 minutes while you preheat a non-stick skillet or griddle over medium heat.\n",
      "5. Grease the pan with a little butter or oil. Use a 1/4 cup measuring cup to pour the batter onto the pan.\n",
      "6. Cook the pancakes for 2-3 minutes on one side\n"
     ]
    }
   ],
   "source": [
    "prompt = \"can you give me the recipe for those pancakes?\"\n",
    "context = user_session.fetch_context(prompt)\n",
    "response = client.converse(prompt=prompt, context=context)\n",
    "user_session.store((prompt, response))\n",
    "print('USER: ', prompt)\n",
    "print('\\nLLM: ', response)"
   ]
  },
  {
   "cell_type": "code",
   "execution_count": 22,
   "metadata": {},
   "outputs": [
    {
     "name": "stdout",
     "output_type": "stream",
     "text": [
      "{'role': '_preamble', '_content': 'You are a helpful chef, assisting people in making delicious meals'}\n",
      "{'role': '_user', '_content': 'I changed my mind. Give me the veggie omlette recipe.'}\n",
      "{'role': '_llm', '_content': \"Absolutely! Here's a simple and delicious veggie omelette recipe for you:\\n\\nIngredients:\\n- 3 large eggs\\n- 1/4 cup sliced mushrooms\\n- 1/4 cup diced bell peppers (any color you prefer)\\n- 1 cup fresh spinach leaves\\n- 1/4 cup crumbled feta cheese\\n- Salt and pepper to taste\\n- Olive oil for cooking\\n\\nInstructions:\\n1. In a bowl, whisk the eggs together until well beaten. Season with a pinch of salt and pepper.\\n2. Heat a non-stick skillet over medium heat and add a drizzle of olive oil.\\n3. Add the mushrooms and bell peppers to the skillet and sauté for a few minutes until they start to soften.\\n4. Add the spinach leaves to the skillet and cook until wilted.\\n5. Pour the beaten eggs over the vegetables in the skillet. Tilt the skillet to spread the eggs evenly.\\n6. Cook the omelette for a few minutes until the edges start to set.\\n7. Sprinkle the crumbled feta cheese over one side of the omelette.\\n8. Using a spatula, carefully fold the omelette in half to cover the filling.\\n9. Cook\"}\n",
      "{'role': '_user', '_content': 'Can you take out the feta cheese from that?'}\n",
      "{'role': '_llm', '_content': \"Of course! Here's the modified veggie omelette recipe without feta cheese:\\n\\nIngredients:\\n- 3 large eggs\\n- 1/4 cup sliced mushrooms\\n- 1/4 cup diced bell peppers (any color you prefer)\\n- 1 cup fresh spinach leaves\\n- Salt and pepper to taste\\n- Olive oil for cooking\\n\\nInstructions:\\n1. In a bowl, whisk the eggs together until well beaten. Season with a pinch of salt and pepper.\\n2. Heat a non-stick skillet over medium heat and add a drizzle of olive oil.\\n3. Add the mushrooms and bell peppers to the skillet and sauté for a few minutes until they start to soften.\\n4. Add the spinach leaves to the skillet and cook until wilted.\\n5. Pour the beaten eggs over the vegetables in the skillet. Tilt the skillet to spread the eggs evenly.\\n6. Cook the omelette for a few minutes until the edges start to set.\\n7. Using a spatula, carefully fold the omelette in half.\\n8. Cook for another minute or until the eggs are fully cooked through.\\n9. Slide the omelette onto a plate and serve hot.\\n\\nEnjoy your delicious and nutritious veggie o\"}\n",
      "{'role': '_user', '_content': 'can you give me some ideas for breakfast?'}\n",
      "{'role': '_llm', '_content': 'Of course! Here are some breakfast ideas for you:\\n\\n1. Classic French toast with a dusting of powdered sugar and a drizzle of maple syrup.\\n2. Homemade pancakes topped with fresh berries, a dollop of Greek yogurt, and a drizzle of honey.\\n3. Breakfast parfait with layers of Greek yogurt, homemade granola, and mixed berries.\\n4. Veggie frittata made with eggs, spinach, cherry tomatoes, and feta cheese.\\n5. Chia seed pudding topped with sliced bananas, almonds, and a sprinkle of cinnamon.\\n6. Breakfast quesadilla filled with scrambled eggs, black beans, cheese, and salsa.\\n7. Overnight oats with almond milk, chia seeds, sliced almonds, and diced mango.\\n\\nI hope you find these breakfast ideas inspiring and delicious! Enjoy your morning meal.'}\n"
     ]
    }
   ],
   "source": [
    "for ctx in context:\n",
    "    print(ctx)"
   ]
  },
  {
   "cell_type": "code",
   "execution_count": 23,
   "metadata": {},
   "outputs": [
    {
     "name": "stdout",
     "output_type": "stream",
     "text": [
      "USER:  I'm vegan. Can you remove the eggs and update that recipe?\n",
      "LLM:  Absolutely! Here's a vegan version of the pancake recipe for you:\n",
      "\n",
      "Ingredients:\n",
      "- 1 cup all-purpose flour\n",
      "- 2 tablespoons granulated sugar\n",
      "- 1 tablespoon baking powder\n",
      "- 1/4 teaspoon salt\n",
      "- 1 cup non-dairy milk (such as almond or soy milk)\n",
      "- 2 tablespoons melted coconut oil or vegetable oil\n",
      "- 1 teaspoon vanilla extract\n",
      "\n",
      "Instructions:\n",
      "1. In a mixing bowl, whisk together the flour, sugar, baking powder, and salt.\n",
      "2. In a separate bowl, whisk together the non-dairy milk, melted coconut oil, and vanilla extract.\n",
      "3. Pour the wet ingredients into the dry ingredients and mix until just combined. Be careful not to overmix; a few lumps in the batter are okay.\n",
      "4. Let the batter rest for about 5 minutes while you preheat a non-stick skillet or griddle over medium heat.\n",
      "5. Grease the pan with a little coconut oil or vegetable oil. Use a 1/4 cup measuring cup to pour the batter onto the pan.\n",
      "6. Cook the pancakes for 2-3 minutes on one side, or until bubbles form on the surface. Flip and cook for another 1-\n"
     ]
    }
   ],
   "source": [
    "prompt = \"I'm vegan. Can you remove the eggs and update that recipe?\"\n",
    "context = user_session.fetch_context(prompt)\n",
    "response = client.converse(prompt=prompt, context=context)\n",
    "user_session.store((prompt, response))\n",
    "print('USER: ', prompt)\n",
    "print('LLM: ', response)"
   ]
  },
  {
   "cell_type": "code",
   "execution_count": 24,
   "metadata": {},
   "outputs": [
    {
     "name": "stdout",
     "output_type": "stream",
     "text": [
      "{'role': '_preamble', '_content': 'You are a helpful chef, assisting people in making delicious meals'}\n",
      "{'role': '_user', '_content': 'Can you take out the feta cheese from that?'}\n",
      "{'role': '_llm', '_content': \"Of course! Here's the modified veggie omelette recipe without feta cheese:\\n\\nIngredients:\\n- 3 large eggs\\n- 1/4 cup sliced mushrooms\\n- 1/4 cup diced bell peppers (any color you prefer)\\n- 1 cup fresh spinach leaves\\n- Salt and pepper to taste\\n- Olive oil for cooking\\n\\nInstructions:\\n1. In a bowl, whisk the eggs together until well beaten. Season with a pinch of salt and pepper.\\n2. Heat a non-stick skillet over medium heat and add a drizzle of olive oil.\\n3. Add the mushrooms and bell peppers to the skillet and sauté for a few minutes until they start to soften.\\n4. Add the spinach leaves to the skillet and cook until wilted.\\n5. Pour the beaten eggs over the vegetables in the skillet. Tilt the skillet to spread the eggs evenly.\\n6. Cook the omelette for a few minutes until the edges start to set.\\n7. Using a spatula, carefully fold the omelette in half.\\n8. Cook for another minute or until the eggs are fully cooked through.\\n9. Slide the omelette onto a plate and serve hot.\\n\\nEnjoy your delicious and nutritious veggie o\"}\n",
      "{'role': '_user', '_content': 'can you give me some ideas for breakfast?'}\n",
      "{'role': '_llm', '_content': 'Of course! Here are some breakfast ideas for you:\\n\\n1. Classic French toast with a dusting of powdered sugar and a drizzle of maple syrup.\\n2. Homemade pancakes topped with fresh berries, a dollop of Greek yogurt, and a drizzle of honey.\\n3. Breakfast parfait with layers of Greek yogurt, homemade granola, and mixed berries.\\n4. Veggie frittata made with eggs, spinach, cherry tomatoes, and feta cheese.\\n5. Chia seed pudding topped with sliced bananas, almonds, and a sprinkle of cinnamon.\\n6. Breakfast quesadilla filled with scrambled eggs, black beans, cheese, and salsa.\\n7. Overnight oats with almond milk, chia seeds, sliced almonds, and diced mango.\\n\\nI hope you find these breakfast ideas inspiring and delicious! Enjoy your morning meal.'}\n",
      "{'role': '_user', '_content': 'can you give me the recipe for those pancakes?'}\n",
      "{'role': '_llm', '_content': \"Absolutely! Here's a simple and delicious pancake recipe for you to enjoy:\\n\\nIngredients:\\n- 1 cup all-purpose flour\\n- 2 tablespoons granulated sugar\\n- 1 teaspoon baking powder\\n- 1/2 teaspoon baking soda\\n- 1/4 teaspoon salt\\n- 1 cup buttermilk\\n- 1 large egg\\n- 2 tablespoons melted butter\\n- 1 teaspoon vanilla extract\\n- Butter or oil for greasing the pan\\n\\nInstructions:\\n1. In a large mixing bowl, whisk together the flour, sugar, baking powder, baking soda, and salt.\\n2. In a separate bowl, whisk together the buttermilk, egg, melted butter, and vanilla extract.\\n3. Pour the wet ingredients into the dry ingredients and gently stir until just combined. Be careful not to overmix; a few lumps in the batter are okay.\\n4. Let the batter rest for about 5 minutes while you preheat a non-stick skillet or griddle over medium heat.\\n5. Grease the pan with a little butter or oil. Use a 1/4 cup measuring cup to pour the batter onto the pan.\\n6. Cook the pancakes for 2-3 minutes on one side\"}\n"
     ]
    }
   ],
   "source": [
    "for ctx in context:\n",
    "    print(ctx)"
   ]
  },
  {
   "cell_type": "code",
   "execution_count": 25,
   "metadata": {},
   "outputs": [
    {
     "name": "stdout",
     "output_type": "stream",
     "text": [
      "USER:  Can you swap out the bananas for blue berries?\n",
      "LLM:  Of course! You can easily make blueberry pancakes by adding fresh or frozen blueberries to the pancake batter. Here's how you can modify the vegan pancake recipe to include blueberries:\n",
      "\n",
      "Ingredients:\n",
      "- 1 cup all-purpose flour\n",
      "- 2 tablespoons granulated sugar\n",
      "- 1 tablespoon baking powder\n",
      "- 1/4 teaspoon salt\n",
      "- 1 cup non-dairy milk (such as almond or soy milk)\n",
      "- 2 tablespoons melted coconut oil or vegetable oil\n",
      "- 1 teaspoon vanilla extract\n",
      "- 1/2 cup fresh or frozen blueberries\n",
      "\n",
      "Instructions:\n",
      "1. Follow the same steps as the vegan pancake recipe above until you have mixed the wet and dry ingredients together.\n",
      "2. Gently fold in the blueberries into the pancake batter until evenly distributed.\n",
      "3. Let the batter rest for about 5 minutes while you preheat a non-stick skillet or griddle over medium heat.\n",
      "4. Grease the pan with a little coconut oil or vegetable oil. Use a 1/4 cup measuring cup to pour the blueberry pancake batter onto the pan.\n",
      "5. Cook the pancakes for 2-3 minutes on one side, or until bubbles form on the surface. Flip and\n"
     ]
    }
   ],
   "source": [
    "prompt = \"Can you swap out the bananas for blue berries?\"\n",
    "context = user_session.fetch_context(prompt)\n",
    "response = client.converse(prompt=prompt, context=context)\n",
    "user_session.store((prompt, response))\n",
    "print('USER: ', prompt)\n",
    "print('LLM: ', response)"
   ]
  },
  {
   "cell_type": "code",
   "execution_count": 26,
   "metadata": {},
   "outputs": [
    {
     "name": "stdout",
     "output_type": "stream",
     "text": [
      "{'role': '_preamble', '_content': 'You are a helpful chef, assisting people in making delicious meals'}\n",
      "{'role': '_user', '_content': 'can you give me some ideas for breakfast?'}\n",
      "{'role': '_llm', '_content': 'Of course! Here are some breakfast ideas for you:\\n\\n1. Classic French toast with a dusting of powdered sugar and a drizzle of maple syrup.\\n2. Homemade pancakes topped with fresh berries, a dollop of Greek yogurt, and a drizzle of honey.\\n3. Breakfast parfait with layers of Greek yogurt, homemade granola, and mixed berries.\\n4. Veggie frittata made with eggs, spinach, cherry tomatoes, and feta cheese.\\n5. Chia seed pudding topped with sliced bananas, almonds, and a sprinkle of cinnamon.\\n6. Breakfast quesadilla filled with scrambled eggs, black beans, cheese, and salsa.\\n7. Overnight oats with almond milk, chia seeds, sliced almonds, and diced mango.\\n\\nI hope you find these breakfast ideas inspiring and delicious! Enjoy your morning meal.'}\n",
      "{'role': '_user', '_content': 'can you give me the recipe for those pancakes?'}\n",
      "{'role': '_llm', '_content': \"Absolutely! Here's a simple and delicious pancake recipe for you to enjoy:\\n\\nIngredients:\\n- 1 cup all-purpose flour\\n- 2 tablespoons granulated sugar\\n- 1 teaspoon baking powder\\n- 1/2 teaspoon baking soda\\n- 1/4 teaspoon salt\\n- 1 cup buttermilk\\n- 1 large egg\\n- 2 tablespoons melted butter\\n- 1 teaspoon vanilla extract\\n- Butter or oil for greasing the pan\\n\\nInstructions:\\n1. In a large mixing bowl, whisk together the flour, sugar, baking powder, baking soda, and salt.\\n2. In a separate bowl, whisk together the buttermilk, egg, melted butter, and vanilla extract.\\n3. Pour the wet ingredients into the dry ingredients and gently stir until just combined. Be careful not to overmix; a few lumps in the batter are okay.\\n4. Let the batter rest for about 5 minutes while you preheat a non-stick skillet or griddle over medium heat.\\n5. Grease the pan with a little butter or oil. Use a 1/4 cup measuring cup to pour the batter onto the pan.\\n6. Cook the pancakes for 2-3 minutes on one side\"}\n",
      "{'role': '_user', '_content': \"I'm vegan. Can you remove the eggs and update that recipe?\"}\n",
      "{'role': '_llm', '_content': \"Absolutely! Here's a vegan version of the pancake recipe for you:\\n\\nIngredients:\\n- 1 cup all-purpose flour\\n- 2 tablespoons granulated sugar\\n- 1 tablespoon baking powder\\n- 1/4 teaspoon salt\\n- 1 cup non-dairy milk (such as almond or soy milk)\\n- 2 tablespoons melted coconut oil or vegetable oil\\n- 1 teaspoon vanilla extract\\n\\nInstructions:\\n1. In a mixing bowl, whisk together the flour, sugar, baking powder, and salt.\\n2. In a separate bowl, whisk together the non-dairy milk, melted coconut oil, and vanilla extract.\\n3. Pour the wet ingredients into the dry ingredients and mix until just combined. Be careful not to overmix; a few lumps in the batter are okay.\\n4. Let the batter rest for about 5 minutes while you preheat a non-stick skillet or griddle over medium heat.\\n5. Grease the pan with a little coconut oil or vegetable oil. Use a 1/4 cup measuring cup to pour the batter onto the pan.\\n6. Cook the pancakes for 2-3 minutes on one side, or until bubbles form on the surface. Flip and cook for another 1-\"}\n"
     ]
    }
   ],
   "source": [
    "for ctx in context:\n",
    "    print(ctx)"
   ]
  },
  {
   "cell_type": "code",
   "execution_count": 27,
   "metadata": {},
   "outputs": [
    {
     "name": "stdout",
     "output_type": "stream",
     "text": [
      "USER:  I changed my mind. Give me the yogurt parfait recipe.\n",
      "LLM:  Of course! Here's a delicious and simple recipe for a yogurt parfait:\n",
      "\n",
      "Ingredients:\n",
      "- 1 cup Greek yogurt (or your favorite non-dairy alternative)\n",
      "- 1/2 cup granola\n",
      "- 1/2 cup mixed berries (such as strawberries, blueberries, raspberries)\n",
      "- 1 tablespoon honey or maple syrup (optional)\n",
      "- A sprinkle of cinnamon (optional)\n",
      "\n",
      "Instructions:\n",
      "1. In a glass or bowl, start with a layer of Greek yogurt at the bottom.\n",
      "2. Add a layer of granola on top of the yogurt.\n",
      "3. Add a layer of mixed berries on top of the granola.\n",
      "4. Repeat the layers until you've used up all the ingredients, finishing with a final sprinkle of granola on top.\n",
      "5. Drizzle honey or maple syrup on top for extra sweetness, if desired.\n",
      "6. Add a sprinkle of cinnamon for extra flavor, if desired.\n",
      "\n",
      "Enjoy your delicious and nutritious yogurt parfait! You can also customize this recipe by adding additional toppings like nuts, seeds, or dried fruit.\n"
     ]
    }
   ],
   "source": [
    "\n",
    "prompt = \"I changed my mind. Give me the yogurt parfait recipe.\"\n",
    "context = user_session.fetch_context(prompt)\n",
    "response = client.converse(prompt=prompt, context=context)\n",
    "user_session.store((prompt, response))\n",
    "print('USER: ', prompt)\n",
    "print('LLM: ', response)"
   ]
  },
  {
   "cell_type": "code",
   "execution_count": 28,
   "metadata": {},
   "outputs": [
    {
     "name": "stdout",
     "output_type": "stream",
     "text": [
      "{'role': '_preamble', '_content': 'You are a helpful chef, assisting people in making delicious meals'}\n",
      "{'role': '_user', '_content': 'can you give me the recipe for those pancakes?'}\n",
      "{'role': '_llm', '_content': \"Absolutely! Here's a simple and delicious pancake recipe for you to enjoy:\\n\\nIngredients:\\n- 1 cup all-purpose flour\\n- 2 tablespoons granulated sugar\\n- 1 teaspoon baking powder\\n- 1/2 teaspoon baking soda\\n- 1/4 teaspoon salt\\n- 1 cup buttermilk\\n- 1 large egg\\n- 2 tablespoons melted butter\\n- 1 teaspoon vanilla extract\\n- Butter or oil for greasing the pan\\n\\nInstructions:\\n1. In a large mixing bowl, whisk together the flour, sugar, baking powder, baking soda, and salt.\\n2. In a separate bowl, whisk together the buttermilk, egg, melted butter, and vanilla extract.\\n3. Pour the wet ingredients into the dry ingredients and gently stir until just combined. Be careful not to overmix; a few lumps in the batter are okay.\\n4. Let the batter rest for about 5 minutes while you preheat a non-stick skillet or griddle over medium heat.\\n5. Grease the pan with a little butter or oil. Use a 1/4 cup measuring cup to pour the batter onto the pan.\\n6. Cook the pancakes for 2-3 minutes on one side\"}\n",
      "{'role': '_user', '_content': \"I'm vegan. Can you remove the eggs and update that recipe?\"}\n",
      "{'role': '_llm', '_content': \"Absolutely! Here's a vegan version of the pancake recipe for you:\\n\\nIngredients:\\n- 1 cup all-purpose flour\\n- 2 tablespoons granulated sugar\\n- 1 tablespoon baking powder\\n- 1/4 teaspoon salt\\n- 1 cup non-dairy milk (such as almond or soy milk)\\n- 2 tablespoons melted coconut oil or vegetable oil\\n- 1 teaspoon vanilla extract\\n\\nInstructions:\\n1. In a mixing bowl, whisk together the flour, sugar, baking powder, and salt.\\n2. In a separate bowl, whisk together the non-dairy milk, melted coconut oil, and vanilla extract.\\n3. Pour the wet ingredients into the dry ingredients and mix until just combined. Be careful not to overmix; a few lumps in the batter are okay.\\n4. Let the batter rest for about 5 minutes while you preheat a non-stick skillet or griddle over medium heat.\\n5. Grease the pan with a little coconut oil or vegetable oil. Use a 1/4 cup measuring cup to pour the batter onto the pan.\\n6. Cook the pancakes for 2-3 minutes on one side, or until bubbles form on the surface. Flip and cook for another 1-\"}\n",
      "{'role': '_user', '_content': 'Can you swap out the bananas for blue berries?'}\n",
      "{'role': '_llm', '_content': \"Of course! You can easily make blueberry pancakes by adding fresh or frozen blueberries to the pancake batter. Here's how you can modify the vegan pancake recipe to include blueberries:\\n\\nIngredients:\\n- 1 cup all-purpose flour\\n- 2 tablespoons granulated sugar\\n- 1 tablespoon baking powder\\n- 1/4 teaspoon salt\\n- 1 cup non-dairy milk (such as almond or soy milk)\\n- 2 tablespoons melted coconut oil or vegetable oil\\n- 1 teaspoon vanilla extract\\n- 1/2 cup fresh or frozen blueberries\\n\\nInstructions:\\n1. Follow the same steps as the vegan pancake recipe above until you have mixed the wet and dry ingredients together.\\n2. Gently fold in the blueberries into the pancake batter until evenly distributed.\\n3. Let the batter rest for about 5 minutes while you preheat a non-stick skillet or griddle over medium heat.\\n4. Grease the pan with a little coconut oil or vegetable oil. Use a 1/4 cup measuring cup to pour the blueberry pancake batter onto the pan.\\n5. Cook the pancakes for 2-3 minutes on one side, or until bubbles form on the surface. Flip and\"}\n"
     ]
    }
   ],
   "source": [
    "for ctx in context:\n",
    "    print(ctx)"
   ]
  },
  {
   "cell_type": "code",
   "execution_count": 29,
   "metadata": {},
   "outputs": [
    {
     "name": "stdout",
     "output_type": "stream",
     "text": [
      "USER:  What are some other recipes that use Greek yogurt?\n",
      "LLM:  Greek yogurt is a versatile ingredient that can be used in many different recipes, both sweet and savory. Here are a few ideas for dishes that feature Greek yogurt:\n",
      "\n",
      "1. Tzatziki Sauce: A classic Greek sauce made with Greek yogurt, cucumber, garlic, lemon juice, and dill. It's perfect as a dip for veggies, pita bread, or as a sauce for grilled meats.\n",
      "\n",
      "2. Greek Yogurt Pancakes: Use Greek yogurt in your pancake batter for a fluffy and protein-packed breakfast. You can also add fruits or nuts to customize the flavor.\n",
      "\n",
      "3. Greek Yogurt Parfait: As mentioned earlier, layer Greek yogurt with granola and fresh fruit for a simple and delicious parfait.\n",
      "\n",
      "4. Greek Yogurt Lemon Chicken: Marinate chicken breasts in a mixture of Greek yogurt, lemon juice, garlic, and herbs before grilling or baking for a tender and flavorful main dish.\n",
      "\n",
      "5. Greek Yogurt Salad Dressing: Blend Greek yogurt with herbs, lemon juice, and olive oil to make a creamy and tangy dressing for salads or as a dip for veggies.\n",
      "\n",
      "These are just a few examples of how you can use Greek yogurt in your cooking. Feel free to get creative and experiment with incorporating it into\n"
     ]
    }
   ],
   "source": [
    "prompt = \"What are some other recipes that use Greek yogurt?\"\n",
    "context = user_session.fetch_context(prompt)\n",
    "response = client.converse(prompt=prompt, context=context)\n",
    "user_session.store((prompt, response))\n",
    "print('USER: ', prompt)\n",
    "print('LLM: ', response)"
   ]
  },
  {
   "cell_type": "code",
   "execution_count": 30,
   "metadata": {},
   "outputs": [
    {
     "name": "stdout",
     "output_type": "stream",
     "text": [
      "{'role': '_preamble', '_content': 'You are a helpful chef, assisting people in making delicious meals'}\n",
      "{'role': '_user', '_content': \"I'm vegan. Can you remove the eggs and update that recipe?\"}\n",
      "{'role': '_llm', '_content': \"Absolutely! Here's a vegan version of the pancake recipe for you:\\n\\nIngredients:\\n- 1 cup all-purpose flour\\n- 2 tablespoons granulated sugar\\n- 1 tablespoon baking powder\\n- 1/4 teaspoon salt\\n- 1 cup non-dairy milk (such as almond or soy milk)\\n- 2 tablespoons melted coconut oil or vegetable oil\\n- 1 teaspoon vanilla extract\\n\\nInstructions:\\n1. In a mixing bowl, whisk together the flour, sugar, baking powder, and salt.\\n2. In a separate bowl, whisk together the non-dairy milk, melted coconut oil, and vanilla extract.\\n3. Pour the wet ingredients into the dry ingredients and mix until just combined. Be careful not to overmix; a few lumps in the batter are okay.\\n4. Let the batter rest for about 5 minutes while you preheat a non-stick skillet or griddle over medium heat.\\n5. Grease the pan with a little coconut oil or vegetable oil. Use a 1/4 cup measuring cup to pour the batter onto the pan.\\n6. Cook the pancakes for 2-3 minutes on one side, or until bubbles form on the surface. Flip and cook for another 1-\"}\n",
      "{'role': '_user', '_content': 'Can you swap out the bananas for blue berries?'}\n",
      "{'role': '_llm', '_content': \"Of course! You can easily make blueberry pancakes by adding fresh or frozen blueberries to the pancake batter. Here's how you can modify the vegan pancake recipe to include blueberries:\\n\\nIngredients:\\n- 1 cup all-purpose flour\\n- 2 tablespoons granulated sugar\\n- 1 tablespoon baking powder\\n- 1/4 teaspoon salt\\n- 1 cup non-dairy milk (such as almond or soy milk)\\n- 2 tablespoons melted coconut oil or vegetable oil\\n- 1 teaspoon vanilla extract\\n- 1/2 cup fresh or frozen blueberries\\n\\nInstructions:\\n1. Follow the same steps as the vegan pancake recipe above until you have mixed the wet and dry ingredients together.\\n2. Gently fold in the blueberries into the pancake batter until evenly distributed.\\n3. Let the batter rest for about 5 minutes while you preheat a non-stick skillet or griddle over medium heat.\\n4. Grease the pan with a little coconut oil or vegetable oil. Use a 1/4 cup measuring cup to pour the blueberry pancake batter onto the pan.\\n5. Cook the pancakes for 2-3 minutes on one side, or until bubbles form on the surface. Flip and\"}\n",
      "{'role': '_user', '_content': 'I changed my mind. Give me the yogurt parfait recipe.'}\n",
      "{'role': '_llm', '_content': \"Of course! Here's a delicious and simple recipe for a yogurt parfait:\\n\\nIngredients:\\n- 1 cup Greek yogurt (or your favorite non-dairy alternative)\\n- 1/2 cup granola\\n- 1/2 cup mixed berries (such as strawberries, blueberries, raspberries)\\n- 1 tablespoon honey or maple syrup (optional)\\n- A sprinkle of cinnamon (optional)\\n\\nInstructions:\\n1. In a glass or bowl, start with a layer of Greek yogurt at the bottom.\\n2. Add a layer of granola on top of the yogurt.\\n3. Add a layer of mixed berries on top of the granola.\\n4. Repeat the layers until you've used up all the ingredients, finishing with a final sprinkle of granola on top.\\n5. Drizzle honey or maple syrup on top for extra sweetness, if desired.\\n6. Add a sprinkle of cinnamon for extra flavor, if desired.\\n\\nEnjoy your delicious and nutritious yogurt parfait! You can also customize this recipe by adding additional toppings like nuts, seeds, or dried fruit.\"}\n"
     ]
    }
   ],
   "source": [
    "for ctx in context:\n",
    "    print(ctx)"
   ]
  },
  {
   "cell_type": "code",
   "execution_count": 31,
   "metadata": {},
   "outputs": [
    {
     "name": "stdout",
     "output_type": "stream",
     "text": [
      "USER:  I changed my mind again. Give me back the yogurt parfait recipe.\n",
      "LLM:  Of course! Here's the yogurt parfait recipe again:\n",
      "\n",
      "Ingredients:\n",
      "- 1 cup Greek yogurt (or your favorite non-dairy alternative)\n",
      "- 1/2 cup granola\n",
      "- 1/2 cup mixed berries (such as strawberries, blueberries, raspberries)\n",
      "- 1 tablespoon honey or maple syrup (optional)\n",
      "- A sprinkle of cinnamon (optional)\n",
      "\n",
      "Instructions:\n",
      "1. In a glass or bowl, start with a layer of Greek yogurt at the bottom.\n",
      "2. Add a layer of granola on top of the yogurt.\n",
      "3. Add a layer of mixed berries on top of the granola.\n",
      "4. Repeat the layers until you've used up all the ingredients, finishing with a final sprinkle of granola on top.\n",
      "5. Drizzle honey or maple syrup on top for extra sweetness, if desired.\n",
      "6. Add a sprinkle of cinnamon for extra flavor, if desired.\n",
      "\n",
      "Enjoy your delicious and nutritious yogurt parfait! Feel free to customize it with your favorite toppings or ingredients to make it your own.\n"
     ]
    }
   ],
   "source": [
    "prompt = \"I changed my mind again. Give me back the yogurt parfait recipe.\"\n",
    "context = user_session.fetch_context(prompt)\n",
    "response = client.converse(prompt=prompt, context=context)\n",
    "user_session.store((prompt, response))\n",
    "print('USER: ', prompt)\n",
    "print('LLM: ', response)"
   ]
  },
  {
   "cell_type": "code",
   "execution_count": 32,
   "metadata": {},
   "outputs": [
    {
     "name": "stdout",
     "output_type": "stream",
     "text": [
      "{'role': '_preamble', '_content': 'You are a helpful chef, assisting people in making delicious meals'}\n",
      "{'role': '_user', '_content': 'I changed my mind. Give me the yogurt parfait recipe.'}\n",
      "{'role': '_llm', '_content': \"Of course! Here's a delicious and simple recipe for a yogurt parfait:\\n\\nIngredients:\\n- 1 cup Greek yogurt (or your favorite non-dairy alternative)\\n- 1/2 cup granola\\n- 1/2 cup mixed berries (such as strawberries, blueberries, raspberries)\\n- 1 tablespoon honey or maple syrup (optional)\\n- A sprinkle of cinnamon (optional)\\n\\nInstructions:\\n1. In a glass or bowl, start with a layer of Greek yogurt at the bottom.\\n2. Add a layer of granola on top of the yogurt.\\n3. Add a layer of mixed berries on top of the granola.\\n4. Repeat the layers until you've used up all the ingredients, finishing with a final sprinkle of granola on top.\\n5. Drizzle honey or maple syrup on top for extra sweetness, if desired.\\n6. Add a sprinkle of cinnamon for extra flavor, if desired.\\n\\nEnjoy your delicious and nutritious yogurt parfait! You can also customize this recipe by adding additional toppings like nuts, seeds, or dried fruit.\"}\n"
     ]
    }
   ],
   "source": [
    "for ctx in context:\n",
    "    print(ctx)"
   ]
  },
  {
   "cell_type": "code",
   "execution_count": null,
   "metadata": {},
   "outputs": [],
   "source": []
  }
 ],
 "metadata": {
  "kernelspec": {
   "display_name": "Python 3",
   "language": "python",
   "name": "python3"
  },
  "language_info": {
   "codemirror_mode": {
    "name": "ipython",
    "version": 3
   },
   "file_extension": ".py",
   "mimetype": "text/x-python",
   "name": "python",
   "nbconvert_exporter": "python",
   "pygments_lexer": "ipython3",
   "version": "3.9.6"
  }
 },
 "nbformat": 4,
 "nbformat_minor": 2
}
