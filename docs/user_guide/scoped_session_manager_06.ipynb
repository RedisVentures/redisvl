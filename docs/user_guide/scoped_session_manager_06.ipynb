{
 "cells": [
  {
   "cell_type": "markdown",
   "metadata": {},
   "source": [
    "# LLM Session Memory - Scope"
   ]
  },
  {
   "cell_type": "markdown",
   "metadata": {},
   "source": [
    "Managing user input requires attention to access patterns and controling which applications can access which pieces of data. To help with this, the `SessionManager` class includes the `scope` parameter that controls the level of shared access.\n",
    "We'll use the example of a travel agent application to illustrate different access levels."
   ]
  },
  {
   "cell_type": "markdown",
   "metadata": {},
   "source": [
    "Start by creating a simple wrapper around your LLM provider of choice. In this case we'll use OpenAI."
   ]
  },
  {
   "cell_type": "code",
   "execution_count": 13,
   "metadata": {},
   "outputs": [],
   "source": [
    "from typing import Dict, List\n",
    "import os\n",
    "from openai import OpenAI\n",
    "\n",
    "class OpenAIClient():\n",
    "    def __init__(self, api_key: str = None, model:str ='gpt-3.5-turbo'):\n",
    "        api_key = api_key or os.getenv(\"OPENAI_API_KEY\")\n",
    "        self.client = OpenAI(api_key=api_key)\n",
    "        self._model = model\n",
    "\n",
    "    def converse(self, prompt: str, context: List[Dict], max_tokens: int = 250) -> str:\n",
    "        context = self._remap(context)\n",
    "        messages = context + [{\"role\": \"user\", \"content\": prompt}]\n",
    "        response = self.client.chat.completions.create(\n",
    "            model = self._model,\n",
    "            messages = messages,\n",
    "            max_tokens = max_tokens\n",
    "        )\n",
    "        return response.choices[0].message.content\n",
    "\n",
    "    def _remap(self, context: List[Dict]) -> List[Dict]:\n",
    "        ''' re-index the chat history to match the OpenAI API requirements '''\n",
    "        new_context = []\n",
    "        for statement in context:\n",
    "            if statement[\"role\"] == \"_user\":\n",
    "                new_statement = {\"role\": \"user\", \"content\": statement[\"_content\"]}\n",
    "            elif statement[\"role\"] == \"_llm\":\n",
    "                new_statement = {\"role\": \"assistant\", \"content\": statement[\"_content\"]}\n",
    "            elif statement[\"role\"] == \"_preamble\":\n",
    "                new_statement = {\"role\": \"system\", \"content\": statement[\"_content\"]}\n",
    "            else:\n",
    "                raise ValueError(f'Unknown chat role {statement[\"role\"]}')\n",
    "            new_context.append(new_statement)\n",
    "        return new_context"
   ]
  },
  {
   "cell_type": "markdown",
   "metadata": {},
   "source": [
    "We'll create 3 different session managers each with different levels of data access.\n",
    "The narrowest scope is `session` where only prompts and responses passed to this manager are retrievable.\n",
    "The next level is `user`, where all sessions of this specific user will be retrievable\n",
    "The highesst level is `application` where all prompts and responses with the same application_id will be retrievable"
   ]
  },
  {
   "cell_type": "code",
   "execution_count": 14,
   "metadata": {},
   "outputs": [],
   "source": [
    "from redisvl.extensions.session_manager import SessionManager\n",
    "local_session = SessionManager(name='example', session_id='123', user_id='abc', application_id='travelbot_app', scope='session')\n",
    "local_session.set_preamble(\"You are a helpful travel agent, assisting people in planning popular vacations\")\n",
    "client = OpenAIClient()"
   ]
  },
  {
   "cell_type": "code",
   "execution_count": 15,
   "metadata": {},
   "outputs": [],
   "source": [
    "def converse(prompt:str, session_mngr: SessionManager):\n",
    "    context = session_mngr.conversation_history()\n",
    "    response = client.converse(prompt=prompt, context=context)\n",
    "    session_mngr.store((prompt, response))\n",
    "    print('USER: ', prompt)\n",
    "    print('\\nLLM: ', response)\n",
    "    print('Conversation:')\n",
    "    for ctx in context:\n",
    "        print(ctx)"
   ]
  },
  {
   "cell_type": "markdown",
   "metadata": {},
   "source": [
    "We can carry on several different conversations and inspect how data is accessible, or not accessible across different session instances."
   ]
  },
  {
   "cell_type": "code",
   "execution_count": 16,
   "metadata": {},
   "outputs": [
    {
     "name": "stdout",
     "output_type": "stream",
     "text": [
      "USER:  Can you help me plan a vacation to Europe?\n",
      "\n",
      "LLM:  Of course! Europe is a fantastic destination with a lot to offer. When are you thinking of traveling, and how long would you like to stay? Also, what are your interests and preferences? This information will help me suggest the best destinations and activities for your trip.\n",
      "Conversation:\n",
      "{'role': '_preamble', '_content': 'You are a helpful travel agent, assisting people in planning popular vacations'}\n"
     ]
    }
   ],
   "source": [
    "converse(\"Can you help me plan a vacation to Scandinavia?\", local_session)"
   ]
  },
  {
   "cell_type": "code",
   "execution_count": 17,
   "metadata": {},
   "outputs": [
    {
     "name": "stdout",
     "output_type": "stream",
     "text": [
      "USER:  I plan to travel this Fall for 2 weeks and really enjoy beautiful hikes. I have a reasonable, but not extravagant budget prefer active vacations.\n",
      "\n",
      "LLM:  Great! With your interest in beautiful hikes and active vacations, Europe has some stunning destinations to offer. Here are some suggestions for your 2-week trip this Fall:\n",
      "\n",
      "1. **Switzerland**: Known for its picturesque landscapes and world-class hiking trails, Switzerland is a hiker's paradise. Consider visiting the Swiss Alps for challenging hikes with breathtaking views. The Jungfrau region and the Bernese Oberland offer some of the most stunning trails in the country.\n",
      "\n",
      "2. **Scotland**: Explore the rugged beauty of the Scottish Highlands with its dramatic landscapes, ancient castles, and scenic trails. The West Highland Way is a popular long-distance hike that showcases the best of Scotland's natural beauty.\n",
      "\n",
      "3. **Norway**: For a truly unique hiking experience, consider exploring the fjords and mountains of Norway. The Trolltunga and Preikestolen hikes offer stunning views and unforgettable experiences.\n",
      "\n",
      "4. **Austria**: The Austrian Alps provide some fantastic hiking opportunities, with trails suitable for all levels of hikers. The region of Tyrol, with its charming villages and alpine scenery, is a great place to explore on foot.\n",
      "\n",
      "5. **Italy**: The Dolomites in northern Italy offer some of the most beautiful hiking trails in Europe. With\n",
      "Conversation:\n",
      "{'role': '_preamble', '_content': 'You are a helpful travel agent, assisting people in planning popular vacations'}\n",
      "{'role': '_user', '_content': 'Can you help me plan a vacation to Europe?'}\n",
      "{'role': '_llm', '_content': 'Of course! Europe is a fantastic destination with a lot to offer. When are you thinking of traveling, and how long would you like to stay? Also, what are your interests and preferences? This information will help me suggest the best destinations and activities for your trip.'}\n"
     ]
    }
   ],
   "source": [
    "converse(\"I plan to travel this Fall for 2 weeks and really enjoy beautiful hikes. I have a reasonable, but not extravagant budget prefer active vacations.\", local_session)"
   ]
  },
  {
   "cell_type": "markdown",
   "metadata": {},
   "source": [
    "Unsurprisingly, the `local_session` mananger has access it it's own conversation history.\n",
    "User level sessions with the same user id, in this case `abc` will also have access.\n",
    "Let's create a new session with the same user, but different session id, and set its scope to `user`"
   ]
  },
  {
   "cell_type": "code",
   "execution_count": 18,
   "metadata": {},
   "outputs": [
    {
     "name": "stdout",
     "output_type": "stream",
     "text": [
      "16:18:15 redisvl.index.index INFO   Index already exists, not overwriting.\n",
      "{'role': '_preamble', '_content': 'You are a helpful travel agent, assisting people in planning popular vacations'}\n",
      "{'role': '_user', '_content': 'Can you help me plan a vacation to Europe?'}\n",
      "{'role': '_llm', '_content': 'Of course! Europe is a fantastic destination with a lot to offer. When are you thinking of traveling, and how long would you like to stay? Also, what are your interests and preferences? This information will help me suggest the best destinations and activities for your trip.'}\n",
      "{'role': '_user', '_content': 'I plan to travel this Fall for 2 weeks and really enjoy beautiful hikes. I have a reasonable, but not extravagant budget prefer active vacations.'}\n",
      "{'role': '_llm', '_content': \"Great! With your interest in beautiful hikes and active vacations, Europe has some stunning destinations to offer. Here are some suggestions for your 2-week trip this Fall:\\n\\n1. **Switzerland**: Known for its picturesque landscapes and world-class hiking trails, Switzerland is a hiker's paradise. Consider visiting the Swiss Alps for challenging hikes with breathtaking views. The Jungfrau region and the Bernese Oberland offer some of the most stunning trails in the country.\\n\\n2. **Scotland**: Explore the rugged beauty of the Scottish Highlands with its dramatic landscapes, ancient castles, and scenic trails. The West Highland Way is a popular long-distance hike that showcases the best of Scotland's natural beauty.\\n\\n3. **Norway**: For a truly unique hiking experience, consider exploring the fjords and mountains of Norway. The Trolltunga and Preikestolen hikes offer stunning views and unforgettable experiences.\\n\\n4. **Austria**: The Austrian Alps provide some fantastic hiking opportunities, with trails suitable for all levels of hikers. The region of Tyrol, with its charming villages and alpine scenery, is a great place to explore on foot.\\n\\n5. **Italy**: The Dolomites in northern Italy offer some of the most beautiful hiking trails in Europe. With\"}\n"
     ]
    }
   ],
   "source": [
    "user_session = SessionManager(name='example', session_id='456', user_id='abc', application_id='travelbot_app', scope='user')\n",
    "user_session.set_preamble(\"You are a helpful travel agent, assisting people in planning popular vacations\")\n",
    "context = user_session.conversation_history()\n",
    "for ctx in context:\n",
    "    print(ctx)"
   ]
  },
  {
   "cell_type": "markdown",
   "metadata": {},
   "source": [
    "We can carry on the conversation here, or switch topics."
   ]
  },
  {
   "cell_type": "code",
   "execution_count": 19,
   "metadata": {},
   "outputs": [
    {
     "name": "stdout",
     "output_type": "stream",
     "text": [
      "USER:  that sounds great for week 1, what about for week 2?\n",
      "\n",
      "LLM:  For your second week in Europe, you might want to consider exploring some culturally rich cities that also offer opportunities for outdoor activities. Here are a few suggestions:\n",
      "\n",
      "1. **Barcelona, Spain**: Barcelona is a vibrant city known for its unique architecture, delicious food, and lively atmosphere. You can take a break from hiking and explore the city's iconic landmarks such as the Sagrada Familia, Park Guell, and La Rambla. You can also relax on the city's beautiful beaches or go for a hike in the nearby mountains of Montserrat.\n",
      "\n",
      "2. **Dubrovnik, Croatia**: Explore the stunning coastal city of Dubrovnik, known for its well-preserved medieval old town and crystal-clear waters. You can walk along the city walls for fantastic views of the Adriatic Sea, take a kayak tour along the coastline, or hike up Mount Srd for panoramic views of the city.\n",
      "\n",
      "3. **Prague, Czech Republic**: Prague is a fairy-tale city with a rich history and beautiful architecture. You can wander through the charming streets of the Old Town, visit Prague Castle, and hike up to Petrin Hill for panoramic views of the city. You can also take a day trip to the nearby Bohemian Switzerland\n",
      "Conversation:\n",
      "{'role': '_preamble', '_content': 'You are a helpful travel agent, assisting people in planning popular vacations'}\n",
      "{'role': '_user', '_content': 'Can you help me plan a vacation to Europe?'}\n",
      "{'role': '_llm', '_content': 'Of course! Europe is a fantastic destination with a lot to offer. When are you thinking of traveling, and how long would you like to stay? Also, what are your interests and preferences? This information will help me suggest the best destinations and activities for your trip.'}\n",
      "{'role': '_user', '_content': 'I plan to travel this Fall for 2 weeks and really enjoy beautiful hikes. I have a reasonable, but not extravagant budget prefer active vacations.'}\n",
      "{'role': '_llm', '_content': \"Great! With your interest in beautiful hikes and active vacations, Europe has some stunning destinations to offer. Here are some suggestions for your 2-week trip this Fall:\\n\\n1. **Switzerland**: Known for its picturesque landscapes and world-class hiking trails, Switzerland is a hiker's paradise. Consider visiting the Swiss Alps for challenging hikes with breathtaking views. The Jungfrau region and the Bernese Oberland offer some of the most stunning trails in the country.\\n\\n2. **Scotland**: Explore the rugged beauty of the Scottish Highlands with its dramatic landscapes, ancient castles, and scenic trails. The West Highland Way is a popular long-distance hike that showcases the best of Scotland's natural beauty.\\n\\n3. **Norway**: For a truly unique hiking experience, consider exploring the fjords and mountains of Norway. The Trolltunga and Preikestolen hikes offer stunning views and unforgettable experiences.\\n\\n4. **Austria**: The Austrian Alps provide some fantastic hiking opportunities, with trails suitable for all levels of hikers. The region of Tyrol, with its charming villages and alpine scenery, is a great place to explore on foot.\\n\\n5. **Italy**: The Dolomites in northern Italy offer some of the most beautiful hiking trails in Europe. With\"}\n"
     ]
    }
   ],
   "source": [
    "converse(\"that sounds great for week 1, what about for week 2?\", user_session)"
   ]
  },
  {
   "cell_type": "markdown",
   "metadata": {},
   "source": [
    "The local session, with narrower scope, won't see this new conversation section."
   ]
  },
  {
   "cell_type": "code",
   "execution_count": 20,
   "metadata": {},
   "outputs": [
    {
     "name": "stdout",
     "output_type": "stream",
     "text": [
      "{'role': '_preamble', '_content': 'You are a helpful travel agent, assisting people in planning popular vacations'}\n",
      "{'role': '_user', '_content': 'Can you help me plan a vacation to Europe?'}\n",
      "{'role': '_llm', '_content': 'Of course! Europe is a fantastic destination with a lot to offer. When are you thinking of traveling, and how long would you like to stay? Also, what are your interests and preferences? This information will help me suggest the best destinations and activities for your trip.'}\n",
      "{'role': '_user', '_content': 'I plan to travel this Fall for 2 weeks and really enjoy beautiful hikes. I have a reasonable, but not extravagant budget prefer active vacations.'}\n",
      "{'role': '_llm', '_content': \"Great! With your interest in beautiful hikes and active vacations, Europe has some stunning destinations to offer. Here are some suggestions for your 2-week trip this Fall:\\n\\n1. **Switzerland**: Known for its picturesque landscapes and world-class hiking trails, Switzerland is a hiker's paradise. Consider visiting the Swiss Alps for challenging hikes with breathtaking views. The Jungfrau region and the Bernese Oberland offer some of the most stunning trails in the country.\\n\\n2. **Scotland**: Explore the rugged beauty of the Scottish Highlands with its dramatic landscapes, ancient castles, and scenic trails. The West Highland Way is a popular long-distance hike that showcases the best of Scotland's natural beauty.\\n\\n3. **Norway**: For a truly unique hiking experience, consider exploring the fjords and mountains of Norway. The Trolltunga and Preikestolen hikes offer stunning views and unforgettable experiences.\\n\\n4. **Austria**: The Austrian Alps provide some fantastic hiking opportunities, with trails suitable for all levels of hikers. The region of Tyrol, with its charming villages and alpine scenery, is a great place to explore on foot.\\n\\n5. **Italy**: The Dolomites in northern Italy offer some of the most beautiful hiking trails in Europe. With\"}\n"
     ]
    }
   ],
   "source": [
    "for ctx in local_session.conversation_history():\n",
    "    print(ctx)"
   ]
  },
  {
   "cell_type": "markdown",
   "metadata": {},
   "source": [
    "Data is still compartmentalized to specific user_ids, so no information is available from different users either."
   ]
  },
  {
   "cell_type": "code",
   "execution_count": 21,
   "metadata": {},
   "outputs": [
    {
     "name": "stdout",
     "output_type": "stream",
     "text": [
      "16:18:21 redisvl.index.index INFO   Index already exists, not overwriting.\n",
      "USER:  I'm planning a trip to southeast Asia. Which country in that region has the best hiking trails?\n",
      "\n",
      "LLM:  Southeast Asia is home to some fantastic hiking trails, but one country that particularly stands out for its diverse and breathtaking landscapes is Nepal. Known for its majestic Himalayan mountain ranges, Nepal offers some of the most iconic trekking routes in the world, including the famous Annapurna Circuit and Everest Base Camp treks. \n",
      "\n",
      "Other countries in Southeast Asia with beautiful hiking trails include Vietnam, with its stunning mountainous regions like Sapa and Dalat, and Thailand, which offers trails through lush jungles and scenic national parks. Indonesia is also worth considering, especially the island of Bali with its volcanic landscapes and terraced rice fields. Each country in the region has its unique charm and appeal for hikers, so the best choice ultimately depends on your preferences and hiking experience level.\n",
      "Conversation:\n",
      "{'role': '_preamble', '_content': ''}\n"
     ]
    }
   ],
   "source": [
    "new_user_session = SessionManager(name='example', session_id='abc', user_id='def', application_id='travelbot_app')\n",
    "converse(\"I'm planning a trip to southeast Asia. Which country in that region has the best hiking trails?\", new_user_session)"
   ]
  },
  {
   "cell_type": "markdown",
   "metadata": {},
   "source": [
    "There are some situations where one would want to see or share data across users."
   ]
  },
  {
   "cell_type": "code",
   "execution_count": 22,
   "metadata": {},
   "outputs": [
    {
     "name": "stdout",
     "output_type": "stream",
     "text": [
      "16:18:25 redisvl.index.index INFO   Index already exists, not overwriting.\n",
      "USER:  based on you previous conversation history, what are the trending vacation places that people are asking you about?\n",
      "\n",
      "LLM:  Based on our previous conversation history, the trending vacation destinations being asked about include:\n",
      "\n",
      "1. Europe (Switzerland, Scotland, Norway, Austria, Italy, Spain, Croatia, Czech Republic)\n",
      "    - Popular for its diverse landscapes, cultural heritage, and outdoor activities such as hiking and sightseeing.\n",
      "\n",
      "2. Southeast Asia (Nepal, Vietnam, Thailand, Indonesia)\n",
      "    - Known for its stunning natural beauty, diverse landscapes, and opportunities for adventurous activities like trekking and exploring.\n",
      "\n",
      "These destinations offer a mix of outdoor adventures, cultural experiences, and scenic beauty, making them attractive options for travelers looking to immerse themselves in new and exciting vacation experiences.\n",
      "Conversation:\n",
      "{'role': '_preamble', '_content': 'You are a data analist working for a travel agency, helping to track, monitor and report vacation trends.'}\n",
      "{'role': '_user', '_content': 'Can you help me plan a vacation to Europe?'}\n",
      "{'role': '_llm', '_content': 'Of course! Europe is a fantastic destination with a lot to offer. When are you thinking of traveling, and how long would you like to stay? Also, what are your interests and preferences? This information will help me suggest the best destinations and activities for your trip.'}\n",
      "{'role': '_user', '_content': 'I plan to travel this Fall for 2 weeks and really enjoy beautiful hikes. I have a reasonable, but not extravagant budget prefer active vacations.'}\n",
      "{'role': '_llm', '_content': \"Great! With your interest in beautiful hikes and active vacations, Europe has some stunning destinations to offer. Here are some suggestions for your 2-week trip this Fall:\\n\\n1. **Switzerland**: Known for its picturesque landscapes and world-class hiking trails, Switzerland is a hiker's paradise. Consider visiting the Swiss Alps for challenging hikes with breathtaking views. The Jungfrau region and the Bernese Oberland offer some of the most stunning trails in the country.\\n\\n2. **Scotland**: Explore the rugged beauty of the Scottish Highlands with its dramatic landscapes, ancient castles, and scenic trails. The West Highland Way is a popular long-distance hike that showcases the best of Scotland's natural beauty.\\n\\n3. **Norway**: For a truly unique hiking experience, consider exploring the fjords and mountains of Norway. The Trolltunga and Preikestolen hikes offer stunning views and unforgettable experiences.\\n\\n4. **Austria**: The Austrian Alps provide some fantastic hiking opportunities, with trails suitable for all levels of hikers. The region of Tyrol, with its charming villages and alpine scenery, is a great place to explore on foot.\\n\\n5. **Italy**: The Dolomites in northern Italy offer some of the most beautiful hiking trails in Europe. With\"}\n",
      "{'role': '_user', '_content': 'that sounds great for week 1, what about for week 2?'}\n",
      "{'role': '_llm', '_content': \"For your second week in Europe, you might want to consider exploring some culturally rich cities that also offer opportunities for outdoor activities. Here are a few suggestions:\\n\\n1. **Barcelona, Spain**: Barcelona is a vibrant city known for its unique architecture, delicious food, and lively atmosphere. You can take a break from hiking and explore the city's iconic landmarks such as the Sagrada Familia, Park Guell, and La Rambla. You can also relax on the city's beautiful beaches or go for a hike in the nearby mountains of Montserrat.\\n\\n2. **Dubrovnik, Croatia**: Explore the stunning coastal city of Dubrovnik, known for its well-preserved medieval old town and crystal-clear waters. You can walk along the city walls for fantastic views of the Adriatic Sea, take a kayak tour along the coastline, or hike up Mount Srd for panoramic views of the city.\\n\\n3. **Prague, Czech Republic**: Prague is a fairy-tale city with a rich history and beautiful architecture. You can wander through the charming streets of the Old Town, visit Prague Castle, and hike up to Petrin Hill for panoramic views of the city. You can also take a day trip to the nearby Bohemian Switzerland\"}\n",
      "{'role': '_user', '_content': \"I'm planning a trip to southeast Asia. Which country in that region has the best hiking trails?\"}\n",
      "{'role': '_llm', '_content': 'Southeast Asia is home to some fantastic hiking trails, but one country that particularly stands out for its diverse and breathtaking landscapes is Nepal. Known for its majestic Himalayan mountain ranges, Nepal offers some of the most iconic trekking routes in the world, including the famous Annapurna Circuit and Everest Base Camp treks. \\n\\nOther countries in Southeast Asia with beautiful hiking trails include Vietnam, with its stunning mountainous regions like Sapa and Dalat, and Thailand, which offers trails through lush jungles and scenic national parks. Indonesia is also worth considering, especially the island of Bali with its volcanic landscapes and terraced rice fields. Each country in the region has its unique charm and appeal for hikers, so the best choice ultimately depends on your preferences and hiking experience level.'}\n"
     ]
    }
   ],
   "source": [
    "\n",
    "app_session = SessionManager(name='example', session_id='789', user_id='def', application_id='travelbot_app', scope='application')\n",
    "app_session.set_preamble(\"You are a data analist working for a travel agency, helping to track, monitor and report vacation trends.\")\n",
    "converse('based on you previous conversation history, what are the trending vacation places that people are asking you about?', app_session)\n",
    "\n"
   ]
  },
  {
   "cell_type": "code",
   "execution_count": 23,
   "metadata": {},
   "outputs": [
    {
     "data": {
      "text/plain": [
       "[{'role': '_preamble',\n",
       "  '_content': 'You are a data analist working for a travel agency, helping to track, monitor and report vacation trends.'},\n",
       " {'role': '_user', '_content': 'Can you help me plan a vacation to Europe?'},\n",
       " {'role': '_llm',\n",
       "  '_content': 'Of course! Europe is a fantastic destination with a lot to offer. When are you thinking of traveling, and how long would you like to stay? Also, what are your interests and preferences? This information will help me suggest the best destinations and activities for your trip.'},\n",
       " {'role': '_user',\n",
       "  '_content': 'I plan to travel this Fall for 2 weeks and really enjoy beautiful hikes. I have a reasonable, but not extravagant budget prefer active vacations.'},\n",
       " {'role': '_llm',\n",
       "  '_content': \"Great! With your interest in beautiful hikes and active vacations, Europe has some stunning destinations to offer. Here are some suggestions for your 2-week trip this Fall:\\n\\n1. **Switzerland**: Known for its picturesque landscapes and world-class hiking trails, Switzerland is a hiker's paradise. Consider visiting the Swiss Alps for challenging hikes with breathtaking views. The Jungfrau region and the Bernese Oberland offer some of the most stunning trails in the country.\\n\\n2. **Scotland**: Explore the rugged beauty of the Scottish Highlands with its dramatic landscapes, ancient castles, and scenic trails. The West Highland Way is a popular long-distance hike that showcases the best of Scotland's natural beauty.\\n\\n3. **Norway**: For a truly unique hiking experience, consider exploring the fjords and mountains of Norway. The Trolltunga and Preikestolen hikes offer stunning views and unforgettable experiences.\\n\\n4. **Austria**: The Austrian Alps provide some fantastic hiking opportunities, with trails suitable for all levels of hikers. The region of Tyrol, with its charming villages and alpine scenery, is a great place to explore on foot.\\n\\n5. **Italy**: The Dolomites in northern Italy offer some of the most beautiful hiking trails in Europe. With\"},\n",
       " {'role': '_user',\n",
       "  '_content': 'that sounds great for week 1, what about for week 2?'},\n",
       " {'role': '_llm',\n",
       "  '_content': \"For your second week in Europe, you might want to consider exploring some culturally rich cities that also offer opportunities for outdoor activities. Here are a few suggestions:\\n\\n1. **Barcelona, Spain**: Barcelona is a vibrant city known for its unique architecture, delicious food, and lively atmosphere. You can take a break from hiking and explore the city's iconic landmarks such as the Sagrada Familia, Park Guell, and La Rambla. You can also relax on the city's beautiful beaches or go for a hike in the nearby mountains of Montserrat.\\n\\n2. **Dubrovnik, Croatia**: Explore the stunning coastal city of Dubrovnik, known for its well-preserved medieval old town and crystal-clear waters. You can walk along the city walls for fantastic views of the Adriatic Sea, take a kayak tour along the coastline, or hike up Mount Srd for panoramic views of the city.\\n\\n3. **Prague, Czech Republic**: Prague is a fairy-tale city with a rich history and beautiful architecture. You can wander through the charming streets of the Old Town, visit Prague Castle, and hike up to Petrin Hill for panoramic views of the city. You can also take a day trip to the nearby Bohemian Switzerland\"},\n",
       " {'role': '_user',\n",
       "  '_content': \"I'm planning a trip to southeast Asia. Which country in that region has the best hiking trails?\"},\n",
       " {'role': '_llm',\n",
       "  '_content': 'Southeast Asia is home to some fantastic hiking trails, but one country that particularly stands out for its diverse and breathtaking landscapes is Nepal. Known for its majestic Himalayan mountain ranges, Nepal offers some of the most iconic trekking routes in the world, including the famous Annapurna Circuit and Everest Base Camp treks. \\n\\nOther countries in Southeast Asia with beautiful hiking trails include Vietnam, with its stunning mountainous regions like Sapa and Dalat, and Thailand, which offers trails through lush jungles and scenic national parks. Indonesia is also worth considering, especially the island of Bali with its volcanic landscapes and terraced rice fields. Each country in the region has its unique charm and appeal for hikers, so the best choice ultimately depends on your preferences and hiking experience level.'},\n",
       " {'role': '_user',\n",
       "  '_content': 'based on you previous conversation history, what are the trending vacation places that people are asking you about?'},\n",
       " {'role': '_llm',\n",
       "  '_content': 'Based on our previous conversation history, the trending vacation destinations being asked about include:\\n\\n1. Europe (Switzerland, Scotland, Norway, Austria, Italy, Spain, Croatia, Czech Republic)\\n    - Popular for its diverse landscapes, cultural heritage, and outdoor activities such as hiking and sightseeing.\\n\\n2. Southeast Asia (Nepal, Vietnam, Thailand, Indonesia)\\n    - Known for its stunning natural beauty, diverse landscapes, and opportunities for adventurous activities like trekking and exploring.\\n\\nThese destinations offer a mix of outdoor adventures, cultural experiences, and scenic beauty, making them attractive options for travelers looking to immerse themselves in new and exciting vacation experiences.'}]"
      ]
     },
     "execution_count": 23,
     "metadata": {},
     "output_type": "execute_result"
    }
   ],
   "source": [
    "app_session.conversation_history()"
   ]
  },
  {
   "cell_type": "code",
   "execution_count": 24,
   "metadata": {},
   "outputs": [],
   "source": [
    "local_session.delete()"
   ]
  },
  {
   "cell_type": "code",
   "execution_count": null,
   "metadata": {},
   "outputs": [],
   "source": []
  }
 ],
 "metadata": {
  "kernelspec": {
   "display_name": "Python 3",
   "language": "python",
   "name": "python3"
  },
  "language_info": {
   "codemirror_mode": {
    "name": "ipython",
    "version": 3
   },
   "file_extension": ".py",
   "mimetype": "text/x-python",
   "name": "python",
   "nbconvert_exporter": "python",
   "pygments_lexer": "ipython3",
   "version": "3.9.6"
  }
 },
 "nbformat": 4,
 "nbformat_minor": 2
}
