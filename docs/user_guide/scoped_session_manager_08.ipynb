{
 "cells": [
  {
   "cell_type": "markdown",
   "metadata": {},
   "source": [
    "# LLM Session Memory - Scope"
   ]
  },
  {
   "cell_type": "markdown",
   "metadata": {},
   "source": [
    "Managing user input requires attention to access patterns and controling which applications can access which pieces of data. To help with this, the `SemanticSessionManager` class includes the `scope` parameter that controls the level of shared access.\n",
    "We'll use the example of a travel agent application to illustrate different access levels."
   ]
  },
  {
   "cell_type": "markdown",
   "metadata": {},
   "source": [
    "Start by creating a simple wrapper around your LLM provider of choice. In this case we'll use OpenAI."
   ]
  },
  {
   "cell_type": "code",
   "execution_count": 1,
   "metadata": {},
   "outputs": [],
   "source": [
    "from typing import Dict, List\n",
    "import os\n",
    "from openai import OpenAI\n",
    "\n",
    "class OpenAIClient():\n",
    "    def __init__(self, api_key: str = None, model:str ='gpt-3.5-turbo'):\n",
    "        api_key = api_key or os.getenv(\"OPENAI_API_KEY\")\n",
    "        self.client = OpenAI(api_key=api_key)\n",
    "        self._model = model\n",
    "\n",
    "    def converse(self, prompt: str, context: List[Dict], max_tokens: int = 250) -> str:\n",
    "        context = self._remap(context)\n",
    "        messages = context + [{\"role\": \"user\", \"content\": prompt}]\n",
    "        response = self.client.chat.completions.create(\n",
    "            model = self._model,\n",
    "            messages = messages,\n",
    "            max_tokens = max_tokens\n",
    "        )\n",
    "        return response.choices[0].message.content\n",
    "\n",
    "    def _remap(self, context: List[Dict]) -> List[Dict]:\n",
    "        ''' re-index the chat history to match the OpenAI API requirements '''\n",
    "        new_context = []\n",
    "        for statement in context:\n",
    "            if statement[\"role\"] == \"_user\":\n",
    "                new_statement = {\"role\": \"user\", \"content\": statement[\"_content\"]}\n",
    "            elif statement[\"role\"] == \"_llm\":\n",
    "                new_statement = {\"role\": \"assistant\", \"content\": statement[\"_content\"]}\n",
    "            elif statement[\"role\"] == \"_preamble\":\n",
    "                new_statement = {\"role\": \"system\", \"content\": statement[\"_content\"]}\n",
    "            else:\n",
    "                raise ValueError(f'Unknown chat role {statement[\"role\"]}')\n",
    "            new_context.append(new_statement)\n",
    "        return new_context"
   ]
  },
  {
   "cell_type": "markdown",
   "metadata": {},
   "source": [
    "We'll create 3 different session managers each with different levels of data access.\n",
    "The narrowest scope is `session` where only prompts and responses passed to this manager are retrievable.\n",
    "The next level is `user`, where all sessions of this specific user will be retrievable\n",
    "The highesst level is `application` where all prompts and responses with the same application_id will be retrievable"
   ]
  },
  {
   "cell_type": "code",
   "execution_count": 2,
   "metadata": {},
   "outputs": [],
   "source": [
    "from redisvl.extensions.session_manager import SemanticSessionManager\n",
    "local_session = SemanticSessionManager(name='example', session_id='123', user_id='abc', scope='session')\n",
    "local_session.set_preamble(\"You are a helpful travel agent, assisting people in planning popular vacations\")\n",
    "client = OpenAIClient()"
   ]
  },
  {
   "cell_type": "code",
   "execution_count": 3,
   "metadata": {},
   "outputs": [],
   "source": [
    "def converse(prompt, session_mngr):\n",
    "    context = session_mngr.fetch_recent()\n",
    "    response = client.converse(prompt=prompt, context=context)\n",
    "    session_mngr.store(prompt, response)\n",
    "    print('USER: ', prompt)\n",
    "    print('\\nLLM: ', response)\n",
    "    print('Conversation:')\n",
    "    for ctx in context:\n",
    "        print(ctx)"
   ]
  },
  {
   "cell_type": "markdown",
   "metadata": {},
   "source": [
    "We can carry on several different conversations and inspect how data is accessible, or not accessible across different session instances."
   ]
  },
  {
   "cell_type": "code",
   "execution_count": 4,
   "metadata": {},
   "outputs": [
    {
     "name": "stdout",
     "output_type": "stream",
     "text": [
      "USER:  Can you help me plan a vacation to Scandinavia?\n",
      "\n",
      "LLM:  Of course! Scandinavia is a beautiful region known for its stunning landscapes, rich history, and vibrant culture. Here are some recommendations for your trip to Scandinavia:\n",
      "\n",
      "1. **Destinations**: Consider visiting cities like Copenhagen in Denmark, Stockholm in Sweden, Oslo in Norway, and Helsinki in Finland. Each city has its own unique charm and attractions worth exploring.\n",
      "\n",
      "2. **Activities**: Enjoy outdoor activities such as hiking in Norway's fjords, exploring the ancient Viking history in Sweden, and visiting historic landmarks like the Royal Palace in Copenhagen. Don't forget to experience the famous sauna culture in Finland!\n",
      "\n",
      "3. **Transportation**: Scandinavia has an efficient transportation system, including trains, buses, and ferries. Consider getting a Scandinavian Rail Pass for easy travel between countries.\n",
      "\n",
      "4. **Accommodation**: There are plenty of accommodation options ranging from luxury hotels to cozy cabins in the wilderness. You can also consider staying in traditional Scandinavian lodgings like a \"hytte\" in Norway or a \"stuga\" in Sweden.\n",
      "\n",
      "5. **Food**: Indulge in traditional Scandinavian cuisine such as Swedish meatballs, Danish smørrebrød, Norwegian salmon, and Finnish reindeer dishes. Don't forget to try the famous pastries like\n",
      "Conversation:\n",
      "{'role': '_preamble', '_content': 'You are a helpful travel agent, assisting people in planning popular vacations'}\n"
     ]
    }
   ],
   "source": [
    "converse(\"Can you help me plan a vacation to Scandinavia?\", local_session)"
   ]
  },
  {
   "cell_type": "code",
   "execution_count": 5,
   "metadata": {},
   "outputs": [
    {
     "name": "stdout",
     "output_type": "stream",
     "text": [
      "USER:  I plan to travel this Fall for 2 weeks and really enjoy beautiful hikes. I have a reasonable, but not extravagant budget prefer active vacations.\n",
      "\n",
      "LLM:  For your fall trip to Scandinavia focusing on beautiful hikes and active vacations, here's a suggested itinerary that combines outdoor adventures, stunning landscapes, and cultural experiences within a reasonable budget:\n",
      "\n",
      "1. **Norway**:\n",
      "   - **Destination**: Start your trip in Oslo, the capital of Norway, and explore the city's museums and parks. Then head to the famous fjords region, such as Geirangerfjord or Nærøyfjord, for breathtaking hikes surrounded by stunning scenery.\n",
      "   - **Activities**: Hike the iconic Trolltunga or Preikestolen trails for panoramic views, and consider taking a scenic train ride on the Flåm Railway.\n",
      "   - **Budget Accommodation**: Stay in budget-friendly hostels or guesthouses in the fjords region or opt for camping to immerse yourself in nature.\n",
      "\n",
      "2. **Sweden**:\n",
      "   - **Destination**: Travel to Stockholm, known for its beautiful archipelago and historic sites. Explore the city's vibrant neighborhoods and museums before heading to the Swedish wilderness.\n",
      "   - **Activities**: Hike in the Swedish Lapland region near Abisko National Park, known for its Northern Lights and stunning trails like the Kungsleden. Consider a canoeing or kay\n",
      "Conversation:\n",
      "{'role': '_preamble', '_content': 'You are a helpful travel agent, assisting people in planning popular vacations'}\n",
      "{'role': '_user', '_content': 'Can you help me plan a vacation to Scandinavia?'}\n",
      "{'role': '_llm', '_content': 'Of course! Scandinavia is a beautiful region known for its stunning landscapes, rich history, and vibrant culture. Here are some recommendations for your trip to Scandinavia:\\n\\n1. **Destinations**: Consider visiting cities like Copenhagen in Denmark, Stockholm in Sweden, Oslo in Norway, and Helsinki in Finland. Each city has its own unique charm and attractions worth exploring.\\n\\n2. **Activities**: Enjoy outdoor activities such as hiking in Norway\\'s fjords, exploring the ancient Viking history in Sweden, and visiting historic landmarks like the Royal Palace in Copenhagen. Don\\'t forget to experience the famous sauna culture in Finland!\\n\\n3. **Transportation**: Scandinavia has an efficient transportation system, including trains, buses, and ferries. Consider getting a Scandinavian Rail Pass for easy travel between countries.\\n\\n4. **Accommodation**: There are plenty of accommodation options ranging from luxury hotels to cozy cabins in the wilderness. You can also consider staying in traditional Scandinavian lodgings like a \"hytte\" in Norway or a \"stuga\" in Sweden.\\n\\n5. **Food**: Indulge in traditional Scandinavian cuisine such as Swedish meatballs, Danish smørrebrød, Norwegian salmon, and Finnish reindeer dishes. Don\\'t forget to try the famous pastries like'}\n"
     ]
    }
   ],
   "source": [
    "converse(\"I plan to travel this Fall for 2 weeks and really enjoy beautiful hikes. I have a reasonable, but not extravagant budget prefer active vacations.\", local_session)"
   ]
  },
  {
   "cell_type": "markdown",
   "metadata": {},
   "source": [
    "Unsurprisingly, the `local_session` mananger has access it it's own conversation history.\n",
    "User level sessions with the same user id, in this case `abc` will also have access.\n",
    "Let's create a new session with the same user, but different session id, and set its scope to `user`"
   ]
  },
  {
   "cell_type": "code",
   "execution_count": 6,
   "metadata": {},
   "outputs": [
    {
     "name": "stdout",
     "output_type": "stream",
     "text": [
      "17:57:33 redisvl.index.index INFO   Index already exists, not overwriting.\n",
      "{'role': '_preamble', '_content': 'You are a helpful travel agent, assisting people in planning popular vacations'}\n",
      "{'role': '_user', '_content': 'Can you help me plan a vacation to Scandinavia?'}\n",
      "{'role': '_llm', '_content': 'Of course! Scandinavia is a beautiful region known for its stunning landscapes, rich history, and vibrant culture. Here are some recommendations for your trip to Scandinavia:\\n\\n1. **Destinations**: Consider visiting cities like Copenhagen in Denmark, Stockholm in Sweden, Oslo in Norway, and Helsinki in Finland. Each city has its own unique charm and attractions worth exploring.\\n\\n2. **Activities**: Enjoy outdoor activities such as hiking in Norway\\'s fjords, exploring the ancient Viking history in Sweden, and visiting historic landmarks like the Royal Palace in Copenhagen. Don\\'t forget to experience the famous sauna culture in Finland!\\n\\n3. **Transportation**: Scandinavia has an efficient transportation system, including trains, buses, and ferries. Consider getting a Scandinavian Rail Pass for easy travel between countries.\\n\\n4. **Accommodation**: There are plenty of accommodation options ranging from luxury hotels to cozy cabins in the wilderness. You can also consider staying in traditional Scandinavian lodgings like a \"hytte\" in Norway or a \"stuga\" in Sweden.\\n\\n5. **Food**: Indulge in traditional Scandinavian cuisine such as Swedish meatballs, Danish smørrebrød, Norwegian salmon, and Finnish reindeer dishes. Don\\'t forget to try the famous pastries like'}\n",
      "{'role': '_user', '_content': 'I plan to travel this Fall for 2 weeks and really enjoy beautiful hikes. I have a reasonable, but not extravagant budget prefer active vacations.'}\n",
      "{'role': '_llm', '_content': \"For your fall trip to Scandinavia focusing on beautiful hikes and active vacations, here's a suggested itinerary that combines outdoor adventures, stunning landscapes, and cultural experiences within a reasonable budget:\\n\\n1. **Norway**:\\n   - **Destination**: Start your trip in Oslo, the capital of Norway, and explore the city's museums and parks. Then head to the famous fjords region, such as Geirangerfjord or Nærøyfjord, for breathtaking hikes surrounded by stunning scenery.\\n   - **Activities**: Hike the iconic Trolltunga or Preikestolen trails for panoramic views, and consider taking a scenic train ride on the Flåm Railway.\\n   - **Budget Accommodation**: Stay in budget-friendly hostels or guesthouses in the fjords region or opt for camping to immerse yourself in nature.\\n\\n2. **Sweden**:\\n   - **Destination**: Travel to Stockholm, known for its beautiful archipelago and historic sites. Explore the city's vibrant neighborhoods and museums before heading to the Swedish wilderness.\\n   - **Activities**: Hike in the Swedish Lapland region near Abisko National Park, known for its Northern Lights and stunning trails like the Kungsleden. Consider a canoeing or kay\"}\n"
     ]
    }
   ],
   "source": [
    "user_session = SemanticSessionManager(name='example', session_id='456', user_id='abc', scope='user')\n",
    "user_session.set_preamble(\"You are a helpful travel agent, assisting people in planning popular vacations\")\n",
    "context = user_session.fetch_recent()\n",
    "for ctx in context:\n",
    "    print(ctx)"
   ]
  },
  {
   "cell_type": "markdown",
   "metadata": {},
   "source": [
    "We can carry on the conversation here, or switch topics."
   ]
  },
  {
   "cell_type": "code",
   "execution_count": 7,
   "metadata": {},
   "outputs": [
    {
     "name": "stdout",
     "output_type": "stream",
     "text": [
      "USER:  that sounds great for week 1, what about for week 2?\n",
      "\n",
      "LLM:  For the second week of your fall trip to Scandinavia, here are some suggestions for a continuation of your active vacation:\n",
      "\n",
      "3. **Finland**:\n",
      "   - **Destination**: Fly from Stockholm to Helsinki, the capital of Finland, and explore the city's vibrant art and design scene. Consider a day trip to the nearby Nuuksio National Park for hiking trails through forests and lakes.\n",
      "   - **Activities**: Experience the Finnish sauna tradition and possibly go on a guided hiking tour in Lapland to explore the Arctic wilderness. Don't miss the chance to see the Northern Lights if you're lucky.\n",
      "   - **Budget Accommodation**: Stay in cozy guesthouses or cottages in Lapland or opt for a wilderness cabin experience for a truly immersive outdoor stay.\n",
      "\n",
      "4. **Denmark**:\n",
      "   - **Destination**: Fly from Helsinki to Copenhagen, Denmark's capital known for its historic sites, colorful waterfront, and charming neighborhoods. Spend a couple of days exploring the city's attractions.\n",
      "   - **Activities**: Consider taking a day trip to the nearby Møns Klint cliffs for scenic coastal hikes or rent a bike to explore Copenhagen like a local. Don't miss trying Danish specialties like smørrebrød and pastries.\n",
      "   -\n",
      "Conversation:\n",
      "{'role': '_preamble', '_content': 'You are a helpful travel agent, assisting people in planning popular vacations'}\n",
      "{'role': '_user', '_content': 'Can you help me plan a vacation to Scandinavia?'}\n",
      "{'role': '_llm', '_content': 'Of course! Scandinavia is a beautiful region known for its stunning landscapes, rich history, and vibrant culture. Here are some recommendations for your trip to Scandinavia:\\n\\n1. **Destinations**: Consider visiting cities like Copenhagen in Denmark, Stockholm in Sweden, Oslo in Norway, and Helsinki in Finland. Each city has its own unique charm and attractions worth exploring.\\n\\n2. **Activities**: Enjoy outdoor activities such as hiking in Norway\\'s fjords, exploring the ancient Viking history in Sweden, and visiting historic landmarks like the Royal Palace in Copenhagen. Don\\'t forget to experience the famous sauna culture in Finland!\\n\\n3. **Transportation**: Scandinavia has an efficient transportation system, including trains, buses, and ferries. Consider getting a Scandinavian Rail Pass for easy travel between countries.\\n\\n4. **Accommodation**: There are plenty of accommodation options ranging from luxury hotels to cozy cabins in the wilderness. You can also consider staying in traditional Scandinavian lodgings like a \"hytte\" in Norway or a \"stuga\" in Sweden.\\n\\n5. **Food**: Indulge in traditional Scandinavian cuisine such as Swedish meatballs, Danish smørrebrød, Norwegian salmon, and Finnish reindeer dishes. Don\\'t forget to try the famous pastries like'}\n",
      "{'role': '_user', '_content': 'I plan to travel this Fall for 2 weeks and really enjoy beautiful hikes. I have a reasonable, but not extravagant budget prefer active vacations.'}\n",
      "{'role': '_llm', '_content': \"For your fall trip to Scandinavia focusing on beautiful hikes and active vacations, here's a suggested itinerary that combines outdoor adventures, stunning landscapes, and cultural experiences within a reasonable budget:\\n\\n1. **Norway**:\\n   - **Destination**: Start your trip in Oslo, the capital of Norway, and explore the city's museums and parks. Then head to the famous fjords region, such as Geirangerfjord or Nærøyfjord, for breathtaking hikes surrounded by stunning scenery.\\n   - **Activities**: Hike the iconic Trolltunga or Preikestolen trails for panoramic views, and consider taking a scenic train ride on the Flåm Railway.\\n   - **Budget Accommodation**: Stay in budget-friendly hostels or guesthouses in the fjords region or opt for camping to immerse yourself in nature.\\n\\n2. **Sweden**:\\n   - **Destination**: Travel to Stockholm, known for its beautiful archipelago and historic sites. Explore the city's vibrant neighborhoods and museums before heading to the Swedish wilderness.\\n   - **Activities**: Hike in the Swedish Lapland region near Abisko National Park, known for its Northern Lights and stunning trails like the Kungsleden. Consider a canoeing or kay\"}\n"
     ]
    }
   ],
   "source": [
    "converse(\"that sounds great for week 1, what about for week 2?\", user_session)"
   ]
  },
  {
   "cell_type": "markdown",
   "metadata": {},
   "source": [
    "The local session, with narrower scope, won't see this new conversation section."
   ]
  },
  {
   "cell_type": "code",
   "execution_count": 8,
   "metadata": {},
   "outputs": [
    {
     "name": "stdout",
     "output_type": "stream",
     "text": [
      "{'role': '_preamble', '_content': 'You are a helpful travel agent, assisting people in planning popular vacations'}\n",
      "{'role': '_user', '_content': 'Can you help me plan a vacation to Scandinavia?'}\n",
      "{'role': '_llm', '_content': 'Of course! Scandinavia is a beautiful region known for its stunning landscapes, rich history, and vibrant culture. Here are some recommendations for your trip to Scandinavia:\\n\\n1. **Destinations**: Consider visiting cities like Copenhagen in Denmark, Stockholm in Sweden, Oslo in Norway, and Helsinki in Finland. Each city has its own unique charm and attractions worth exploring.\\n\\n2. **Activities**: Enjoy outdoor activities such as hiking in Norway\\'s fjords, exploring the ancient Viking history in Sweden, and visiting historic landmarks like the Royal Palace in Copenhagen. Don\\'t forget to experience the famous sauna culture in Finland!\\n\\n3. **Transportation**: Scandinavia has an efficient transportation system, including trains, buses, and ferries. Consider getting a Scandinavian Rail Pass for easy travel between countries.\\n\\n4. **Accommodation**: There are plenty of accommodation options ranging from luxury hotels to cozy cabins in the wilderness. You can also consider staying in traditional Scandinavian lodgings like a \"hytte\" in Norway or a \"stuga\" in Sweden.\\n\\n5. **Food**: Indulge in traditional Scandinavian cuisine such as Swedish meatballs, Danish smørrebrød, Norwegian salmon, and Finnish reindeer dishes. Don\\'t forget to try the famous pastries like'}\n",
      "{'role': '_user', '_content': 'I plan to travel this Fall for 2 weeks and really enjoy beautiful hikes. I have a reasonable, but not extravagant budget prefer active vacations.'}\n",
      "{'role': '_llm', '_content': \"For your fall trip to Scandinavia focusing on beautiful hikes and active vacations, here's a suggested itinerary that combines outdoor adventures, stunning landscapes, and cultural experiences within a reasonable budget:\\n\\n1. **Norway**:\\n   - **Destination**: Start your trip in Oslo, the capital of Norway, and explore the city's museums and parks. Then head to the famous fjords region, such as Geirangerfjord or Nærøyfjord, for breathtaking hikes surrounded by stunning scenery.\\n   - **Activities**: Hike the iconic Trolltunga or Preikestolen trails for panoramic views, and consider taking a scenic train ride on the Flåm Railway.\\n   - **Budget Accommodation**: Stay in budget-friendly hostels or guesthouses in the fjords region or opt for camping to immerse yourself in nature.\\n\\n2. **Sweden**:\\n   - **Destination**: Travel to Stockholm, known for its beautiful archipelago and historic sites. Explore the city's vibrant neighborhoods and museums before heading to the Swedish wilderness.\\n   - **Activities**: Hike in the Swedish Lapland region near Abisko National Park, known for its Northern Lights and stunning trails like the Kungsleden. Consider a canoeing or kay\"}\n"
     ]
    }
   ],
   "source": [
    "for ctx in local_session.fetch_recent():\n",
    "    print(ctx)"
   ]
  },
  {
   "cell_type": "markdown",
   "metadata": {},
   "source": [
    "Data is still compartmentalized to specific user_ids, so no information is available from different users either."
   ]
  },
  {
   "cell_type": "code",
   "execution_count": 9,
   "metadata": {},
   "outputs": [
    {
     "name": "stdout",
     "output_type": "stream",
     "text": [
      "17:57:39 redisvl.index.index INFO   Index already exists, not overwriting.\n",
      "USER:  I'm planning a trip to southeast Asia. Which country in that region has the best hiking trails?\n",
      "\n",
      "LLM:  Southeast Asia is a diverse region with many great hiking destinations. One country that is known for its beautiful hiking trails is Vietnam. In Vietnam, you can explore the stunning landscapes of Sapa, with its terraced rice fields and lush green mountains. The trek to the summit of Fansipan, the highest peak in Indochina, is also a popular challenge for hikers.\n",
      "\n",
      "Another great hiking destination in Southeast Asia is Thailand. The northern region of Thailand, particularly around Chiang Mai and Chiang Rai, offers a variety of hiking trails through lush jungles, past waterfalls, and to remote hill tribe villages.\n",
      "\n",
      "Indonesia is another country with amazing hiking opportunities, especially on the islands of Bali, Java, and Sumatra. In Bali, you can hike to the top of Mount Batur for a sunrise view over the island, while in Java, you can trek to the crater of Mount Bromo for a unique experience.\n",
      "\n",
      "Overall, all of these countries offer unique and rewarding hiking experiences, so you can choose based on your preferences and the specific kind of scenery you are looking to explore.\n",
      "Conversation:\n",
      "{'role': '_preamble', '_content': ''}\n"
     ]
    }
   ],
   "source": [
    "new_user_session = SemanticSessionManager(name='example', session_id='abc', user_id='def')\n",
    "converse(\"I'm planning a trip to southeast Asia. Which country in that region has the best hiking trails?\", new_user_session)"
   ]
  },
  {
   "cell_type": "markdown",
   "metadata": {},
   "source": [
    "There are some situations where one would want to see or share data across users."
   ]
  },
  {
   "cell_type": "code",
   "execution_count": 12,
   "metadata": {},
   "outputs": [
    {
     "name": "stdout",
     "output_type": "stream",
     "text": [
      "17:58:10 redisvl.index.index INFO   Index already exists, not overwriting.\n",
      "USER:  based on you previous conversation history, what are the trending vacation places that people are asking you about?\n",
      "\n",
      "LLM:  Based on previous conversations and data analysis, the trending vacation destinations that people are asking about include:\n",
      "\n",
      "1. Japan - Many travelers are interested in exploring the rich culture, delicious cuisine, and unique attractions of Japan, including Tokyo, Kyoto, Osaka, and the scenic countryside.\n",
      "\n",
      "2. Iceland - The stunning natural landscapes of Iceland, including waterfalls, glaciers, hot springs, and the Northern Lights, have been drawing a lot of interest from travelers seeking adventure and natural beauty.\n",
      "\n",
      "3. National Parks in the United States - Visiting national parks such as Yellowstone, Grand Canyon, Yosemite, and Zion has been a popular choice for travelers looking to experience the great outdoors and explore the diverse landscapes of the U.S.\n",
      "\n",
      "4. Italy - The historic cities, beautiful coastlines, and delicious food of Italy continue to attract travelers who are interested in art, history, and culture.\n",
      "\n",
      "5. Southeast Asia - As mentioned earlier, Southeast Asia remains a favorite destination for travelers looking to explore diverse cultures, delicious cuisine, and stunning landscapes in countries like Vietnam, Thailand, Indonesia, and more.\n",
      "\n",
      "These trending vacation destinations offer a mix of cultural experiences, natural beauty, and adventure opportunities, catering to a wide range of traveler preferences.\n",
      "Conversation:\n",
      "{'role': '_preamble', '_content': 'You are a data analist working for a travel agency, helping to track, monitor and report vacation trends.'}\n",
      "{'role': '_user', '_content': \"I'm planning a trip to southeast Asia. Which country in that region has the best hiking trails?\"}\n",
      "{'role': '_llm', '_content': 'Southeast Asia is a diverse region with many great hiking destinations. One country that is known for its beautiful hiking trails is Vietnam. In Vietnam, you can explore the stunning landscapes of Sapa, with its terraced rice fields and lush green mountains. The trek to the summit of Fansipan, the highest peak in Indochina, is also a popular challenge for hikers.\\n\\nAnother great hiking destination in Southeast Asia is Thailand. The northern region of Thailand, particularly around Chiang Mai and Chiang Rai, offers a variety of hiking trails through lush jungles, past waterfalls, and to remote hill tribe villages.\\n\\nIndonesia is another country with amazing hiking opportunities, especially on the islands of Bali, Java, and Sumatra. In Bali, you can hike to the top of Mount Batur for a sunrise view over the island, while in Java, you can trek to the crater of Mount Bromo for a unique experience.\\n\\nOverall, all of these countries offer unique and rewarding hiking experiences, so you can choose based on your preferences and the specific kind of scenery you are looking to explore.'}\n"
     ]
    }
   ],
   "source": [
    "\n",
    "app_session = SemanticSessionManager(name='example', session_id='789', user_id='def', scope='application')\n",
    "app_session.set_preamble(\"You are a data analist working for a travel agency, helping to track, monitor and report vacation trends.\")\n",
    "converse('based on you previous conversation history, what are the trending vacation places that people are asking you about?', app_session)\n",
    "\n"
   ]
  },
  {
   "cell_type": "code",
   "execution_count": 13,
   "metadata": {},
   "outputs": [
    {
     "data": {
      "text/plain": [
       "[{'role': '_preamble',\n",
       "  '_content': 'You are a data analist working for a travel agency, helping to track, monitor and report vacation trends.'},\n",
       " {'role': '_user',\n",
       "  '_content': \"I'm planning a trip to southeast Asia. Which country in that region has the best hiking trails?\"},\n",
       " {'role': '_llm',\n",
       "  '_content': 'Southeast Asia is a diverse region with many great hiking destinations. One country that is known for its beautiful hiking trails is Vietnam. In Vietnam, you can explore the stunning landscapes of Sapa, with its terraced rice fields and lush green mountains. The trek to the summit of Fansipan, the highest peak in Indochina, is also a popular challenge for hikers.\\n\\nAnother great hiking destination in Southeast Asia is Thailand. The northern region of Thailand, particularly around Chiang Mai and Chiang Rai, offers a variety of hiking trails through lush jungles, past waterfalls, and to remote hill tribe villages.\\n\\nIndonesia is another country with amazing hiking opportunities, especially on the islands of Bali, Java, and Sumatra. In Bali, you can hike to the top of Mount Batur for a sunrise view over the island, while in Java, you can trek to the crater of Mount Bromo for a unique experience.\\n\\nOverall, all of these countries offer unique and rewarding hiking experiences, so you can choose based on your preferences and the specific kind of scenery you are looking to explore.'},\n",
       " {'role': '_user',\n",
       "  '_content': 'based on you previous conversation history, what are the trending vacation places that people are asking you about?'},\n",
       " {'role': '_llm',\n",
       "  '_content': 'Based on previous conversations and data analysis, the trending vacation destinations that people are asking about include:\\n\\n1. Japan - Many travelers are interested in exploring the rich culture, delicious cuisine, and unique attractions of Japan, including Tokyo, Kyoto, Osaka, and the scenic countryside.\\n\\n2. Iceland - The stunning natural landscapes of Iceland, including waterfalls, glaciers, hot springs, and the Northern Lights, have been drawing a lot of interest from travelers seeking adventure and natural beauty.\\n\\n3. National Parks in the United States - Visiting national parks such as Yellowstone, Grand Canyon, Yosemite, and Zion has been a popular choice for travelers looking to experience the great outdoors and explore the diverse landscapes of the U.S.\\n\\n4. Italy - The historic cities, beautiful coastlines, and delicious food of Italy continue to attract travelers who are interested in art, history, and culture.\\n\\n5. Southeast Asia - As mentioned earlier, Southeast Asia remains a favorite destination for travelers looking to explore diverse cultures, delicious cuisine, and stunning landscapes in countries like Vietnam, Thailand, Indonesia, and more.\\n\\nThese trending vacation destinations offer a mix of cultural experiences, natural beauty, and adventure opportunities, catering to a wide range of traveler preferences.'}]"
      ]
     },
     "execution_count": 13,
     "metadata": {},
     "output_type": "execute_result"
    }
   ],
   "source": [
    "app_session.fetch_recent()"
   ]
  },
  {
   "cell_type": "code",
   "execution_count": 14,
   "metadata": {},
   "outputs": [],
   "source": [
    "local_session.delete()"
   ]
  },
  {
   "cell_type": "code",
   "execution_count": null,
   "metadata": {},
   "outputs": [],
   "source": []
  }
 ],
 "metadata": {
  "kernelspec": {
   "display_name": "Python 3",
   "language": "python",
   "name": "python3"
  },
  "language_info": {
   "codemirror_mode": {
    "name": "ipython",
    "version": 3
   },
   "file_extension": ".py",
   "mimetype": "text/x-python",
   "name": "python",
   "nbconvert_exporter": "python",
   "pygments_lexer": "ipython3",
   "version": "3.12.2"
  }
 },
 "nbformat": 4,
 "nbformat_minor": 2
}
